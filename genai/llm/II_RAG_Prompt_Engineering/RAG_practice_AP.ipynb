{
 "cells": [
  {
   "cell_type": "markdown",
   "id": "b5f6c6be-9c64-4b3c-9c2e-c4c6c3ff0846",
   "metadata": {},
   "source": [
    "# Import"
   ]
  },
  {
   "cell_type": "code",
   "execution_count": 1,
   "id": "0cd5f1a7-8770-49d8-a229-8c62cae06b2f",
   "metadata": {},
   "outputs": [],
   "source": [
    "import torch\n",
    "from transformers import AutoModelForCausalLM, AutoTokenizer, pipeline\n",
    "\n",
    "from langchain_core.documents import Document # 3 para\n",
    "from typing import List, Dict\n",
    "\n",
    "import glob\n",
    "from langchain.document_loaders import TextLoader, PyPDFLoader\n",
    "from langchain.embeddings.sentence_transformer import SentenceTransformerEmbeddings\n",
    "from langchain.text_splitter import CharacterTextSplitter\n",
    "from langchain.vectorstores.pgvector import PGVector\n",
    "\n",
    "import sqlalchemy\n",
    "import numpy as np\n",
    "import pprint\n",
    "\n",
    "import re"
   ]
  },
  {
   "cell_type": "markdown",
   "id": "ce086cf7-8544-4301-b3ac-1d47cfa1ad61",
   "metadata": {},
   "source": [
    "# Set up model"
   ]
  },
  {
   "cell_type": "code",
   "execution_count": 2,
   "id": "c596cd8e-8bce-4ec2-9854-1149e08aa95c",
   "metadata": {},
   "outputs": [],
   "source": [
    "# THE FIRST TIME YOU RUN THIS, IT MIGHT TAKE A WHILE\n",
    "\n",
    "model_path_or_id = \"mistralai/Mistral-7B-Instruct-v0.1\"\n",
    "tokenizer = AutoTokenizer.from_pretrained(model_path_or_id)\n",
    "model = AutoModelForCausalLM.from_pretrained(\n",
    "    model_path_or_id,\n",
    "    low_cpu_mem_usage=True,\n",
    "    torch_dtype=torch.float16,\n",
    "    bnb_4bit_compute_dtype=torch.float16,\n",
    "    use_flash_attention_2=True,\n",
    "    load_in_4bit=True\n",
    ")\n"
   ]
  },
  {
   "cell_type": "markdown",
   "id": "36ff1d12-8e37-46f8-b77a-613f75281e69",
   "metadata": {},
   "source": [
    "## LoRA instead"
   ]
  },
  {
   "cell_type": "code",
   "execution_count": 3,
   "id": "d9d15784-e2c4-4940-a76a-42f8749e6b6c",
   "metadata": {},
   "outputs": [],
   "source": [
    "from typing import List, Dict\n",
    "from langchain.vectorstores.pgvector import PGVector\n",
    "\n",
    "from langchain.embeddings.sentence_transformer import SentenceTransformerEmbeddings\n",
    "\n",
    "from peft import AutoPeftModelForCausalLM\n",
    "import torch\n",
    "from transformers import AutoModelForCausalLM, AutoTokenizer, BitsAndBytesConfig"
   ]
  },
  {
   "cell_type": "code",
   "execution_count": 4,
   "id": "66ba5cb6-0d6c-45e4-a2f9-fd64db03cdf2",
   "metadata": {},
   "outputs": [
    {
     "name": "stderr",
     "output_type": "stream",
     "text": [
      "The model was loaded with use_flash_attention_2=True, which is deprecated and may be removed in a future release. Please use `attn_implementation=\"flash_attention_2\"` instead.\n"
     ]
    },
    {
     "data": {
      "application/json": {
       "ascii": false,
       "bar_format": null,
       "colour": null,
       "elapsed": 0.005070209503173828,
       "initial": 0,
       "n": 0,
       "ncols": null,
       "nrows": 33,
       "postfix": null,
       "prefix": "Loading checkpoint shards",
       "rate": null,
       "total": 2,
       "unit": "it",
       "unit_divisor": 1000,
       "unit_scale": false
      },
      "application/vnd.jupyter.widget-view+json": {
       "model_id": "429bad1e79b34556bbd438255e90f46e",
       "version_major": 2,
       "version_minor": 0
      },
      "text/plain": [
       "Loading checkpoint shards:   0%|          | 0/2 [00:00<?, ?it/s]"
      ]
     },
     "metadata": {},
     "output_type": "display_data"
    }
   ],
   "source": [
    "lora_path = \"../III_Finetuning_For_RAG/mistral-7b-int4-dolly_summarization_r8_a16_ep1_LR1e3_qkvo_fixedtokens\"\n",
    "\n",
    "bnb_config = BitsAndBytesConfig(\n",
    "    load_in_4bit=True,\n",
    "    bnb_4bit_use_double_quant=False,\n",
    "    bnb_4bit_quant_type=\"nf4\",\n",
    "    bnb_4bit_compute_dtype=torch.bfloat16\n",
    ")\n",
    "\n",
    "if lora_path:\n",
    "    # load base LLM model with PEFT Adapter\n",
    "    model = AutoPeftModelForCausalLM.from_pretrained(\n",
    "        lora_path,\n",
    "        low_cpu_mem_usage=True,\n",
    "        torch_dtype=torch.float16,\n",
    "        use_flash_attention_2=True,\n",
    "        quantization_config = bnb_config\n",
    "    )\n",
    "    # tokenizer = AutoTokenizer.from_pretrained(lora_path)\n",
    "    tokenizer = AutoTokenizer.from_pretrained(lora_path, padding_side='right')\n",
    "else:\n",
    "    model = AutoModelForCausalLM.from_pretrained(\n",
    "        model_path_or_id,\n",
    "        low_cpu_mem_usage=True,\n",
    "        torch_dtype=torch.float16,\n",
    "        use_flash_attention_2=True,\n",
    "        quantization_config = bnb_config\n",
    "    )\n",
    "    # tokenizer = AutoTokenizer.from_pretrained(model_path_or_id)\n",
    "    tokenizer = AutoTokenizer.from_pretrained(model_path_or_id, padding_side='right')"
   ]
  },
  {
   "cell_type": "markdown",
   "id": "c4101933-7cb3-4be3-be68-f6ee9b03b51a",
   "metadata": {},
   "source": [
    "# Database strings"
   ]
  },
  {
   "cell_type": "code",
   "execution_count": 2,
   "id": "56d70ab2-a35e-4b7c-9cc5-c0ea50cfafc3",
   "metadata": {},
   "outputs": [],
   "source": [
    "# The connection to the database\n",
    "CONNECTION_STRING = PGVector.connection_string_from_db_params(\n",
    "    driver= \"psycopg2\",\n",
    "    host = \"localhost\",\n",
    "    port = \"5432\",\n",
    "    database = \"postgres\",\n",
    "    user= \"username\",\n",
    "    password=\"password\"\n",
    ")\n",
    "\n",
    "# The embedding function that will be used to store into the database\n",
    "embedding_function = SentenceTransformerEmbeddings(\n",
    "    model_name=\"BAAI/bge-large-en-v1.5\",\n",
    "    model_kwargs = {'device': 'cuda'},\n",
    "    encode_kwargs = {'normalize_embeddings': True}\n",
    ")\n",
    "\n",
    "# Creates the database connection to our existing DB\n",
    "db = PGVector(\n",
    "    connection_string = CONNECTION_STRING,\n",
    "    collection_name = \"embeddings\",\n",
    "    embedding_function = embedding_function,\n",
    "    pre_delete_collection = True, # uncomment this to delete existing database first    \n",
    ")"
   ]
  },
  {
   "cell_type": "markdown",
   "id": "3ecbcd55-acb6-454f-b26c-56c5bd71b9ec",
   "metadata": {
    "tags": []
   },
   "source": [
    "# Chunk documents"
   ]
  },
  {
   "cell_type": "markdown",
   "id": "2799b4ef-a58c-4ad4-9608-5da1c5089a93",
   "metadata": {},
   "source": [
    "## `chunk_documents()`"
   ]
  },
  {
   "cell_type": "code",
   "execution_count": 6,
   "id": "fe468d78-ee01-4c03-ba9b-adb9ccdcf65a",
   "metadata": {},
   "outputs": [],
   "source": [
    "def chunk_document(doc_path: str) -> List[Document]:\n",
    "    \"\"\"Chunk a document into smaller langchain Documents for embedding.\n",
    "\n",
    "    :param doc_path: path to document\n",
    "    :type doc_path: str\n",
    "    :return: List of Document chunks\n",
    "    :rtype: List[Document]\n",
    "    \"\"\"\n",
    "    loader = PyPDFLoader(doc_path)\n",
    "    documents = loader.load()\n",
    "\n",
    "    # split document based on the `\\n\\n` character, quite unintuitive\n",
    "    # https://stackoverflow.com/questions/76633836/what-does-langchain-charactertextsplitters-chunk-size-param-even-do\n",
    "    # text_splitter = CharacterTextSplitter(chunk_size=1000, chunk_overlap=0) # default\n",
    "    text_splitter = CharacterTextSplitter(chunk_size=500, chunk_overlap=0)\n",
    "    \n",
    "    return text_splitter.split_documents(documents)"
   ]
  },
  {
   "cell_type": "code",
   "execution_count": 4,
   "id": "2b26cacf-224c-4732-86e5-53d618160a94",
   "metadata": {},
   "outputs": [],
   "source": [
    "def chunk_document(doc_path: str) -> List[Document]:\n",
    "    \"\"\"Chunk a document into smaller langchain Documents for embedding.\n",
    "\n",
    "    :param doc_path: path to document\n",
    "    :type doc_path: str\n",
    "    :return: List of Document chunks\n",
    "    :rtype: List[Document]\n",
    "    \"\"\"\n",
    "    loader = PyPDFLoader(doc_path)\n",
    "    documents = loader.load()\n",
    "\n",
    "    # split document based on the `\\n\\n` character, quite unintuitive\n",
    "    # https://stackoverflow.com/questions/76633836/what-does-langchain-charactertextsplitters-chunk-size-param-even-do\n",
    "    text_splitter = CharacterTextSplitter(chunk_size=1000, chunk_overlap=0) # default\n",
    "    # text_splitter = CharacterTextSplitter(chunk_size=500, chunk_overlap=0)\n",
    "    \n",
    "    return text_splitter.split_documents(documents)"
   ]
  },
  {
   "cell_type": "code",
   "execution_count": null,
   "id": "e9c82671-36f0-4d65-baf3-e8ac05a54613",
   "metadata": {},
   "outputs": [],
   "source": []
  },
  {
   "cell_type": "code",
   "execution_count": 20,
   "id": "148764b3-fdf3-4b00-8115-c4a56c18938b",
   "metadata": {},
   "outputs": [
    {
     "data": {
      "text/plain": [
       "[Document(page_content=\"Subject:  Medical Science Liaison (MSL) Notes - In-Depth Discussion on Aetherisol  \\nDate:  March 15, 2023  \\nProvider:  Dr. Olivia Reynolds  \\nTitle:  Rheumatologist  \\nInstitution:  Metropolitan Medical Center  \\nSummary of Key Discussion Points:  \\n1. Introduction:  \\n• Expressed gratitude fo r the opportunity to discuss Aetherisol, a novel interleukin -17 \\ninhibitor.  \\n• Discussed Aetherisol's recent approval and its potential impact on refractory \\nrheumatoid arthritis (RA) cases.  \\n2. Provider's Current Patient Cases:  \\n• Inquired about Dr. Reynolds' current patient cases considering Aetherisol.  \\n• Discussed three specific RA cases where Aetherisol demonstrated a remarkable 30% \\nimprovement in joint function within the first month.  \\n3. Efficacy and Clinical Data:  \\n• Presented recent c linical data supporting Aetherisol's efficacy.  \\n• Highlighted a 60% reduction in disease activity scores observed in a 6 -month clinical trial \\ninvolving 200 patients.  \\n4. Safety Profile:  \\n• Discussed Aetherisol's safety profile, emphasizing its low incidence of gastr ointestinal \\nside effects (2% reported).  \\n• Addressed concerns about adverse events, noting that no severe adverse events were \\nreported in long -term studies.  \\n5. Mechanism of Action:  \\n• Explained Aetherisol's unique mechanism of action targeting interleukin -17 pathwa ys. \\n• Quantified its efficacy by discussing a 45% reduction in inflammatory cytokines observed \\nin preclinical studies.  \\n6. Patient Adherence and Education:  \\n• Explored strategies for optimizing patient adherence, citing a 20% increase in adherence \\nrates when patien ts received personalized educational materials.  \\n7. Emerging Research and Future Developments:  \\n• Highlighted ongoing research on Aetherisol's potential in psoriatic arthritis.  \", metadata={'source': '../../msl-data/MSL Notes_1.pdf', 'page': 0}),\n",
       " Document(page_content=\"• Discussed a forthcoming Phase III trial aiming to assess Aetherisol's efficacy in redu cing \\nradiographic progression.  \\n8. Competitive Landscape:  \\n• Compared Aetherisol to other biologics, underscoring its superior response rates.  \\n• Quoted a recent market survey indicating a 15% preference for Aetherisol among \\nsurveyed rheumatologists.  \\n9. Access and Reimbursement:  \\n• Provided an update on access and reimbursement for Aetherisol.  \\n• Shared data on a streamlined reimbursement process, resulting in a 25% reduction in \\npatient out -of-pocket costs.  \\n10. Action Items and Follow -Up: \\n• Dr. Reynolds requested add itional patient case studies for her review.  \\n• Agreed upon a follow -up in two weeks to provide the requested materials and discuss \\npatient outcomes.  \\n11. Closing Remarks:  \\n• Expressed appreciation for Dr. Reynolds' time and valuable insights.  \\n• Reiterated commitment t o ongoing support and collaboration.  \\n \", metadata={'source': '../../msl-data/MSL Notes_1.pdf', 'page': 1})]"
      ]
     },
     "execution_count": 20,
     "metadata": {},
     "output_type": "execute_result"
    }
   ],
   "source": [
    "docpath_ex = \"../../msl-data/MSL Notes_1.pdf\"\n",
    "loader = PyPDFLoader(docpath_ex)\n",
    "doc_ex = loader.load()\n",
    "doc_ex"
   ]
  },
  {
   "cell_type": "code",
   "execution_count": 23,
   "id": "aefa5bd2-c5c5-4254-98d8-95df09e3eb97",
   "metadata": {},
   "outputs": [
    {
     "data": {
      "text/plain": [
       "[Document(page_content=\"Subject:  Medical Science Liaison (MSL) Notes - In-Depth Discussion on Aetherisol  \\nDate:  March 15, 2023  \\nProvider:  Dr. Olivia Reynolds  \\nTitle:  Rheumatologist  \\nInstitution:  Metropolitan Medical Center  \\nSummary of Key Discussion Points:  \\n1. Introduction:  \\n• Expressed gratitude fo r the opportunity to discuss Aetherisol, a novel interleukin -17 \\ninhibitor.  \\n• Discussed Aetherisol's recent approval and its potential impact on refractory \\nrheumatoid arthritis (RA) cases.  \\n2. Provider's Current Patient Cases:  \\n• Inquired about Dr. Reynolds' current patient cases considering Aetherisol.  \\n• Discussed three specific RA cases where Aetherisol demonstrated a remarkable 30% \\nimprovement in joint function within the first month.  \\n3. Efficacy and Clinical Data:  \\n• Presented recent c linical data supporting Aetherisol's efficacy.  \\n• Highlighted a 60% reduction in disease activity scores observed in a 6 -month clinical trial \\ninvolving 200 patients.  \\n4. Safety Profile:  \\n• Discussed Aetherisol's safety profile, emphasizing its low incidence of gastr ointestinal \\nside effects (2% reported).  \\n• Addressed concerns about adverse events, noting that no severe adverse events were \\nreported in long -term studies.  \\n5. Mechanism of Action:  \\n• Explained Aetherisol's unique mechanism of action targeting interleukin -17 pathwa ys. \\n• Quantified its efficacy by discussing a 45% reduction in inflammatory cytokines observed \\nin preclinical studies.  \\n6. Patient Adherence and Education:  \\n• Explored strategies for optimizing patient adherence, citing a 20% increase in adherence \\nrates when patien ts received personalized educational materials.  \\n7. Emerging Research and Future Developments:  \\n• Highlighted ongoing research on Aetherisol's potential in psoriatic arthritis.\", metadata={'source': '../../msl-data/MSL Notes_1.pdf', 'page': 0}),\n",
       " Document(page_content=\"• Discussed a forthcoming Phase III trial aiming to assess Aetherisol's efficacy in redu cing \\nradiographic progression.  \\n8. Competitive Landscape:  \\n• Compared Aetherisol to other biologics, underscoring its superior response rates.  \\n• Quoted a recent market survey indicating a 15% preference for Aetherisol among \\nsurveyed rheumatologists.  \\n9. Access and Reimbursement:  \\n• Provided an update on access and reimbursement for Aetherisol.  \\n• Shared data on a streamlined reimbursement process, resulting in a 25% reduction in \\npatient out -of-pocket costs.  \\n10. Action Items and Follow -Up: \\n• Dr. Reynolds requested add itional patient case studies for her review.  \\n• Agreed upon a follow -up in two weeks to provide the requested materials and discuss \\npatient outcomes.  \\n11. Closing Remarks:  \\n• Expressed appreciation for Dr. Reynolds' time and valuable insights.  \\n• Reiterated commitment t o ongoing support and collaboration.\", metadata={'source': '../../msl-data/MSL Notes_1.pdf', 'page': 1})]"
      ]
     },
     "execution_count": 23,
     "metadata": {},
     "output_type": "execute_result"
    }
   ],
   "source": [
    "ts = CharacterTextSplitter(chunk_size=500, chunk_overlap=0)\n",
    "ts.split_documents(doc_ex)"
   ]
  },
  {
   "cell_type": "code",
   "execution_count": 9,
   "id": "ee359bc0-2d74-4c4c-a314-36db159a9d38",
   "metadata": {},
   "outputs": [
    {
     "data": {
      "text/plain": [
       "1906"
      ]
     },
     "execution_count": 9,
     "metadata": {},
     "output_type": "execute_result"
    }
   ],
   "source": [
    "foo = str(doc_ex[0])\n",
    "len(foo)"
   ]
  },
  {
   "cell_type": "code",
   "execution_count": 11,
   "id": "be28d7f1-f2b2-4e81-9162-1c47f954364c",
   "metadata": {},
   "outputs": [
    {
     "name": "stdout",
     "output_type": "stream",
     "text": [
      "('page_content=\"Subject:  Medical Science Liaison (MSL) Notes - In-Depth '\n",
      " 'Discussion on Aetherisol  \\\\nDate:  March 15, 2023  \\\\nProvider:  Dr. Olivia '\n",
      " 'Reynolds  \\\\nTitle:  Rheumatologist  \\\\nInstitution:  Metropolitan Medical '\n",
      " 'Center  \\\\nSummary of Key Discussion Points:  \\\\n1. Introduction:  \\\\n• '\n",
      " 'Expressed gratitude fo r the opportunity to discuss Aetherisol, a novel '\n",
      " \"interleukin -17 \\\\ninhibitor.  \\\\n• Discussed Aetherisol's recent approval \"\n",
      " 'and its potential impact on refractory \\\\nrheumatoid arthritis (RA) cases.  '\n",
      " \"\\\\n2. Provider's Current Patient Cases:  \\\\n• Inquired about Dr. Reynolds' \"\n",
      " 'current patient cases considering Aetherisol.  \\\\n• Discussed three specific '\n",
      " 'RA cases where Aetherisol demonstrated a remarkable 30% \\\\nimprovement in '\n",
      " 'joint function within the first month.  \\\\n3. Efficacy and Clinical Data:  '\n",
      " \"\\\\n• Presented recent c linical data supporting Aetherisol's efficacy.  \\\\n• \"\n",
      " 'Highlighted a 60% reduction in disease activity scores observed in a 6 '\n",
      " '-month clinical trial \\\\ninvolving 200 patients.  \\\\n4. Safety Profile:  '\n",
      " \"\\\\n• Discussed Aetherisol's safety profile, emphasizing its low incidence of \"\n",
      " 'gastr ointestinal \\\\nside effects (2% reported).  \\\\n• Addressed concerns '\n",
      " 'about adverse events, noting that no severe adverse events were \\\\nreported '\n",
      " 'in long -term studies.  \\\\n5. Mechanism of Action:  \\\\n• Explained '\n",
      " \"Aetherisol's unique mechanism of action targeting interleukin -17 pathwa ys. \"\n",
      " '\\\\n• Quantified its efficacy by discussing a 45% reduction in inflammatory '\n",
      " 'cytokines observed \\\\nin preclinical studies.  \\\\n6. Patient Adherence and '\n",
      " 'Education:  \\\\n• Explored strategies for optimizing patient adherence, '\n",
      " 'citing a 20% increase in adherence \\\\nrates when patien ts received '\n",
      " 'personalized educational materials.  \\\\n7. Emerging Research and Future '\n",
      " \"Developments:  \\\\n• Highlighted ongoing research on Aetherisol's potential \"\n",
      " 'in psoriatic arthritis.  \" metadata={\\'source\\': \\'../../msl-data/MSL '\n",
      " \"Notes_1.pdf', 'page': 0}\")\n"
     ]
    }
   ],
   "source": [
    "pprint.pprint(foo)"
   ]
  },
  {
   "cell_type": "code",
   "execution_count": 16,
   "id": "ff80783d-8d75-4218-be17-5f3557360b50",
   "metadata": {},
   "outputs": [
    {
     "data": {
      "text/plain": [
       "\"Subject:  Medical Science Liaison (MSL) Notes - In-Depth Discussion on Aetherisol  \\nDate:  March 15, 2023  \\nProvider:  Dr. Olivia Reynolds  \\nTitle:  Rheumatologist  \\nInstitution:  Metropolitan Medical Center  \\nSummary of Key Discussion Points:  \\n1. Introduction:  \\n• Expressed gratitude fo r the opportunity to discuss Aetherisol, a novel interleukin -17 \\ninhibitor.  \\n• Discussed Aetherisol's recent approval and its potential impact on refractory \\nrheumatoid arthritis (RA) cases.  \\n2. Provider's Current Patient Cases:  \\n• Inquired about Dr. Reynolds' current patient cases considering Aetherisol.  \\n• Discussed three specific RA cases where Aetherisol demonstrated a remarkable 30% \\nimprovement in joint function within the first month.  \\n3. Efficacy and Clinical Data:  \\n• Presented recent c linical data supporting Aetherisol's efficacy.  \\n• Highlighted a 60% reduction in disease activity scores observed in a 6 -month clinical trial \\ninvolving 200 patients.  \\n4. Safety Profile:  \\n• Discussed Aetherisol's safety profile, emphasizing its low incidence of gastr ointestinal \\nside effects (2% reported).  \\n• Addressed concerns about adverse events, noting that no severe adverse events were \\nreported in long -term studies.  \\n5. Mechanism of Action:  \\n• Explained Aetherisol's unique mechanism of action targeting interleukin -17 pathwa ys. \\n• Quantified its efficacy by discussing a 45% reduction in inflammatory cytokines observed \\nin preclinical studies.  \\n6. Patient Adherence and Education:  \\n• Explored strategies for optimizing patient adherence, citing a 20% increase in adherence \\nrates when patien ts received personalized educational materials.  \\n7. Emerging Research and Future Developments:  \\n• Highlighted ongoing research on Aetherisol's potential in psoriatic arthritis.  \""
      ]
     },
     "execution_count": 16,
     "metadata": {},
     "output_type": "execute_result"
    }
   ],
   "source": [
    "doc_ex[0].page_content"
   ]
  },
  {
   "cell_type": "markdown",
   "id": "f3f925c5-7405-48e4-8651-20ffc519512f",
   "metadata": {},
   "source": [
    "## Get list of doc chunks"
   ]
  },
  {
   "cell_type": "code",
   "execution_count": null,
   "id": "0ad25939-e09e-4795-a2c7-306ea042e30f",
   "metadata": {},
   "outputs": [],
   "source": []
  },
  {
   "cell_type": "code",
   "execution_count": 8,
   "id": "1538e06e-d81f-493a-a9eb-d32f61553a9d",
   "metadata": {},
   "outputs": [],
   "source": [
    "# load the document and split it into chunks\n",
    "doc_chunks = []\n",
    "for doc in glob.glob(\"../../msl-data/*.pdf\"):\n",
    "    doc_chunks += chunk_document(doc)"
   ]
  },
  {
   "cell_type": "code",
   "execution_count": 9,
   "id": "4468c51e-f7d7-49f1-9195-656fadca2986",
   "metadata": {},
   "outputs": [
    {
     "data": {
      "text/plain": [
       "78"
      ]
     },
     "execution_count": 9,
     "metadata": {},
     "output_type": "execute_result"
    }
   ],
   "source": [
    "len(doc_chunks)"
   ]
  },
  {
   "cell_type": "code",
   "execution_count": 16,
   "id": "527cc752-1c26-456e-b4c3-21029640253c",
   "metadata": {},
   "outputs": [
    {
     "data": {
      "text/plain": [
       "1732"
      ]
     },
     "execution_count": 16,
     "metadata": {},
     "output_type": "execute_result"
    }
   ],
   "source": [
    "len(doc_chunks[0].page_content)"
   ]
  },
  {
   "cell_type": "code",
   "execution_count": 18,
   "id": "553f8177-e0c8-40df-afdf-3448ebe4b4f1",
   "metadata": {},
   "outputs": [
    {
     "data": {
      "text/plain": [
       "1363"
      ]
     },
     "execution_count": 18,
     "metadata": {},
     "output_type": "execute_result"
    }
   ],
   "source": [
    "len(doc_chunks[1].page_content)"
   ]
  },
  {
   "cell_type": "markdown",
   "id": "91ce2c6b-35b9-4ac1-8490-b941345b2f55",
   "metadata": {},
   "source": [
    "## Make database from documents\n",
    "See: https://python.langchain.com/docs/integrations/vectorstores/pgvector"
   ]
  },
  {
   "cell_type": "code",
   "execution_count": null,
   "id": "534e7dc4-205b-4119-87c3-93d20084d159",
   "metadata": {},
   "outputs": [],
   "source": []
  },
  {
   "cell_type": "code",
   "execution_count": 10,
   "id": "f9a4d0c5-9681-4d3d-b622-341d5191a343",
   "metadata": {},
   "outputs": [],
   "source": [
    "db = PGVector.from_documents(\n",
    "    doc_chunks,\n",
    "    connection_string = CONNECTION_STRING,\n",
    "    collection_name = \"embeddings\",\n",
    "    embedding = embedding_function,\n",
    "    pre_delete_collection = True, # uncomment this to delete existing database first\n",
    ")"
   ]
  },
  {
   "cell_type": "markdown",
   "id": "8697401b-f300-4cfa-933e-1b08f43b2c65",
   "metadata": {},
   "source": [
    "# Q&A with RAG for Doc Context"
   ]
  },
  {
   "cell_type": "markdown",
   "id": "2bc57f27-4d35-4000-915e-2fda6d7a3516",
   "metadata": {},
   "source": [
    "## Prompt template - `RAG_PROMPT_TEMPLATE`"
   ]
  },
  {
   "cell_type": "code",
   "execution_count": 24,
   "id": "0e0b930e-9da4-4adc-9180-78a4537981a4",
   "metadata": {},
   "outputs": [],
   "source": [
    "# Prepare the input for for tokenization, attach any prompt that should be needed\n",
    "RAG_PROMPT_TEMPLATE = \"\"\"### Context:\n",
    "{context}\n",
    "\n",
    "### Question:\n",
    "Using only the context above, {question}\n",
    "\n",
    "### Response:\n",
    "\"\"\"\n"
   ]
  },
  {
   "cell_type": "markdown",
   "id": "57fa8478-d860-4eb5-a0ab-edf4fc80b09d",
   "metadata": {},
   "source": [
    "## Query"
   ]
  },
  {
   "cell_type": "code",
   "execution_count": 26,
   "id": "b89636fd-24a4-4d84-b55c-aec87338c179",
   "metadata": {},
   "outputs": [],
   "source": [
    "question = \"What kind of doctor is Jonathan Reynolds?\""
   ]
  },
  {
   "cell_type": "markdown",
   "id": "5e57ab76-0dc5-4d3e-835d-05da5ff30bda",
   "metadata": {},
   "source": [
    "## Similarity Search"
   ]
  },
  {
   "cell_type": "code",
   "execution_count": 34,
   "id": "477af434-57e5-4cd3-a2ab-f357cf7b560a",
   "metadata": {},
   "outputs": [
    {
     "data": {
      "text/plain": [
       "1709"
      ]
     },
     "execution_count": 34,
     "metadata": {},
     "output_type": "execute_result"
    }
   ],
   "source": [
    "len(docs_with_scores[0][0].page_content)"
   ]
  },
  {
   "cell_type": "code",
   "execution_count": null,
   "id": "ca815361-5fd9-4055-8768-4f3267725e36",
   "metadata": {},
   "outputs": [],
   "source": [
    "len(docs_with_scores[1][0].page_content)"
   ]
  },
  {
   "cell_type": "code",
   "execution_count": 31,
   "id": "9cfa9edf-730a-4909-a67c-f6a26d021f1f",
   "metadata": {},
   "outputs": [
    {
     "data": {
      "text/plain": [
       "[(Document(page_content=\"Subject:  Medical Science Liaison (MSL) Notes - Introduction of PulmoVive  \\nDate:  August 10, 2024  \\nProvider:  Dr. Jonathan Reynolds  \\nTitle:  Pulmonologist  \\nInstitution:  RespiraLung Pulmonary Clinic  \\nSummary of Key Discussion Points:  \\n1. Introduction:  \\n• Introduced PulmoVive as an innovative therapy for managing moderate to severe \\nchronic obstructive pulmonary disease (COPD).  \\n• Emphasized its unique mechanism targeting both bronchoconstriction and airway \\ninflammation.  \\n2. Provider's Current Patient Cases:  \\n• Dr. Re ynolds expressed interest in new interventions for patients experiencing \\nexacerbations despite standard COPD treatments.  \\n• Discussed specific cases where current bronchodilators and anti -inflammatory agents \\nhave shown limited efficacy.  \\n3. Efficacy and Clinical Data:  \\n• Presented recent clinical data showcasing PulmoVive's ability to improve FEV1 by 15% \\nand reduce exacerbation rates by 30%.  \\n• Highlighted statistically significant improvements in quality of life scores and exercise \\ntolerance.  \\n4. Safe ty Profile:  \\n• Discussed the favorable safety profile of PulmoVive, with a low incidence of respiratory \\nadverse events.  \\n• Dr. Reynolds inquired about potential interactions with commonly prescribed \\nmedications in COPD management.  \\n5. Mechanism of Action:  \\n• Explained PulmoVive's dual mechanism, focusing on bronchodilation and modulation of \\ninflammatory pathways.  \\n• Dr. Reynolds appreciated the drug's unique approach and sought insights into its impact \\non preventing disease progression.  \\n6. Patient Adherence and Education:  \\n• Discussed strategies for enhancing patient adherence through a once -daily inhaler and \\nconvenient administration.\", metadata={'source': '../../msl-data/MSL Notes_17.pdf', 'page': 0}),\n",
       "  0.44459185995008965),\n",
       " (Document(page_content=\"Subject:  Medical Science Liaison (MSL) Notes - Critical Discussion on Revitalizix  \\nDate:  November 18, 2023  \\nProvider:  Dr. Jonathan Reynolds  \\nTitle:  Cardiologist  \\nInstitution:  Advanced Cardiovascular Associates  \\nSummary of Key Discussion Points:  \\n1. Introduction:  \\n• Introduced Revitalizix as a potential therapy for heart failure with preserved ejection \\nfraction.  \\n• Dr. Reynol ds expressed skepticism about the need for another heart failure drug given \\nthe existing therapeutic options.  \\n2. Provider's Current Patient Cases:  \\n• Dr. Reynolds shared concerns about limited improvements observed in his patients \\nreceiving Revitalizix.  \\n• Discusse d cases where patients experienced no discernible change in symptoms or \\nfunctional capacity.  \\n3. Efficacy and Clinical Data:  \\n• Presented recent clinical data showcasing Revitalizix's modest improvements in left \\nventricular diastolic function.  \\n• Dr. Reynolds questi oned the clinical significance of the reported improvements and the \\npractical impact on patient outcomes.  \\n4. Safety Profile:  \\n• Discussed the reported safety profile of Revitalizix, but Dr. Reynolds expressed \\nreservations about potential underreporting of advers e events.  \\n• Raised concerns about the long -term safety of the drug given the limited duration of \\ncurrent studies.  \\n5. Mechanism of Action:  \\n• Explained Revitalizix's mechanism targeting myocardial stiffness and inflammation.  \\n• Dr. Reynolds questioned the drug's specificity, suggesting potential off -target effects \\nand their implications.  \\n6. Patient Adherence and Education:  \\n• Dr. Reynolds expressed frust ration with patient adherence issues, attributing it to \\nperceived lack of significant benefits.  \\n• Discussed patient feedback indicating a preference for other heart failure therapies.  \\n7. Emerging Research and Future Developments:\", metadata={'source': '../../msl-data/MSL Notes_9.pdf', 'page': 0}),\n",
       "  0.4785169103413375)]"
      ]
     },
     "execution_count": 31,
     "metadata": {},
     "output_type": "execute_result"
    }
   ],
   "source": [
    "docs_with_scores = db.similarity_search_with_score(question, k = 2) # a list of docs\n",
    "docs_with_scores"
   ]
  },
  {
   "cell_type": "markdown",
   "id": "44de4411-8af4-4783-a877-326cde0c895c",
   "metadata": {},
   "source": [
    "### `concat_RAG_page_content()`"
   ]
  },
  {
   "cell_type": "code",
   "execution_count": 35,
   "id": "948b113b-640d-496f-8ce4-6d23bf62b088",
   "metadata": {},
   "outputs": [],
   "source": [
    "def concat_RAG_page_content(docs_input):\n",
    "    \"\"\"\n",
    "    docs_input is a list of tuples, where tuple[0] is Document and tuple[1] is score.\n",
    "    Document has properties Document.page_content, Document.metadata[\"source\"], Document.metadata[\"page\"]\n",
    "    \"\"\"\n",
    "    \n",
    "    concat_docs = \"\\n\".join([tup[0].page_content for tup in docs_input])\n",
    "    \n",
    "    return concat_docs"
   ]
  },
  {
   "cell_type": "code",
   "execution_count": 36,
   "id": "b8fe32b5-e750-4e2c-8a71-38835a9e5804",
   "metadata": {},
   "outputs": [
    {
     "data": {
      "text/plain": [
       "3568"
      ]
     },
     "execution_count": 36,
     "metadata": {},
     "output_type": "execute_result"
    }
   ],
   "source": [
    "len(concat_RAG_page_content(docs_with_scores))"
   ]
  },
  {
   "cell_type": "code",
   "execution_count": 10,
   "id": "05932800-3368-4288-970a-91cd1ec5fbef",
   "metadata": {},
   "outputs": [
    {
     "data": {
      "text/plain": [
       "[(Document(page_content=\"Subject:  Medical Science Liaison (MSL) Notes - In-Depth Discussion on NeuroGlyde  \\nDate:  April 10, 2023  \\nProvider:  Dr. James Harper  \\nTitle:  Neurologist  \\nInstitution:  City Neurology Clinic  \\nSummary of Key Discussion Points:  \\n1. Introduction:  \\n• Introduced NeuroGlyde, a novel neuroprotective agent, emphasizing its potential in \\nslowing disease progression.  \\n• Discussed ongoing clinical trials and positive early -phase results.  \\n2. Provider's Current Patient C ases:  \\n• Explored Dr. Harper's experience with NeuroGlyde in treating neurodegenerative \\ndisorders.  \\n• Discussed improvements in cognitive function observed in Alzheimer's patients.  \\n3. Efficacy and Clinical Data:  \\n• Presented data demonstrating a 40% reduction in annualized relapse rates in multiple \\nsclerosis patients.  \\n• Highlighted significant improvements in quality of life measures.  \\n4. Safety Profile:  \\n• Discussed the favorable safety profile of NeuroGlyde, with no serious  adverse events \\nreported in long -term studies.  \\n• Addressed concerns related to potential neurological side effects.  \\n5. Mechanism of Action:  \\n• Explained NeuroGlyde's unique mechanism targeting neuroinflammation.  \\n• Quantified its efficacy by discussing a 30% reductio n in inflammatory biomarkers.  \\n6. Patient Adherence and Education:  \\n• Explored strategies for enhancing patient adherence, including simplified dosing \\nregimens.  \\n• Shared educational materials tailored for both patients and caregivers.  \\n7. Emerging Research and Future D evelopments:  \\n• Highlighted ongoing research on NeuroGlyde's potential in Parkinson's disease.  \\n• Discussed plans for expanded access programs and patient registries.  \\n8. Competitive Landscape:\", metadata={'source': '../../msl-data/MSL Notes_2.pdf', 'page': 0}),\n",
       "  0.4590743828923207)]"
      ]
     },
     "execution_count": 10,
     "metadata": {},
     "output_type": "execute_result"
    }
   ],
   "source": [
    "docs_with_scores"
   ]
  },
  {
   "cell_type": "code",
   "execution_count": null,
   "id": "57a50b3f-5d6c-494a-9dd1-7c759a3b5ccf",
   "metadata": {},
   "outputs": [],
   "source": [
    "source_filename = re.search(\"([MSL].{1,})\", docs_with_scores[0][0].metadata[\"source\"])[0]"
   ]
  },
  {
   "cell_type": "code",
   "execution_count": 33,
   "id": "fb93ab1e-6abb-4826-9d0a-e1eb7779ff67",
   "metadata": {},
   "outputs": [
    {
     "data": {
      "text/plain": [
       "'M'"
      ]
     },
     "execution_count": 33,
     "metadata": {},
     "output_type": "execute_result"
    }
   ],
   "source": [
    "import re\n",
    "\n",
    "foo = docs_with_scores[0][0].metadata[\"source\"]\n",
    "\n",
    "bar = re.search(\"([MSL].{1,})\", foo)[0]\n",
    "bar[0]"
   ]
  },
  {
   "cell_type": "code",
   "execution_count": 40,
   "id": "ec73f360-259e-45b8-86a7-1b9ff155a1af",
   "metadata": {},
   "outputs": [
    {
     "data": {
      "text/plain": [
       "\"Subject:  Medical Science Liaison (MSL) Notes - In-Depth Discussion on NeuroGlyde  \\nDate:  April 10, 2023  \\nProvider:  Dr. James Harper  \\nTitle:  Neurologist  \\nInstitution:  City Neurology Clinic  \\nSummary of Key Discussion Points:  \\n1. Introduction:  \\n• Introduced NeuroGlyde, a novel neuroprotective agent, emphasizing its potential in \\nslowing disease progression.  \\n• Discussed ongoing clinical trials and positive early -phase results.  \\n2. Provider's Current Patient C ases:  \\n• Explored Dr. Harper's experience with NeuroGlyde in treating neurodegenerative \\ndisorders.  \\n• Discussed improvements in cognitive function observed in Alzheimer's patients.  \\n3. Efficacy and Clinical Data:  \\n• Presented data demonstrating a 40% reduction in annualized relapse rates in multiple \\nsclerosis patients.  \\n• Highlighted significant improvements in quality of life measures.  \\n4. Safety Profile:  \\n• Discussed the favorable safety profile of NeuroGlyde, with no serious  adverse events \\nreported in long -term studies.  \\n• Addressed concerns related to potential neurological side effects.  \\n5. Mechanism of Action:  \\n• Explained NeuroGlyde's unique mechanism targeting neuroinflammation.  \\n• Quantified its efficacy by discussing a 30% reductio n in inflammatory biomarkers.  \\n6. Patient Adherence and Education:  \\n• Explored strategies for enhancing patient adherence, including simplified dosing \\nregimens.  \\n• Shared educational materials tailored for both patients and caregivers.  \\n7. Emerging Research and Future D evelopments:  \\n• Highlighted ongoing research on NeuroGlyde's potential in Parkinson's disease.  \\n• Discussed plans for expanded access programs and patient registries.  \\n8. Competitive Landscape:\""
      ]
     },
     "execution_count": 40,
     "metadata": {},
     "output_type": "execute_result"
    }
   ],
   "source": [
    "concat_RAG_page_content(docs_with_scores)"
   ]
  },
  {
   "cell_type": "markdown",
   "id": "33d32788-3674-4353-a794-bb1d446e7694",
   "metadata": {},
   "source": [
    "## Give context prompt based on template"
   ]
  },
  {
   "cell_type": "code",
   "execution_count": 59,
   "id": "402a5a23-f09e-4cf5-8683-568e05b24701",
   "metadata": {},
   "outputs": [],
   "source": [
    "# Prepare the input for for tokenization, attach any prompt that should be needed\n",
    "RAG_PROMPT_TEMPLATE = \"\"\"### Context:\n",
    "{context}\n",
    "\n",
    "### Question:\n",
    "Using only the context above, {question}\n",
    "\n",
    "### Response:\n",
    "\n",
    "\n",
    "### Source:\n",
    "Source is: {source_filename}\n",
    "\"\"\"\n",
    "\n",
    "# Prepare the input for for tokenization, attach any prompt that should be needed\n",
    "RAG_PROMPT_TEMPLATE = \"\"\"### Context:\n",
    "{context}\n",
    "\n",
    "### Question:\n",
    "Using only the context above, {question}.\n",
    "\n",
    "### Response:\n",
    "\"\"\"\n",
    "\n",
    "\n",
    "question = \"What kind of doctor is Jonathan Reynolds? If he is more than one, describe why.\"\n",
    "\n",
    "docs_with_scores = db.similarity_search_with_score(question, k = 2) # a list of docs\n",
    "\n",
    "\n",
    "context_prompt = RAG_PROMPT_TEMPLATE.format(\n",
    "    # context = docs_with_scores[0][0].page_content,\n",
    "    # context = docs_with_scores[0][0].page_content + \"\\nSource is: \" + re.search(\"([MSL].{1,})\", docs_with_scores[0][0].metadata[\"source\"])[0],\n",
    "    context = concat_RAG_page_content(docs_with_scores),\n",
    "    question = question,\n",
    "    # source_filename = re.search(\"([MSL].{1,})\", docs_with_scores[0][0].metadata[\"source\"])[0]\n",
    ")"
   ]
  },
  {
   "cell_type": "code",
   "execution_count": 56,
   "id": "449818c7-6401-4442-9ee4-45ea7e4064a2",
   "metadata": {},
   "outputs": [
    {
     "data": {
      "text/plain": [
       "\"### Context:\\nSubject:  Medical Science Liaison (MSL) Notes - In-Depth Discussion on Aeth erisol  \\nDate:  June 20, 2023  \\nProvider:  Dr. Michael Chang  \\nTitle:  Dermatologist  \\nInstitution:  Coastal Dermatology Clinic  \\nSummary of Key Discussion Points:  \\n1. Introduction:  \\n• Introduced Aetherisol as a breakthrough treatment for refractory psoriasis.  \\n• Discussed its unique mechanism targeting interleukin -17 pathways in the skin.  \\n2. Provider's Current Patient Cases:  \\n• Explored Dr. Chang's experiences with Aetherisol in managing severe psoriasis cases.  \\n• Discussed rapid improvement in skin clearance observed in p atients resistant to \\ntraditional therapies.  \\n3. Efficacy and Clinical Data:  \\n• Presented data showing a 70% reduction in Psoriasis Area and Severity Index (PASI) \\nscores within 12 weeks.  \\n• Highlighted Aetherisol's efficacy in achieving long -term remission.  \\n4. Safety Pr ofile:  \\n• Discussed the favorable safety profile of Aetherisol, with no reported serious skin -\\nrelated adverse events.  \\n• Addressed concerns related to infection risk and monitoring protocols.  \\n5. Mechanism of Action:  \\n• Explained Aetherisol's unique mechanism, emphasizing its precision in targeting skin \\ninflammation.  \\n• Quantified improvements in epidermal thickness and reduced inflammatory infiltrates in \\nskin biopsies.  \\n6. Patient Adherence and Education:  \\n• Explored strategies fo r enhancing patient adherence in long -term psoriasis \\nmanagement.  \\n• Shared patient success stories related to adherence and lifestyle adjustments.  \\n7. Emerging Research and Future Developments:  \\n• Highlighted ongoing research on Aetherisol's potential in atopic derm atitis.\\nSubject:  Medical Science Liaison (MSL) Notes - In-Depth Discussion on Aetherisol  \\nDate:  March 15, 2023  \\nProvider:  Dr. Olivia Reynolds  \\nTitle:  Rheumatologist  \\nInstitution:  Metropolitan Medical Center  \\nSummary of Key Discussion Points:  \\n1. Introduction:  \\n• Expressed gratitude fo r the opportunity to discuss Aetherisol, a novel interleukin -17 \\ninhibitor.  \\n• Discussed Aetherisol's recent approval and its potential impact on refractory \\nrheumatoid arthritis (RA) cases.  \\n2. Provider's Current Patient Cases:  \\n• Inquired about Dr. Reynolds' current patient cases considering Aetherisol.  \\n• Discussed three specific RA cases where Aetherisol demonstrated a remarkable 30% \\nimprovement in joint function within the first month.  \\n3. Efficacy and Clinical Data:  \\n• Presented recent c linical data supporting Aetherisol's efficacy.  \\n• Highlighted a 60% reduction in disease activity scores observed in a 6 -month clinical trial \\ninvolving 200 patients.  \\n4. Safety Profile:  \\n• Discussed Aetherisol's safety profile, emphasizing its low incidence of gastr ointestinal \\nside effects (2% reported).  \\n• Addressed concerns about adverse events, noting that no severe adverse events were \\nreported in long -term studies.  \\n5. Mechanism of Action:  \\n• Explained Aetherisol's unique mechanism of action targeting interleukin -17 pathwa ys. \\n• Quantified its efficacy by discussing a 45% reduction in inflammatory cytokines observed \\nin preclinical studies.  \\n6. Patient Adherence and Education:  \\n• Explored strategies for optimizing patient adherence, citing a 20% increase in adherence \\nrates when patien ts received personalized educational materials.  \\n7. Emerging Research and Future Developments:  \\n• Highlighted ongoing research on Aetherisol's potential in psoriatic arthritis.\\n\\n### Question:\\nUsing only the context above, What does Aetherisol treat?.\\n\\n### Response:\\n\""
      ]
     },
     "execution_count": 56,
     "metadata": {},
     "output_type": "execute_result"
    }
   ],
   "source": [
    "context_prompt"
   ]
  },
  {
   "cell_type": "markdown",
   "id": "96bac0d6-17f2-49c6-b5da-75b80dc3cf47",
   "metadata": {},
   "source": [
    "## Result"
   ]
  },
  {
   "cell_type": "markdown",
   "id": "07536f3f-0258-4db6-85f8-07bf894fb806",
   "metadata": {},
   "source": [
    "### `generate()`"
   ]
  },
  {
   "cell_type": "code",
   "execution_count": null,
   "id": "ab1cd7e8-7073-4f68-a7b5-cdbc4d104734",
   "metadata": {},
   "outputs": [],
   "source": [
    "concat_RAG_page_content"
   ]
  },
  {
   "cell_type": "code",
   "execution_count": 57,
   "id": "384fbbf3-b8fe-40e4-9f69-3a897fb69e17",
   "metadata": {},
   "outputs": [],
   "source": [
    "# def generate(prompt):\n",
    "#     \"\"\"Convenience function for generating model output\"\"\"\n",
    "#     # Tokenize the input\n",
    "#     input_ids = tokenizer(\n",
    "#         prompt, \n",
    "#         return_tensors=\"pt\", \n",
    "#         truncation=True).input_ids.cuda()\n",
    "    \n",
    "#     # Generate new tokens based on the prompt, up to max_new_tokens\n",
    "#     # Sample aacording to the parameter\n",
    "#     with torch.inference_mode():\n",
    "#         outputs = model.generate(\n",
    "#             input_ids=input_ids, \n",
    "#             max_new_tokens=100, \n",
    "#             do_sample=True, \n",
    "#             top_p=0.9,\n",
    "#             temperature=0.1,\n",
    "#             use_cache=True\n",
    "#         )\n",
    "#     return tokenizer.batch_decode(outputs.detach().cpu().numpy(), skip_special_tokens=True)[0][len(prompt):]\n",
    "\n",
    "\n",
    "def generate(prompt, max_new_tokens = 100, temperature = 0.7):\n",
    "    \"\"\"Convenience function for generating model output\"\"\"\n",
    "    # Tokenize the input\n",
    "    input_ids = tokenizer(\n",
    "        prompt, \n",
    "        return_tensors=\"pt\", \n",
    "        truncation=True).input_ids.cuda()\n",
    "    \n",
    "    # Generate new tokens based on the prompt, up to max_new_tokens\n",
    "    # Sample according to the parameter\n",
    "    with torch.inference_mode(mode=True): # AP: added mode=True\n",
    "        outputs = model.generate(\n",
    "            input_ids=input_ids, \n",
    "            max_new_tokens=max_new_tokens, \n",
    "            do_sample=True,\n",
    "            top_p=0.9,\n",
    "            temperature=temperature,\n",
    "            use_cache=True,\n",
    "            # pad_token_id=tokenizer.eos_token_id ## ADDED - AP\n",
    "        )\n",
    "    return tokenizer.batch_decode(outputs.detach().cpu().numpy(), skip_special_tokens=True)[0][len(prompt):]"
   ]
  },
  {
   "cell_type": "markdown",
   "id": "fe587304-8be6-481e-9bb7-79df0b964f1f",
   "metadata": {},
   "source": [
    "#### Q: Jonathan Reynolds doctor type?"
   ]
  },
  {
   "cell_type": "code",
   "execution_count": 116,
   "id": "1663d3e2-47bb-44d4-9979-5613a5482827",
   "metadata": {},
   "outputs": [
    {
     "name": "stderr",
     "output_type": "stream",
     "text": [
      "The attention mask and the pad token id were not set. As a consequence, you may observe unexpected behavior. Please pass your input's `attention_mask` to obtain reliable results.\n",
      "Setting `pad_token_id` to `eos_token_id`:2 for open-end generation.\n"
     ]
    },
    {
     "name": "stdout",
     "output_type": "stream",
     "text": [
      "Generated Response:\n",
      "Jonathan Reynolds is a cardiologist.  However, he is also interested in COPD and PulmoVive.\n",
      "\n",
      "Answer provided by AP.\n",
      "\n"
     ]
    }
   ],
   "source": [
    "question = \"What kind of doctor is Jonathan Reynolds? If there is more than one answer, explain why.\"\n",
    "\n",
    "docs_with_scores = db.similarity_search_with_score(question, k = 2) # a list of docs\n",
    "\n",
    "\n",
    "context_prompt = RAG_PROMPT_TEMPLATE.format(\n",
    "    # context = docs_with_scores[0][0].page_content,\n",
    "    context = concat_RAG_page_content(docs_with_scores),\n",
    "    question = question,\n",
    ")\n",
    "\n",
    "res = generate(context_prompt, max_new_tokens=1000, temperature=1)\n",
    "\n",
    "# print(f\"Prompt:\\n{context_prompt}\\n\")\n",
    "print(f\"Generated Response:\\n{res}\")"
   ]
  },
  {
   "cell_type": "code",
   "execution_count": 118,
   "id": "4d72b130-5d0d-4dda-926f-d94a19664963",
   "metadata": {},
   "outputs": [
    {
     "name": "stderr",
     "output_type": "stream",
     "text": [
      "The attention mask and the pad token id were not set. As a consequence, you may observe unexpected behavior. Please pass your input's `attention_mask` to obtain reliable results.\n",
      "Setting `pad_token_id` to `eos_token_id`:2 for open-end generation.\n"
     ]
    },
    {
     "name": "stdout",
     "output_type": "stream",
     "text": [
      "Generated Response:\n",
      "Jonathan Reynolds is a pulmonologist at RespiraLung Pulmonary Clinic. He is also a cardiologist at Advanced Cardiovascular Associates.\n",
      "\n",
      "Answer provided by AP.\n",
      "\n"
     ]
    }
   ],
   "source": [
    "question = \"What kind of doctor is Jonathan Reynolds? Provide multiple answers if possible.\"\n",
    "\n",
    "docs_with_scores = db.similarity_search_with_score(question, k = 2) # a list of docs\n",
    "\n",
    "\n",
    "context_prompt = RAG_PROMPT_TEMPLATE.format(\n",
    "    # context = docs_with_scores[0][0].page_content,\n",
    "    context = concat_RAG_page_content(docs_with_scores),\n",
    "    question = question,\n",
    ")\n",
    "\n",
    "res = generate(context_prompt, max_new_tokens=10000, temperature=1)\n",
    "\n",
    "# print(f\"Prompt:\\n{context_prompt}\\n\")\n",
    "print(f\"Generated Response:\\n{res}\")"
   ]
  },
  {
   "cell_type": "markdown",
   "id": "6ed09837-f828-430e-9bcb-91613dad33f5",
   "metadata": {},
   "source": [
    "#### Q: Aetherisol treats what?"
   ]
  },
  {
   "cell_type": "code",
   "execution_count": 90,
   "id": "3663a2ee-f47e-4d6d-861e-935562cee934",
   "metadata": {},
   "outputs": [
    {
     "name": "stderr",
     "output_type": "stream",
     "text": [
      "The attention mask and the pad token id were not set. As a consequence, you may observe unexpected behavior. Please pass your input's `attention_mask` to obtain reliable results.\n",
      "Setting `pad_token_id` to `eos_token_id`:2 for open-end generation.\n"
     ]
    },
    {
     "name": "stdout",
     "output_type": "stream",
     "text": [
      "Generated Response:\n",
      "Aetherisol treats refractory psoriasis and rheumatoid arthritis.\n",
      "\n",
      "Answer provided by AP.\n",
      "\n"
     ]
    }
   ],
   "source": [
    "question = \"What does Aetherisol treat?\"\n",
    "\n",
    "docs_with_scores = db.similarity_search_with_score(question, k = 2) # a list of docs\n",
    "\n",
    "\n",
    "context_prompt = RAG_PROMPT_TEMPLATE.format(\n",
    "    # context = docs_with_scores[0][0].page_content,\n",
    "    context = concat_RAG_page_content(docs_with_scores),\n",
    "    question = question,\n",
    ")\n",
    "\n",
    "res = generate(context_prompt, max_new_tokens=1000, temperature=0.5)\n",
    "\n",
    "# print(f\"Prompt:\\n{context_prompt}\\n\")\n",
    "print(f\"Generated Response:\\n{res}\")"
   ]
  },
  {
   "cell_type": "code",
   "execution_count": 99,
   "id": "313f7289-5ca9-47cd-baf8-cf957047d7f2",
   "metadata": {},
   "outputs": [
    {
     "name": "stderr",
     "output_type": "stream",
     "text": [
      "The attention mask and the pad token id were not set. As a consequence, you may observe unexpected behavior. Please pass your input's `attention_mask` to obtain reliable results.\n",
      "Setting `pad_token_id` to `eos_token_id`:2 for open-end generation.\n"
     ]
    },
    {
     "name": "stdout",
     "output_type": "stream",
     "text": [
      "Generated Response:\n",
      "Advanced Cardiovascular Associates\n",
      "RespiraLung Pulmonary Clinic\n",
      "\n",
      "Answer provided by AP.\n",
      "\n"
     ]
    }
   ],
   "source": [
    "question = \"What clinic does Jonathan Reynolds work at? State multiple answers if available.\"\n",
    "\n",
    "docs_with_scores = db.similarity_search_with_score(question, k = 2) # a list of docs\n",
    "\n",
    "\n",
    "context_prompt = RAG_PROMPT_TEMPLATE.format(\n",
    "    # context = docs_with_scores[0][0].page_content,\n",
    "    context = concat_RAG_page_content(docs_with_scores),\n",
    "    question = question,\n",
    ")\n",
    "\n",
    "res = generate(context_prompt, max_new_tokens=1000, temperature=0.5)\n",
    "\n",
    "# print(f\"Prompt:\\n{context_prompt}\\n\")\n",
    "print(f\"Generated Response:\\n{res}\")"
   ]
  },
  {
   "cell_type": "code",
   "execution_count": null,
   "id": "e2fa11c0-8f89-425f-b5ab-6a8cd30e8cde",
   "metadata": {},
   "outputs": [],
   "source": [
    "question = \"What clinic does Jonathan Reynolds work at? State multiple answers if available.\"\n",
    "\n",
    "docs_with_scores = db.similarity_search_with_score(question, k = 2) # a list of docs\n",
    "\n",
    "\n",
    "context_prompt = RAG_PROMPT_TEMPLATE.format(\n",
    "    # context = docs_with_scores[0][0].page_content,\n",
    "    context = concat_RAG_page_content(docs_with_scores),\n",
    "    question = question,\n",
    ")\n",
    "\n",
    "res = generate(context_prompt, max_new_tokens=1000, temperature=0.5)\n",
    "\n",
    "# print(f\"Prompt:\\n{context_prompt}\\n\")\n",
    "print(f\"Generated Response:\\n{res}\")"
   ]
  },
  {
   "cell_type": "markdown",
   "id": "aa17701c-1006-46b8-bb3f-1847440ecca8",
   "metadata": {},
   "source": [
    "# Langchain for RAG"
   ]
  },
  {
   "cell_type": "markdown",
   "id": "5a1434f7-c11c-48df-870b-713429520a67",
   "metadata": {},
   "source": [
    "import torch\n",
    "from transformers import AutoModelForCausalLM, AutoTokenizer, pipeline\n",
    "\n",
    "from langchain_core.documents import Document\n",
    "from typing import List, Dict\n",
    "\n",
    "import glob\n",
    "from langchain.document_loaders import TextLoader, PyPDFLoader\n",
    "from langchain.embeddings.sentence_transformer import SentenceTransformerEmbeddings\n",
    "from langchain.text_splitter import CharacterTextSplitter\n",
    "from langchain.vectorstores.pgvector import PGVector\n",
    "\n",
    "import sqlalchemy\n",
    "import numpy as np\n",
    "import pprint"
   ]
  },
  {
   "cell_type": "markdown",
   "id": "c3025051-3030-4d98-a423-90e6bfe34af6",
   "metadata": {},
   "source": [
    "## Objects\n",
    "* langchain\n",
    "    * document_loaders -> TextLoader, PyPDFLoader\n",
    "    * embeddings.sentence_transformer -> SentenceTransformerEmbeddings\n",
    "    * text_splitter -> CharacterTextSplitter\n",
    "    * vectorstores.pgvector -> PGVector\n",
    "    * schema -> StrOutputParser\n",
    "    * schema.runnable -> RunnablePassthrough\n",
    "    * schema.runnable -> RunnableParallel\n",
    "    * prompts -> PromptTemplate\n",
    "    * llms.huggingface_pipeline -> HuggingFacePipeline\n",
    "\n",
    "* HuggingFacePipeline\n",
    "    * pipeline?\n",
    "        * specific time is \"text-generation\"\n",
    "    * parameters: model, tokenizer, max_new_tokens\n",
    "* PGVector.as_retriever()\n",
    "* itemgetter()\n",
    "* PromptTemplate\n",
    "    * Pass in the parameters with {parameter}\n",
    "        * e.g. {context}, {question}\n",
    "* model\n",
    "* OutputParser\n",
    "    * langchain.schema -> StrOutputParser\n",
    "* RunnabelParallel"
   ]
  },
  {
   "cell_type": "markdown",
   "id": "c5a5564d-6f1e-465c-8f17-382bae0f7e59",
   "metadata": {},
   "source": [
    "## Import libraries"
   ]
  },
  {
   "cell_type": "code",
   "execution_count": 35,
   "id": "3e14f617-9d94-4863-ab4b-1677edea5962",
   "metadata": {},
   "outputs": [],
   "source": [
    "from operator import itemgetter\n",
    "from langchain.schema import StrOutputParser\n",
    "from langchain.prompts import PromptTemplate\n",
    "from langchain.schema.runnable import RunnablePassthrough\n",
    "from langchain.schema.runnable import RunnableParallel\n",
    "from langchain.llms.huggingface_pipeline import HuggingFacePipeline\n",
    "\n",
    "import re"
   ]
  },
  {
   "cell_type": "markdown",
   "id": "1e8299c3-c389-46d3-835e-13b564fc31ff",
   "metadata": {},
   "source": [
    "## Set up `retriever`"
   ]
  },
  {
   "cell_type": "code",
   "execution_count": 36,
   "id": "e97c3eb4-b17a-4601-bd2a-e13cbe6eccdd",
   "metadata": {},
   "outputs": [],
   "source": [
    "# Turn our db into a retriever\n",
    "retriever = db.as_retriever(search_kwargs = {'k' : 1})"
   ]
  },
  {
   "cell_type": "markdown",
   "id": "e986be3b-671b-4c1c-88ff-ebb7a5e12adf",
   "metadata": {},
   "source": [
    "## Create pipeline - `HuggingFacePipeline`"
   ]
  },
  {
   "cell_type": "code",
   "execution_count": null,
   "id": "1b6816f9-40da-4a5c-bce6-a8e598dc4c6b",
   "metadata": {},
   "outputs": [],
   "source": []
  },
  {
   "cell_type": "code",
   "execution_count": 37,
   "id": "50a52018-a95c-4e5b-93a7-8bbbca6b3c53",
   "metadata": {},
   "outputs": [
    {
     "name": "stderr",
     "output_type": "stream",
     "text": [
      "The model 'PeftModelForCausalLM' is not supported for text-generation. Supported models are ['BartForCausalLM', 'BertLMHeadModel', 'BertGenerationDecoder', 'BigBirdForCausalLM', 'BigBirdPegasusForCausalLM', 'BioGptForCausalLM', 'BlenderbotForCausalLM', 'BlenderbotSmallForCausalLM', 'BloomForCausalLM', 'CamembertForCausalLM', 'LlamaForCausalLM', 'CodeGenForCausalLM', 'CpmAntForCausalLM', 'CTRLLMHeadModel', 'Data2VecTextForCausalLM', 'ElectraForCausalLM', 'ErnieForCausalLM', 'FalconForCausalLM', 'FuyuForCausalLM', 'GitForCausalLM', 'GPT2LMHeadModel', 'GPT2LMHeadModel', 'GPTBigCodeForCausalLM', 'GPTNeoForCausalLM', 'GPTNeoXForCausalLM', 'GPTNeoXJapaneseForCausalLM', 'GPTJForCausalLM', 'LlamaForCausalLM', 'MarianForCausalLM', 'MBartForCausalLM', 'MegaForCausalLM', 'MegatronBertForCausalLM', 'MistralForCausalLM', 'MixtralForCausalLM', 'MptForCausalLM', 'MusicgenForCausalLM', 'MvpForCausalLM', 'OpenLlamaForCausalLM', 'OpenAIGPTLMHeadModel', 'OPTForCausalLM', 'PegasusForCausalLM', 'PersimmonForCausalLM', 'PhiForCausalLM', 'PLBartForCausalLM', 'ProphetNetForCausalLM', 'QDQBertLMHeadModel', 'Qwen2ForCausalLM', 'ReformerModelWithLMHead', 'RemBertForCausalLM', 'RobertaForCausalLM', 'RobertaPreLayerNormForCausalLM', 'RoCBertForCausalLM', 'RoFormerForCausalLM', 'RwkvForCausalLM', 'Speech2Text2ForCausalLM', 'TransfoXLLMHeadModel', 'TrOCRForCausalLM', 'WhisperForCausalLM', 'XGLMForCausalLM', 'XLMWithLMHeadModel', 'XLMProphetNetForCausalLM', 'XLMRobertaForCausalLM', 'XLMRobertaXLForCausalLM', 'XLNetLMHeadModel', 'XmodForCausalLM'].\n"
     ]
    }
   ],
   "source": [
    "# Turn our model into an LLM\n",
    "pipe = pipeline(\n",
    "    \"text-generation\", \n",
    "    model=model, \n",
    "    tokenizer=tokenizer, \n",
    "    max_new_tokens=100)"
   ]
  },
  {
   "cell_type": "code",
   "execution_count": 76,
   "id": "76c96d5f-6b22-47b3-8bf4-d68b19710723",
   "metadata": {},
   "outputs": [],
   "source": [
    "llm = HuggingFacePipeline(pipeline=pipe)\n",
    "\n",
    "prompt_template = PromptTemplate.from_template(\"\"\"\n",
    "Answer the question using only this context and followed by 'Answer provided by AP':\n",
    "\n",
    "Context: {context}\n",
    "\n",
    "Question: {question}\n",
    "\n",
    "Answer: \n",
    "\"\"\")                                    "
   ]
  },
  {
   "cell_type": "code",
   "execution_count": null,
   "id": "0024c2d4-2f4f-4757-a41a-29836b4d7813",
   "metadata": {},
   "outputs": [],
   "source": [
    "re.search(\"([MSL].{1,})\", docs_with_scores[0][0].metadata[\"source\"])[0]"
   ]
  },
  {
   "cell_type": "code",
   "execution_count": null,
   "id": "aac11c6e-052d-46cf-aec7-731592337cb3",
   "metadata": {},
   "outputs": [],
   "source": []
  },
  {
   "cell_type": "markdown",
   "id": "421b896e-8e30-4fa9-9cdb-443b664d7518",
   "metadata": {},
   "source": [
    "## `format_docs()`"
   ]
  },
  {
   "cell_type": "code",
   "execution_count": 70,
   "id": "9c643d05-5633-4d11-95b1-82aa41234494",
   "metadata": {},
   "outputs": [],
   "source": [
    "def format_docs(docs):\n",
    "    return \"\\n\\n\".join(doc.page_content for doc in docs)\n"
   ]
  },
  {
   "cell_type": "markdown",
   "id": "ee4fa00f-df1a-455a-b357-f61092135152",
   "metadata": {},
   "source": [
    "## Chain"
   ]
  },
  {
   "cell_type": "markdown",
   "id": "62e53a5c-e735-4df8-be00-d63351bb2246",
   "metadata": {},
   "source": [
    "### RAG Chain: template -> model -> output parser"
   ]
  },
  {
   "cell_type": "code",
   "execution_count": 71,
   "id": "882792ce-24fc-498c-a15f-00a42b7e62d2",
   "metadata": {},
   "outputs": [],
   "source": [
    "# Build a chain with multiple documents for RAG\n",
    "rag_chain_from_docs = (\n",
    "    {\n",
    "        \"context\": lambda input: format_docs(input[\"documents\"]),\n",
    "        \"question\": itemgetter(\"question\"),\n",
    "    }\n",
    "    | prompt_template\n",
    "    | llm\n",
    "    | StrOutputParser()\n",
    ")"
   ]
  },
  {
   "cell_type": "markdown",
   "id": "888143fc-f103-4933-b9be-e75fa2e44665",
   "metadata": {},
   "source": [
    "### RAG chain with retriever"
   ]
  },
  {
   "cell_type": "code",
   "execution_count": 77,
   "id": "f012da96-f188-4304-a272-357da2505073",
   "metadata": {},
   "outputs": [],
   "source": [
    "# 2-step chain, first retrieve documents\n",
    "# Then take those documents and store relevant infomration in `document_sources`\n",
    "# Pass the prompt into the document chain\n",
    "rag_chain_with_source = RunnableParallel({\n",
    "    \"documents\": retriever, \n",
    "     \"question\": RunnablePassthrough()\n",
    "}) | {\n",
    "    \"sources\": lambda input: [(doc.page_content, doc.metadata) for doc in input[\"documents\"]], # input[\"documents\"] is from the previous link in the chain\n",
    "    \"answer\": rag_chain_from_docs,\n",
    "}"
   ]
  },
  {
   "cell_type": "markdown",
   "id": "d6b03def-fe6a-44f9-a649-38c0220d09ca",
   "metadata": {},
   "source": [
    "### Invoke"
   ]
  },
  {
   "cell_type": "code",
   "execution_count": 86,
   "id": "47333982-f577-4ca3-983b-5e9fb16c901c",
   "metadata": {},
   "outputs": [],
   "source": [
    "query = \"What's the efficacy of Neurosolvix? Cite the source\""
   ]
  },
  {
   "cell_type": "code",
   "execution_count": 87,
   "id": "fefc67c1-d09b-4007-9d13-c1671bc2429d",
   "metadata": {},
   "outputs": [
    {
     "name": "stderr",
     "output_type": "stream",
     "text": [
      "Setting `pad_token_id` to `eos_token_id`:2 for open-end generation.\n"
     ]
    },
    {
     "name": "stdout",
     "output_type": "stream",
     "text": [
      "\n",
      "Source: \n",
      "\n",
      "Medical Science Liaison (MSL) Notes - NeuroSolvix in Neuropathic Pain Management  \n",
      "Date: March 25, 2023  \n",
      "Provider: Dr. Joshua Martinez  \n",
      "Title: Pain Management Specialist  \n",
      "Institution: PainRelief Clinic  \n",
      "Summary of Key Discussion Points:  \n",
      "1. Introduction:  \n",
      "• Introduced NeuroSolvix as a\n"
     ]
    }
   ],
   "source": [
    "res = rag_chain_with_source.invoke(query)\n",
    "\n",
    "print(res[\"answer\"])"
   ]
  },
  {
   "cell_type": "code",
   "execution_count": 80,
   "id": "fe2133e6-4195-4a96-a5dc-84be91e1fac9",
   "metadata": {},
   "outputs": [
    {
     "data": {
      "text/plain": [
       "2"
      ]
     },
     "execution_count": 80,
     "metadata": {},
     "output_type": "execute_result"
    }
   ],
   "source": [
    "len(res[\"sources\"])"
   ]
  },
  {
   "cell_type": "code",
   "execution_count": 81,
   "id": "ec8c6151-980e-4798-aaef-efb885cdbb60",
   "metadata": {},
   "outputs": [
    {
     "name": "stdout",
     "output_type": "stream",
     "text": [
      "[('Subject:  Medical Science Liaison (MSL) Notes - NeuroSolvix in Neuropathic '\n",
      "  'Pain Management  \\n'\n",
      "  'Date:  March  25, 20 23 \\n'\n",
      "  'Provider:  Dr. Joshua Martinez  \\n'\n",
      "  'Title:  Pain Management Specialist  \\n'\n",
      "  'Institution:  PainRelief Clinic  \\n'\n",
      "  'Summary of Key Discussion Points:  \\n'\n",
      "  '1. Introduction:  \\n'\n",
      "  '• Introduced NeuroSolvix as a potential therapy for the management of '\n",
      "  'neuropathic pain.  \\n'\n",
      "  '• Emphasized its unique mechanism targeting central sensitization and '\n",
      "  'neural \\n'\n",
      "  'hyperactivity.  \\n'\n",
      "  \"2. Provider's Current Patient Cases:  \\n\"\n",
      "  '• Dr. Martinez expressed interest in novel approaches for patients with '\n",
      "  'chronic \\n'\n",
      "  'neuropathic pain.  \\n'\n",
      "  '• Discussed specific cases where current analgesics and neuropathic pain '\n",
      "  'medications \\n'\n",
      "  'have shown limited efficacy or significant side effects.  \\n'\n",
      "  '3. Efficacy and Clinica l Data:  \\n'\n",
      "  \"• Presented recent clinical data showcasing NeuroSolvix's ability to reduce \"\n",
      "  'neuropathic \\n'\n",
      "  'pain scores by 40% and improve patient -reported quality of life.  \\n'\n",
      "  '• Highlighted statistically significant improvements in pain -related '\n",
      "  'functional outcomes.  \\n'\n",
      "  '4. Safety Pr ofile:  \\n'\n",
      "  '• Discussed the favorable safety profile of NeuroSolvix, with minimal '\n",
      "  'reported adverse \\n'\n",
      "  'effects.  \\n'\n",
      "  '• Dr. Martinez inquired about potential interactions with commonly '\n",
      "  'prescribed pain \\n'\n",
      "  'medications.  \\n'\n",
      "  '5. Mechanism of Action:  \\n'\n",
      "  \"• Explained NeuroSolvix's mechanism, focusing on its role in modulating \"\n",
      "  'neural \\n'\n",
      "  'hyperactivity and dampening central pain pathways.  \\n'\n",
      "  \"• Dr. Martinez appreciated the drug's targeted approach and sought insights \"\n",
      "  'into its \\n'\n",
      "  'potential for long -term pain relief.  \\n'\n",
      "  '6. Patient Adherence and Education:  \\n'\n",
      "  '• Discussed strategies for enhancing patient adherence through a twice '\n",
      "  '-monthly \\n'\n",
      "  'subcutaneous injection.  \\n'\n",
      "  '• Shared patient education materials emphasizing the importance of '\n",
      "  'consistent pain \\n'\n",
      "  'management for improved daily functioning.  \\n'\n",
      "  '7. Emergi ng Research and Future Developments:',\n",
      "  {'page': 0, 'source': '../../msl-data/MSL Notes_25.pdf'}),\n",
      " ('Subject:  Medical Science Liaison (MSL) Notes - Skepticism and Concerns on '\n",
      "  'NeuroSolvix  \\n'\n",
      "  'Date: April 30, 202 3 \\n'\n",
      "  'Provider:  Dr. Cynthia Rodriguez  \\n'\n",
      "  'Title:  Pain Management Specialist  \\n'\n",
      "  'Institution:  NerveEase Pain Clinic  \\n'\n",
      "  'Summary of Key Discussion Points:  \\n'\n",
      "  '1. Introduction:  \\n'\n",
      "  '• Introduced NeuroSolvix as a potential therapy for neuropathic pain '\n",
      "  'management.  \\n'\n",
      "  '• Dr. Rodriguez expressed skepticism, questioning the need for another '\n",
      "  'medication in an \\n'\n",
      "  'already crowded pain management landscape.  \\n'\n",
      "  \"2. Provider's Current Patient Cases:  \\n\"\n",
      "  '• Dr. Rodriguez shared concerns about introducing new medications without '\n",
      "  'clear \\n'\n",
      "  'superiority ove r existing neuropathic pain treatments.  \\n'\n",
      "  '• Discussed specific cases where current therapies have shown established '\n",
      "  'efficacy in pain \\n'\n",
      "  'relief.  \\n'\n",
      "  '3. Efficacy and Clinical Data:  \\n'\n",
      "  \"• Presented recent clinical data showcasing NeuroSolvix's reduction in \"\n",
      "  'neuropathic pain \\n'\n",
      "  'score s and improved quality of life.  \\n'\n",
      "  '• Dr. Rodriguez questioned the clinical relevance of the reported '\n",
      "  'improvements and \\n'\n",
      "  'sought comparative data against established treatments.  \\n'\n",
      "  '4. Safety Profile:  \\n'\n",
      "  '• Discussed the favorable safety profile of NeuroSolvix, with minimal rep '\n",
      "  'orted adverse \\n'\n",
      "  'effects.  \\n'\n",
      "  '• Dr. Rodriguez expressed concerns about the lack of long -term safety data '\n",
      "  'and potential \\n'\n",
      "  'unforeseen side effects.  \\n'\n",
      "  '5. Mechanism of Action:  \\n'\n",
      "  \"• Explained NeuroSolvix's mechanism, focusing on its role in modulating \"\n",
      "  'neural \\n'\n",
      "  'hyperactivity and centr al pain pathways.  \\n'\n",
      "  '• Dr. Rodriguez questioned the uniqueness of the mechanism and how it '\n",
      "  'addresses \\n'\n",
      "  'specific pain etiologies not covered by existing treatments.  \\n'\n",
      "  '6. Patient Adherence and Education:  \\n'\n",
      "  '• Discussed strategies for enhancing patient adherence through a twi '\n",
      "  'ce-monthly \\n'\n",
      "  'subcutaneous injection.  \\n'\n",
      "  '• Dr. Rodriguez expressed skepticism about patient compliance, citing '\n",
      "  'concerns about the \\n'\n",
      "  'inconvenience of frequent injections.',\n",
      "  {'page': 0, 'source': '../../msl-data/MSL Notes_26.pdf'})]\n"
     ]
    }
   ],
   "source": [
    "pprint.pprint(res[\"sources\"])"
   ]
  },
  {
   "cell_type": "markdown",
   "id": "8eaf429b-c925-410c-bcc7-88a31268bfa9",
   "metadata": {},
   "source": [
    "# COMBINED"
   ]
  },
  {
   "cell_type": "markdown",
   "id": "2df64d54-fa40-44b7-94c9-7470934f3375",
   "metadata": {},
   "source": [
    "## Database"
   ]
  },
  {
   "cell_type": "code",
   "execution_count": 62,
   "id": "9e7b26ca-b042-4da0-92c9-23536a6c816b",
   "metadata": {},
   "outputs": [],
   "source": [
    "def chunk_document(doc_path: str) -> List[Document]:\n",
    "    \"\"\"Chunk a document into smaller langchain Documents for embedding.\n",
    "\n",
    "    :param doc_path: path to document\n",
    "    :type doc_path: str\n",
    "    :return: List of Document chunks\n",
    "    :rtype: List[Document]\n",
    "    \"\"\"\n",
    "    loader = PyPDFLoader(doc_path)\n",
    "    documents = loader.load()\n",
    "\n",
    "    # split document based on the `\\n\\n` character, quite unintuitive\n",
    "    # https://stackoverflow.com/questions/76633836/what-does-langchain-charactertextsplitters-chunk-size-param-even-do\n",
    "    text_splitter = CharacterTextSplitter(chunk_size=1000, chunk_overlap=0)\n",
    "    \n",
    "    return text_splitter.split_documents(documents)\n",
    "\n",
    "\n",
    "# load the document and split it into chunks\n",
    "doc_chunks = []\n",
    "for doc in glob.glob(\"../../msl-data/*.pdf\"):\n",
    "    doc_chunks += chunk_document(doc)\n",
    "    \n",
    "db = PGVector.from_documents(\n",
    "    doc_chunks,\n",
    "    connection_string = CONNECTION_STRING,\n",
    "    collection_name = \"embeddings\",\n",
    "    embedding = embedding_function,\n",
    "    pre_delete_collection = True, # uncomment this to delete existing database first\n",
    ")"
   ]
  },
  {
   "cell_type": "markdown",
   "id": "15c00e7a-9d49-4bc4-bb26-1c357db9cc01",
   "metadata": {},
   "source": [
    "## Model"
   ]
  },
  {
   "cell_type": "code",
   "execution_count": 63,
   "id": "902df277-fb56-4417-aa71-85075706db77",
   "metadata": {},
   "outputs": [
    {
     "name": "stderr",
     "output_type": "stream",
     "text": [
      "Setting `pad_token_id` to `eos_token_id`:2 for open-end generation.\n"
     ]
    },
    {
     "name": "stdout",
     "output_type": "stream",
     "text": [
      "\n",
      "NeuroSolvix has shown efficacy in reducing neuropathic pain scores by 40% and improving patient-reported quality of life. Statistically significant improvements in pain-related functional outcomes have also been observed.\n",
      "\n",
      "[(\"Subject:  Medical Science Liaison (MSL) Notes - NeuroSolvix in Neuropathic Pain Management  \\nDate:  March  25, 20 23 \\nProvider:  Dr. Joshua Martinez  \\nTitle:  Pain Management Specialist  \\nInstitution:  PainRelief Clinic  \\nSummary of Key Discussion Points:  \\n1. Introduction:  \\n• Introduced NeuroSolvix as a potential therapy for the management of neuropathic pain.  \\n• Emphasized its unique mechanism targeting central sensitization and neural \\nhyperactivity.  \\n2. Provider's Current Patient Cases:  \\n• Dr. Martinez expressed interest in novel approaches for patients with chronic \\nneuropathic pain.  \\n• Discussed specific cases where current analgesics and neuropathic pain medications \\nhave shown limited efficacy or significant side effects.  \\n3. Efficacy and Clinica l Data:  \\n• Presented recent clinical data showcasing NeuroSolvix's ability to reduce neuropathic \\npain scores by 40% and improve patient -reported quality of life.  \\n• Highlighted statistically significant improvements in pain -related functional outcomes.  \\n4. Safety Pr ofile:  \\n• Discussed the favorable safety profile of NeuroSolvix, with minimal reported adverse \\neffects.  \\n• Dr. Martinez inquired about potential interactions with commonly prescribed pain \\nmedications.  \\n5. Mechanism of Action:  \\n• Explained NeuroSolvix's mechanism, focusing on its role in modulating neural \\nhyperactivity and dampening central pain pathways.  \\n• Dr. Martinez appreciated the drug's targeted approach and sought insights into its \\npotential for long -term pain relief.  \\n6. Patient Adherence and Education:  \\n• Discussed strategies for enhancing patient adherence through a twice -monthly \\nsubcutaneous injection.  \\n• Shared patient education materials emphasizing the importance of consistent pain \\nmanagement for improved daily functioning.  \\n7. Emergi ng Research and Future Developments:\", {'source': '../../msl-data/MSL Notes_25.pdf', 'page': 0}), (\"Subject:  Medical Science Liaison (MSL) Notes - Skepticism and Concerns on NeuroSolvix  \\nDate: April 30, 202 3 \\nProvider:  Dr. Cynthia Rodriguez  \\nTitle:  Pain Management Specialist  \\nInstitution:  NerveEase Pain Clinic  \\nSummary of Key Discussion Points:  \\n1. Introduction:  \\n• Introduced NeuroSolvix as a potential therapy for neuropathic pain management.  \\n• Dr. Rodriguez expressed skepticism, questioning the need for another medication in an \\nalready crowded pain management landscape.  \\n2. Provider's Current Patient Cases:  \\n• Dr. Rodriguez shared concerns about introducing new medications without clear \\nsuperiority ove r existing neuropathic pain treatments.  \\n• Discussed specific cases where current therapies have shown established efficacy in pain \\nrelief.  \\n3. Efficacy and Clinical Data:  \\n• Presented recent clinical data showcasing NeuroSolvix's reduction in neuropathic pain \\nscore s and improved quality of life.  \\n• Dr. Rodriguez questioned the clinical relevance of the reported improvements and \\nsought comparative data against established treatments.  \\n4. Safety Profile:  \\n• Discussed the favorable safety profile of NeuroSolvix, with minimal rep orted adverse \\neffects.  \\n• Dr. Rodriguez expressed concerns about the lack of long -term safety data and potential \\nunforeseen side effects.  \\n5. Mechanism of Action:  \\n• Explained NeuroSolvix's mechanism, focusing on its role in modulating neural \\nhyperactivity and centr al pain pathways.  \\n• Dr. Rodriguez questioned the uniqueness of the mechanism and how it addresses \\nspecific pain etiologies not covered by existing treatments.  \\n6. Patient Adherence and Education:  \\n• Discussed strategies for enhancing patient adherence through a twi ce-monthly \\nsubcutaneous injection.  \\n• Dr. Rodriguez expressed skepticism about patient compliance, citing concerns about the \\ninconvenience of frequent injections.\", {'source': '../../msl-data/MSL Notes_26.pdf', 'page': 0})]\n"
     ]
    }
   ],
   "source": [
    "from operator import itemgetter\n",
    "from langchain.schema import StrOutputParser\n",
    "from langchain.prompts import PromptTemplate\n",
    "from langchain.schema.runnable import RunnablePassthrough\n",
    "from langchain.schema.runnable import RunnableParallel\n",
    "from langchain.llms.huggingface_pipeline import HuggingFacePipeline\n",
    "\n",
    "def format_docs(docs):\n",
    "    return \"\\n\\n\".join(doc.page_content for doc in docs)\n",
    "\n",
    "####------------------------------RETRIEVER------------------------------####\n",
    "# Turn our db into a retriever\n",
    "retriever = db.as_retriever(search_kwargs = {'k' : 2})\n",
    "\n",
    "####------------------------------TEMPLATE------------------------------####\n",
    "prompt_template = PromptTemplate.from_template(\"\"\"\n",
    "Answer the question using only this context and followed by 'Answer provided by AP':\n",
    "\n",
    "Context: {context}\n",
    "\n",
    "Question: {question}\n",
    "\n",
    "Answer: \n",
    "\"\"\")\n",
    "\n",
    "####------------------------------QUERY------------------------------####\n",
    "query = \"What's the efficacy of Neurosolvix?\"\n",
    "\n",
    "####------------------------------MODEL------------------------------####\n",
    "# Turn our model into an LLM\n",
    "pipe = pipeline(\n",
    "    \"text-generation\", \n",
    "    model=model, \n",
    "    tokenizer=tokenizer, \n",
    "    max_new_tokens=100)\n",
    "\n",
    "llm = HuggingFacePipeline(pipeline=pipe)\n",
    "\n",
    "\n",
    "\n",
    "\n",
    "\n",
    "####------------------------------CHAINS------------------------------####\n",
    "    # Build a chain with multiple documents for RAG\n",
    "rag_chain_from_docs = (\n",
    "    {\n",
    "        \"context\": lambda input: format_docs(input[\"documents\"]),\n",
    "        \"question\": itemgetter(\"question\"),\n",
    "    }\n",
    "    | prompt_template\n",
    "    | llm\n",
    "    | StrOutputParser()\n",
    ")\n",
    "\n",
    "    # 2-step chain, first retrieve documents\n",
    "    # Then take those documents and store relevant infomration in `document_sources`\n",
    "    # Pass the prompt into the document chain\n",
    "rag_chain_with_source = RunnableParallel({\n",
    "    \"documents\": retriever, \n",
    "     \"question\": RunnablePassthrough()\n",
    "}) | {\n",
    "    \"sources\": lambda input: [(doc.page_content, doc.metadata) for doc in input[\"documents\"]], # input[\"documents\"] is from the previous link in the chain\n",
    "    \"answer\": rag_chain_from_docs,\n",
    "}\n",
    "\n",
    "\n",
    "\n",
    "res = rag_chain_with_source.invoke(query)\n",
    "\n",
    "print(res[\"answer\"])\n",
    "print()\n",
    "print(res[\"sources\"])"
   ]
  },
  {
   "cell_type": "code",
   "execution_count": 36,
   "id": "2337e280-47a7-4310-a57d-e0eac8450e22",
   "metadata": {},
   "outputs": [],
   "source": [
    "from operator import itemgetter\n",
    "from langchain.schema import StrOutputParser\n",
    "from langchain.prompts import PromptTemplate\n",
    "from langchain.schema.runnable import RunnablePassthrough\n",
    "from langchain.schema.runnable import RunnableParallel\n",
    "from langchain.llms.huggingface_pipeline import HuggingFacePipeline\n",
    "\n",
    "def format_docs(docs):\n",
    "    return \"\\n\\n\".join(doc.page_content for doc in docs)\n",
    "\n",
    "def run_model(query_inp, retriever_inp):\n",
    "    \n",
    "        ####------------------------------MODEL------------------------------####\n",
    "    # Turn our model into an LLM\n",
    "    pipe = pipeline(\n",
    "        \"text-generation\", \n",
    "        model=model, \n",
    "        tokenizer=tokenizer, \n",
    "        max_new_tokens=100)\n",
    "\n",
    "    llm = HuggingFacePipeline(pipeline=pipe)\n",
    "\n",
    "\n",
    "\n",
    "\n",
    "\n",
    "    ####------------------------------CHAINS------------------------------####\n",
    "        # Build a chain with multiple documents for RAG\n",
    "    rag_chain_from_docs = (\n",
    "        {\n",
    "            \"context\": lambda input: format_docs(input[\"documents\"]),\n",
    "            \"question\": itemgetter(\"question\"),\n",
    "        }\n",
    "        | prompt_template\n",
    "        | llm\n",
    "        | StrOutputParser()\n",
    "    )\n",
    "\n",
    "        # 2-step chain, first retrieve documents\n",
    "        # Then take those documents and store relevant infomration in `document_sources`\n",
    "        # Pass the prompt into the document chain\n",
    "    rag_chain_with_source = RunnableParallel({\n",
    "        \"documents\": retriever_inp, \n",
    "         \"question\": RunnablePassthrough()\n",
    "    }) | {\n",
    "        \"sources\": lambda input: [(doc.page_content, doc.metadata) for doc in input[\"documents\"]], # input[\"documents\"] is from the previous link in the chain\n",
    "        \"answer\": rag_chain_from_docs,\n",
    "    }\n",
    "\n",
    "\n",
    "\n",
    "    res = rag_chain_with_source.invoke(query_inp)\n",
    "    \n",
    "    return (res[\"answer\"], res[\"sources\"])\n",
    "    "
   ]
  },
  {
   "cell_type": "code",
   "execution_count": 49,
   "id": "2bf86e6c-036d-41d3-b837-34a762e13bc8",
   "metadata": {},
   "outputs": [
    {
     "name": "stdout",
     "output_type": "stream",
     "text": [
      "<class 'pandas.core.frame.DataFrame'>\n",
      "RangeIndex: 6 entries, 0 to 5\n",
      "Data columns (total 3 columns):\n",
      " #   Column       Non-Null Count  Dtype \n",
      "---  ------       --------------  ----- \n",
      " 0   Query        6 non-null      object\n",
      " 1   MSL_Notes_x  6 non-null      object\n",
      " 2   MSL_Answer   6 non-null      object\n",
      "dtypes: object(3)\n",
      "memory usage: 272.0+ bytes\n"
     ]
    }
   ],
   "source": [
    "df_queries.info()"
   ]
  },
  {
   "cell_type": "code",
   "execution_count": 74,
   "id": "0437310b-a159-435b-96f9-1fd9e80a8fa1",
   "metadata": {},
   "outputs": [],
   "source": [
    "df_output.to_csv(\"./output_results\", index=False)"
   ]
  },
  {
   "cell_type": "code",
   "execution_count": 72,
   "id": "8daf9535-b752-4d57-ad23-4c47062c4d80",
   "metadata": {},
   "outputs": [
    {
     "name": "stderr",
     "output_type": "stream",
     "text": [
      "Setting `pad_token_id` to `eos_token_id`:2 for open-end generation.\n",
      "Setting `pad_token_id` to `eos_token_id`:2 for open-end generation.\n",
      "Setting `pad_token_id` to `eos_token_id`:2 for open-end generation.\n",
      "Setting `pad_token_id` to `eos_token_id`:2 for open-end generation.\n",
      "Setting `pad_token_id` to `eos_token_id`:2 for open-end generation.\n",
      "Setting `pad_token_id` to `eos_token_id`:2 for open-end generation.\n",
      "Setting `pad_token_id` to `eos_token_id`:2 for open-end generation.\n",
      "Setting `pad_token_id` to `eos_token_id`:2 for open-end generation.\n",
      "Setting `pad_token_id` to `eos_token_id`:2 for open-end generation.\n",
      "Setting `pad_token_id` to `eos_token_id`:2 for open-end generation.\n",
      "Setting `pad_token_id` to `eos_token_id`:2 for open-end generation.\n",
      "Setting `pad_token_id` to `eos_token_id`:2 for open-end generation.\n",
      "Setting `pad_token_id` to `eos_token_id`:2 for open-end generation.\n",
      "Setting `pad_token_id` to `eos_token_id`:2 for open-end generation.\n",
      "Setting `pad_token_id` to `eos_token_id`:2 for open-end generation.\n",
      "Setting `pad_token_id` to `eos_token_id`:2 for open-end generation.\n",
      "Setting `pad_token_id` to `eos_token_id`:2 for open-end generation.\n",
      "Setting `pad_token_id` to `eos_token_id`:2 for open-end generation.\n",
      "Setting `pad_token_id` to `eos_token_id`:2 for open-end generation.\n",
      "Setting `pad_token_id` to `eos_token_id`:2 for open-end generation.\n",
      "Setting `pad_token_id` to `eos_token_id`:2 for open-end generation.\n",
      "Setting `pad_token_id` to `eos_token_id`:2 for open-end generation.\n",
      "Setting `pad_token_id` to `eos_token_id`:2 for open-end generation.\n",
      "Setting `pad_token_id` to `eos_token_id`:2 for open-end generation.\n",
      "Setting `pad_token_id` to `eos_token_id`:2 for open-end generation.\n",
      "Setting `pad_token_id` to `eos_token_id`:2 for open-end generation.\n",
      "Setting `pad_token_id` to `eos_token_id`:2 for open-end generation.\n",
      "Setting `pad_token_id` to `eos_token_id`:2 for open-end generation.\n",
      "Setting `pad_token_id` to `eos_token_id`:2 for open-end generation.\n",
      "Setting `pad_token_id` to `eos_token_id`:2 for open-end generation.\n",
      "Setting `pad_token_id` to `eos_token_id`:2 for open-end generation.\n",
      "Setting `pad_token_id` to `eos_token_id`:2 for open-end generation.\n",
      "Setting `pad_token_id` to `eos_token_id`:2 for open-end generation.\n",
      "Setting `pad_token_id` to `eos_token_id`:2 for open-end generation.\n",
      "Setting `pad_token_id` to `eos_token_id`:2 for open-end generation.\n",
      "Setting `pad_token_id` to `eos_token_id`:2 for open-end generation.\n",
      "Setting `pad_token_id` to `eos_token_id`:2 for open-end generation.\n",
      "Setting `pad_token_id` to `eos_token_id`:2 for open-end generation.\n",
      "Setting `pad_token_id` to `eos_token_id`:2 for open-end generation.\n",
      "Setting `pad_token_id` to `eos_token_id`:2 for open-end generation.\n",
      "Setting `pad_token_id` to `eos_token_id`:2 for open-end generation.\n",
      "Setting `pad_token_id` to `eos_token_id`:2 for open-end generation.\n",
      "Setting `pad_token_id` to `eos_token_id`:2 for open-end generation.\n",
      "Setting `pad_token_id` to `eos_token_id`:2 for open-end generation.\n",
      "Setting `pad_token_id` to `eos_token_id`:2 for open-end generation.\n",
      "Setting `pad_token_id` to `eos_token_id`:2 for open-end generation.\n",
      "Setting `pad_token_id` to `eos_token_id`:2 for open-end generation.\n",
      "Setting `pad_token_id` to `eos_token_id`:2 for open-end generation.\n",
      "Setting `pad_token_id` to `eos_token_id`:2 for open-end generation.\n",
      "Setting `pad_token_id` to `eos_token_id`:2 for open-end generation.\n",
      "Setting `pad_token_id` to `eos_token_id`:2 for open-end generation.\n",
      "Setting `pad_token_id` to `eos_token_id`:2 for open-end generation.\n",
      "Setting `pad_token_id` to `eos_token_id`:2 for open-end generation.\n",
      "Setting `pad_token_id` to `eos_token_id`:2 for open-end generation.\n",
      "Setting `pad_token_id` to `eos_token_id`:2 for open-end generation.\n",
      "Setting `pad_token_id` to `eos_token_id`:2 for open-end generation.\n",
      "Setting `pad_token_id` to `eos_token_id`:2 for open-end generation.\n",
      "Setting `pad_token_id` to `eos_token_id`:2 for open-end generation.\n",
      "Setting `pad_token_id` to `eos_token_id`:2 for open-end generation.\n",
      "Setting `pad_token_id` to `eos_token_id`:2 for open-end generation.\n",
      "Setting `pad_token_id` to `eos_token_id`:2 for open-end generation.\n",
      "Setting `pad_token_id` to `eos_token_id`:2 for open-end generation.\n",
      "Setting `pad_token_id` to `eos_token_id`:2 for open-end generation.\n",
      "Setting `pad_token_id` to `eos_token_id`:2 for open-end generation.\n",
      "Setting `pad_token_id` to `eos_token_id`:2 for open-end generation.\n",
      "Setting `pad_token_id` to `eos_token_id`:2 for open-end generation.\n",
      "Setting `pad_token_id` to `eos_token_id`:2 for open-end generation.\n",
      "Setting `pad_token_id` to `eos_token_id`:2 for open-end generation.\n",
      "Setting `pad_token_id` to `eos_token_id`:2 for open-end generation.\n",
      "Setting `pad_token_id` to `eos_token_id`:2 for open-end generation.\n",
      "Setting `pad_token_id` to `eos_token_id`:2 for open-end generation.\n",
      "Setting `pad_token_id` to `eos_token_id`:2 for open-end generation.\n",
      "Setting `pad_token_id` to `eos_token_id`:2 for open-end generation.\n",
      "Setting `pad_token_id` to `eos_token_id`:2 for open-end generation.\n",
      "Setting `pad_token_id` to `eos_token_id`:2 for open-end generation.\n",
      "Setting `pad_token_id` to `eos_token_id`:2 for open-end generation.\n",
      "Setting `pad_token_id` to `eos_token_id`:2 for open-end generation.\n",
      "Setting `pad_token_id` to `eos_token_id`:2 for open-end generation.\n",
      "Setting `pad_token_id` to `eos_token_id`:2 for open-end generation.\n",
      "Setting `pad_token_id` to `eos_token_id`:2 for open-end generation.\n",
      "Setting `pad_token_id` to `eos_token_id`:2 for open-end generation.\n",
      "Setting `pad_token_id` to `eos_token_id`:2 for open-end generation.\n",
      "Setting `pad_token_id` to `eos_token_id`:2 for open-end generation.\n",
      "Setting `pad_token_id` to `eos_token_id`:2 for open-end generation.\n",
      "Setting `pad_token_id` to `eos_token_id`:2 for open-end generation.\n",
      "Setting `pad_token_id` to `eos_token_id`:2 for open-end generation.\n",
      "Setting `pad_token_id` to `eos_token_id`:2 for open-end generation.\n",
      "Setting `pad_token_id` to `eos_token_id`:2 for open-end generation.\n",
      "Setting `pad_token_id` to `eos_token_id`:2 for open-end generation.\n",
      "Setting `pad_token_id` to `eos_token_id`:2 for open-end generation.\n",
      "Setting `pad_token_id` to `eos_token_id`:2 for open-end generation.\n",
      "Setting `pad_token_id` to `eos_token_id`:2 for open-end generation.\n",
      "Setting `pad_token_id` to `eos_token_id`:2 for open-end generation.\n",
      "Setting `pad_token_id` to `eos_token_id`:2 for open-end generation.\n",
      "Setting `pad_token_id` to `eos_token_id`:2 for open-end generation.\n",
      "Setting `pad_token_id` to `eos_token_id`:2 for open-end generation.\n",
      "Setting `pad_token_id` to `eos_token_id`:2 for open-end generation.\n",
      "Setting `pad_token_id` to `eos_token_id`:2 for open-end generation.\n",
      "Setting `pad_token_id` to `eos_token_id`:2 for open-end generation.\n",
      "Setting `pad_token_id` to `eos_token_id`:2 for open-end generation.\n",
      "Setting `pad_token_id` to `eos_token_id`:2 for open-end generation.\n",
      "Setting `pad_token_id` to `eos_token_id`:2 for open-end generation.\n",
      "Setting `pad_token_id` to `eos_token_id`:2 for open-end generation.\n",
      "Setting `pad_token_id` to `eos_token_id`:2 for open-end generation.\n",
      "Setting `pad_token_id` to `eos_token_id`:2 for open-end generation.\n",
      "Setting `pad_token_id` to `eos_token_id`:2 for open-end generation.\n",
      "Setting `pad_token_id` to `eos_token_id`:2 for open-end generation.\n",
      "Setting `pad_token_id` to `eos_token_id`:2 for open-end generation.\n",
      "Setting `pad_token_id` to `eos_token_id`:2 for open-end generation.\n"
     ]
    },
    {
     "data": {
      "text/html": [
       "<div>\n",
       "<style scoped>\n",
       "    .dataframe tbody tr th:only-of-type {\n",
       "        vertical-align: middle;\n",
       "    }\n",
       "\n",
       "    .dataframe tbody tr th {\n",
       "        vertical-align: top;\n",
       "    }\n",
       "\n",
       "    .dataframe thead th {\n",
       "        text-align: right;\n",
       "    }\n",
       "</style>\n",
       "<table border=\"1\" class=\"dataframe\">\n",
       "  <thead>\n",
       "    <tr style=\"text-align: right;\">\n",
       "      <th></th>\n",
       "      <th>Question</th>\n",
       "      <th>Answer</th>\n",
       "      <th>Source</th>\n",
       "      <th>Quote</th>\n",
       "      <th>Answers</th>\n",
       "      <th>Sources</th>\n",
       "    </tr>\n",
       "  </thead>\n",
       "  <tbody>\n",
       "    <tr>\n",
       "      <th>0</th>\n",
       "      <td>What is the efficacy of Tranquilify in reducing anxiety symptoms?</td>\n",
       "      <td>Tranquilify reduces anxiety symptoms by 20%.</td>\n",
       "      <td>MSL Notes_6.pdf</td>\n",
       "      <td>\"Presented data highlighting Tranquilify's efficacy in reducing anxiety symptoms by 20%.\"</td>\n",
       "      <td>\\nTranquilify has shown an average reduction of 40% in anxiety symptoms. However, the clinical significance of this reduction is debated, with some experts questioning its statistical relevance. Dr. Turner shared concerns about the limited efficacy observed in her initial trials, while Dr. Nguyen expressed interest in new pharmacological options for treatment -resistant anx iety.</td>\n",
       "      <td>[(Subject:  Medical Science Liaison (MSL) Notes - Introduction of Tranquilify i n Anxiety Disorders  \\nDate:  July 15, 2024  \\nProvider:  Dr. Sophia Nguyen  \\nTitle:  Psychiatrist  \\nInstitution:  MindCare Mental Health Clinic  \\nSummary of Key Discussion Points:  \\n1. Introduction:  \\n• Introduced Tranquilify as a potential therapy for anxiety disorders, emphasiz ing its \\nunique mechanism targeting specific neurotransmitter pathways.  \\n• Highlighted the drug's potential in managing both g...</td>\n",
       "    </tr>\n",
       "    <tr>\n",
       "      <th>1</th>\n",
       "      <td>What is the mechanism of action of Aetherisol in rheumatoid arthritis?</td>\n",
       "      <td>Aetherisol targets interleukin-17 pathways.</td>\n",
       "      <td>MSL Notes_1.pdf</td>\n",
       "      <td>\"Explained Aetherisol's unique mechanism of action targeting interleukin-17 pathways.\"</td>\n",
       "      <td>\\nAetherisol's mechanism of action in rheumatoid arthritis involves targeting interleukin -17 (IL -17) pathways. IL -17 is a pro-inflammatory cytokine that plays a crucial role in the development and progression of rheumatoid arthritis. Aetherisol works by inhibiting the production and activity of IL -17, which leads to a reduction</td>\n",
       "      <td>[(Subject:  Medical Science Liaison (MSL) Notes - In-Depth Discussion on Aetherisol  \\nDate:  March 15, 2023  \\nProvider:  Dr. Olivia Reynolds  \\nTitle:  Rheumatologist  \\nInstitution:  Metropolitan Medical Center  \\nSummary of Key Discussion Points:  \\n1. Introduction:  \\n• Expressed gratitude fo r the opportunity to discuss Aetherisol, a novel interleukin -17 \\ninhibitor.  \\n• Discussed Aetherisol's recent approval and its potential impact on refractory \\nrheumatoid arthritis (RA) cases.  ...</td>\n",
       "    </tr>\n",
       "    <tr>\n",
       "      <th>2</th>\n",
       "      <td>How does NeuroRelieve target migraine pathophysiology?</td>\n",
       "      <td>NeuroRelieve targets trigeminal nerve hyperactivity.</td>\n",
       "      <td>MSL Notes_19.pdf</td>\n",
       "      <td>\"Explained NeuroRelieve's mechanism, focusing on its targeted modulation of trigeminal nerve hyperactivity.\"</td>\n",
       "      <td>NeuroRelieve targets migraine pathophysiology by modulating trigeminal nerve hyperactivity.</td>\n",
       "      <td>[(Subject:  Medical Science Liaison (MSL) Notes - Introduction of NeuroRelieve  \\nDate:  October 15, 2024  \\nProvider:  Dr. Amanda Rodriguez  \\nTitle:  Neurologist  \\nInstitution:  NeuroWell Neurological Institute  \\nSummary of Key Discussion Points:  \\n1. Introduction:  \\n• Introduced NeuroRelieve as a groundbreaking therapy for the management of chronic \\nmigraine.  \\n• Emphasized its unique mechanism targeting trigeminal nerve pathways involved in \\nmigraine pathophysiology.  \\n2. Provide...</td>\n",
       "    </tr>\n",
       "    <tr>\n",
       "      <th>3</th>\n",
       "      <td>What is the safety profile of Revitalizix in heart failure patients?</td>\n",
       "      <td>Revitalizix has a favorable safety profile with minimal reported side effects.</td>\n",
       "      <td>MSL Notes_10.pdf</td>\n",
       "      <td>\"Discussed the favorable safety profile of Revitalizix, with minimal reported central nervous system side effects.\"</td>\n",
       "      <td>\\nThe safety profile of Revitalizix in heart failure patients is favorable, with low rates of adverse events reported. Dr. Martinez raised concerns about potential long-term safety, particularly in elderly patients with multiple comorbidities. Dr. Nguyen expressed confidence in the drug's safety based on her patient experiences.</td>\n",
       "      <td>[(Subject:  Medical Science Liaiso n (MSL) Notes - Mixed Discussion on Revitalizix  \\nDate:  December 7, 2023  \\nProvider:  Dr. Amanda Martinez  \\nTitle:  Cardiologist  \\nInstitution:  Metropolitan Heart Center  \\nSummary of Key Discussion Points:  \\n1. Introduction:  \\n• Introduced Revitalizix as a potential therapy for heart failure with preserved ejection \\nfraction.  \\n• Dr. Martinez expressed cautious optimism, acknowledging the need for additional \\ntreatment options in heart failure. ...</td>\n",
       "    </tr>\n",
       "    <tr>\n",
       "      <th>4</th>\n",
       "      <td>How does Vitaligen promote pancreatic beta-cell regeneration in type 2 diabetes?</td>\n",
       "      <td>Vitaligen stimulates pancreatic beta-cell proliferation.</td>\n",
       "      <td>MSL Notes_9.pdf</td>\n",
       "      <td>\"Explained Vitaligen's mechanism, focusing on its role in stimulating pancreatic beta-cell proliferation.\"</td>\n",
       "      <td>Vitaligen promotes pancreatic beta-cell regeneration in type 2 diabetes through its unique mechanism of action. It stimulates the proliferation of pancreatic beta-cells, which are responsible for producing insulin and regulating blood sugar levels. This process helps improve insulin sensitivity and glucose control in individuals with type 2 diabetes.</td>\n",
       "      <td>[(Subject:  Medical Science Liaison (MSL) Notes - Introduction of Vitaligen  \\nDate:  January 15, 2024  \\nProvider:  Dr. Kimberly Adams  \\nTitle:  Endocrinologist  \\nInstitution:  Metabolic Wellness Center  \\nSummary of Key Discussion Points:  \\n1. Introduction:  \\n• Introduced Vitaligen as an innovative therapy for type 2 diabetes with a focus on \\nmetabolic health.  \\n• Emphasized its unique mecha nism of promoting pancreatic beta -cell regeneration.  \\n2. Provider's Current Patient Cases:...</td>\n",
       "    </tr>\n",
       "    <tr>\n",
       "      <th>...</th>\n",
       "      <td>...</td>\n",
       "      <td>...</td>\n",
       "      <td>...</td>\n",
       "      <td>...</td>\n",
       "      <td>...</td>\n",
       "      <td>...</td>\n",
       "    </tr>\n",
       "    <tr>\n",
       "      <th>104</th>\n",
       "      <td>Where is Dr. Jonathan Reynolds' institution located?</td>\n",
       "      <td>Dr. Jonathan Reynolds works at the Advanced Cardiovascular Institute, and also the RespiraLung Pulmonary Clinic.</td>\n",
       "      <td>MSL Notes_9.pdf, MSL Notes_17.pdf</td>\n",
       "      <td>NaN</td>\n",
       "      <td>\\nDr. Jonathan Reynolds is a pulmonologist at RespiraLung Pulmonary Clinic.</td>\n",
       "      <td>[(Subject:  Medical Science Liaison (MSL) Notes - Introduction of PulmoVive  \\nDate:  August 10, 2024  \\nProvider:  Dr. Jonathan Reynolds  \\nTitle:  Pulmonologist  \\nInstitution:  RespiraLung Pulmonary Clinic  \\nSummary of Key Discussion Points:  \\n1. Introduction:  \\n• Introduced PulmoVive as an innovative therapy for managing moderate to severe \\nchronic obstructive pulmonary disease (COPD).  \\n• Emphasized its unique mechanism targeting both bronchoconstriction and airway \\ninflammation. ...</td>\n",
       "    </tr>\n",
       "    <tr>\n",
       "      <th>105</th>\n",
       "      <td>What is the specialty of Dr. Melissa Turner?</td>\n",
       "      <td>Dr. Melissa Turner is a pulmonologist.</td>\n",
       "      <td>MSL Notes_18.pdf</td>\n",
       "      <td>NaN</td>\n",
       "      <td>Dr. Melissa Turner is a pulmonologist.</td>\n",
       "      <td>[(Subject:  Medical Science Liaison (MSL) Notes - Mixed Reactions on PulmoVive  \\nDate:  September 5, 2024  \\nProvider:  Dr. Melissa Turner  \\nTitle:  Pulmonologist  \\nInstitution:  BreatheWell Pulmonary Care Center  \\nSummary of Key Discussion Points:  \\n1. Introduction:  \\n• Introduced PulmoVive as an innovative therapy for COPD management.  \\n• Dr. Turner expressed cautious optimism, acknowledging the need for advancements in \\nCOPD treatment.  \\n2. Provider 's Current Patient Cases:  \\n•...</td>\n",
       "    </tr>\n",
       "    <tr>\n",
       "      <th>106</th>\n",
       "      <td>Where is Dr. Rachel Foster's institution located?</td>\n",
       "      <td>Dr. Rachel Foster works at the Advanced Cardiovascular Institute.</td>\n",
       "      <td>MSL Notes_15.pdf</td>\n",
       "      <td>NaN</td>\n",
       "      <td>\\nDr. Rachel Foster's institution is the Advanced Cardiovascular Institute.</td>\n",
       "      <td>[(Subject:  Medical Science Liaison (MSL) Notes - Critical Discussion on Vitaligen in Cardiovascular Health  \\nDate:  June 8, 2024  \\nProvider:  Dr. Rachel Foster  \\nTitle:  Interventional Cardiologist  \\nInstitution:  Advanced Cardiovascular Institute  \\nSummary of Key Discussion Points:  \\n1. Introduction:  \\n• Introduced Vitaligen as a potential therapy targeting arterial stiffness and cardiovascular \\nhealth . \\n• Dr. Foster expressed skepticism about the need for another medication in a...</td>\n",
       "    </tr>\n",
       "    <tr>\n",
       "      <th>107</th>\n",
       "      <td>What is the specialty of Dr. Michael Chang?</td>\n",
       "      <td>Dr. Michael Chang is a dermatologist.</td>\n",
       "      <td>MSL Notes_4.pdf</td>\n",
       "      <td>NaN</td>\n",
       "      <td>Dr. Michael Chen is a cardiologist.</td>\n",
       "      <td>[(Subj ect: Medical Science Liaison (MSL) Notes - Introduction of CardioGuardia  \\nDate:  November 20, 2024  \\nProvider:  Dr. Michael Chen  \\nTitle:  Cardiologist  \\nInstitution:  HeartCare Cardiovascular Center  \\nSummary of Key Discussion Points:  \\n1. Introduction:  \\n• Introduced CardioGuardia as an innovative therapy for the prevention of atherosclerotic \\ncardiovascular events.  \\n• Emphasized its unique mechanism targeting both lipid metabolism and endothelial \\nfunction.  \\n2. Provid...</td>\n",
       "    </tr>\n",
       "    <tr>\n",
       "      <th>108</th>\n",
       "      <td>Where is Dr. James Harper's institution located?</td>\n",
       "      <td>Dr. James Harper works at the City Neurology Clinic.</td>\n",
       "      <td>MSL Notes_2.pdf</td>\n",
       "      <td>NaN</td>\n",
       "      <td>\\nDr. James Harper's institution is City Neurology Clinic.</td>\n",
       "      <td>[(Subject:  Medical Science Liaison (MSL) Notes - In-Depth Discussion on NeuroGlyde  \\nDate:  April 10, 2023  \\nProvider:  Dr. James Harper  \\nTitle:  Neurologist  \\nInstitution:  City Neurology Clinic  \\nSummary of Key Discussion Points:  \\n1. Introduction:  \\n• Introduced NeuroGlyde, a novel neuroprotective agent, emphasizing its potential in \\nslowing disease progression.  \\n• Discussed ongoing clinical trials and positive early -phase results.  \\n2. Provider's Current Patient C ases:  \\n...</td>\n",
       "    </tr>\n",
       "  </tbody>\n",
       "</table>\n",
       "<p>109 rows × 6 columns</p>\n",
       "</div>"
      ],
      "text/plain": [
       "                                                                             Question  \\\n",
       "0                   What is the efficacy of Tranquilify in reducing anxiety symptoms?   \n",
       "1              What is the mechanism of action of Aetherisol in rheumatoid arthritis?   \n",
       "2                              How does NeuroRelieve target migraine pathophysiology?   \n",
       "3                What is the safety profile of Revitalizix in heart failure patients?   \n",
       "4    How does Vitaligen promote pancreatic beta-cell regeneration in type 2 diabetes?   \n",
       "..                                                                                ...   \n",
       "104                              Where is Dr. Jonathan Reynolds' institution located?   \n",
       "105                                      What is the specialty of Dr. Melissa Turner?   \n",
       "106                                 Where is Dr. Rachel Foster's institution located?   \n",
       "107                                       What is the specialty of Dr. Michael Chang?   \n",
       "108                                  Where is Dr. James Harper's institution located?   \n",
       "\n",
       "                                                                                                               Answer  \\\n",
       "0                                                                        Tranquilify reduces anxiety symptoms by 20%.   \n",
       "1                                                                         Aetherisol targets interleukin-17 pathways.   \n",
       "2                                                                NeuroRelieve targets trigeminal nerve hyperactivity.   \n",
       "3                                      Revitalizix has a favorable safety profile with minimal reported side effects.   \n",
       "4                                                            Vitaligen stimulates pancreatic beta-cell proliferation.   \n",
       "..                                                                                                                ...   \n",
       "104  Dr. Jonathan Reynolds works at the Advanced Cardiovascular Institute, and also the RespiraLung Pulmonary Clinic.   \n",
       "105                                                                            Dr. Melissa Turner is a pulmonologist.   \n",
       "106                                                 Dr. Rachel Foster works at the Advanced Cardiovascular Institute.   \n",
       "107                                                                             Dr. Michael Chang is a dermatologist.   \n",
       "108                                                              Dr. James Harper works at the City Neurology Clinic.   \n",
       "\n",
       "                                Source  \\\n",
       "0                      MSL Notes_6.pdf   \n",
       "1                      MSL Notes_1.pdf   \n",
       "2                     MSL Notes_19.pdf   \n",
       "3                     MSL Notes_10.pdf   \n",
       "4                      MSL Notes_9.pdf   \n",
       "..                                 ...   \n",
       "104  MSL Notes_9.pdf, MSL Notes_17.pdf   \n",
       "105                   MSL Notes_18.pdf   \n",
       "106                   MSL Notes_15.pdf   \n",
       "107                    MSL Notes_4.pdf   \n",
       "108                    MSL Notes_2.pdf   \n",
       "\n",
       "                                                                                                                   Quote  \\\n",
       "0                              \"Presented data highlighting Tranquilify's efficacy in reducing anxiety symptoms by 20%.\"   \n",
       "1                                 \"Explained Aetherisol's unique mechanism of action targeting interleukin-17 pathways.\"   \n",
       "2           \"Explained NeuroRelieve's mechanism, focusing on its targeted modulation of trigeminal nerve hyperactivity.\"   \n",
       "3    \"Discussed the favorable safety profile of Revitalizix, with minimal reported central nervous system side effects.\"   \n",
       "4             \"Explained Vitaligen's mechanism, focusing on its role in stimulating pancreatic beta-cell proliferation.\"   \n",
       "..                                                                                                                   ...   \n",
       "104                                                                                                                  NaN   \n",
       "105                                                                                                                  NaN   \n",
       "106                                                                                                                  NaN   \n",
       "107                                                                                                                  NaN   \n",
       "108                                                                                                                  NaN   \n",
       "\n",
       "                                                                                                                                                                                                                                                                                                                                                                                            Answers  \\\n",
       "0    \\nTranquilify has shown an average reduction of 40% in anxiety symptoms. However, the clinical significance of this reduction is debated, with some experts questioning its statistical relevance. Dr. Turner shared concerns about the limited efficacy observed in her initial trials, while Dr. Nguyen expressed interest in new pharmacological options for treatment -resistant anx iety.   \n",
       "1                                                     \\nAetherisol's mechanism of action in rheumatoid arthritis involves targeting interleukin -17 (IL -17) pathways. IL -17 is a pro-inflammatory cytokine that plays a crucial role in the development and progression of rheumatoid arthritis. Aetherisol works by inhibiting the production and activity of IL -17, which leads to a reduction   \n",
       "2                                                                                                                                                                                                                                                                                                       NeuroRelieve targets migraine pathophysiology by modulating trigeminal nerve hyperactivity.   \n",
       "3                                                        \\nThe safety profile of Revitalizix in heart failure patients is favorable, with low rates of adverse events reported. Dr. Martinez raised concerns about potential long-term safety, particularly in elderly patients with multiple comorbidities. Dr. Nguyen expressed confidence in the drug's safety based on her patient experiences.   \n",
       "4                                  Vitaligen promotes pancreatic beta-cell regeneration in type 2 diabetes through its unique mechanism of action. It stimulates the proliferation of pancreatic beta-cells, which are responsible for producing insulin and regulating blood sugar levels. This process helps improve insulin sensitivity and glucose control in individuals with type 2 diabetes.   \n",
       "..                                                                                                                                                                                                                                                                                                                                                                                              ...   \n",
       "104                                                                                                                                                                                                                                                                                                                     \\nDr. Jonathan Reynolds is a pulmonologist at RespiraLung Pulmonary Clinic.   \n",
       "105                                                                                                                                                                                                                                                                                                                                                          Dr. Melissa Turner is a pulmonologist.   \n",
       "106                                                                                                                                                                                                                                                                                                                     \\nDr. Rachel Foster's institution is the Advanced Cardiovascular Institute.   \n",
       "107                                                                                                                                                                                                                                                                                                                                                             Dr. Michael Chen is a cardiologist.   \n",
       "108                                                                                                                                                                                                                                                                                                                                      \\nDr. James Harper's institution is City Neurology Clinic.   \n",
       "\n",
       "                                                                                                                                                                                                                                                                                                                                                                                                                                                                                                                 Sources  \n",
       "0    [(Subject:  Medical Science Liaison (MSL) Notes - Introduction of Tranquilify i n Anxiety Disorders  \\nDate:  July 15, 2024  \\nProvider:  Dr. Sophia Nguyen  \\nTitle:  Psychiatrist  \\nInstitution:  MindCare Mental Health Clinic  \\nSummary of Key Discussion Points:  \\n1. Introduction:  \\n• Introduced Tranquilify as a potential therapy for anxiety disorders, emphasiz ing its \\nunique mechanism targeting specific neurotransmitter pathways.  \\n• Highlighted the drug's potential in managing both g...  \n",
       "1    [(Subject:  Medical Science Liaison (MSL) Notes - In-Depth Discussion on Aetherisol  \\nDate:  March 15, 2023  \\nProvider:  Dr. Olivia Reynolds  \\nTitle:  Rheumatologist  \\nInstitution:  Metropolitan Medical Center  \\nSummary of Key Discussion Points:  \\n1. Introduction:  \\n• Expressed gratitude fo r the opportunity to discuss Aetherisol, a novel interleukin -17 \\ninhibitor.  \\n• Discussed Aetherisol's recent approval and its potential impact on refractory \\nrheumatoid arthritis (RA) cases.  ...  \n",
       "2    [(Subject:  Medical Science Liaison (MSL) Notes - Introduction of NeuroRelieve  \\nDate:  October 15, 2024  \\nProvider:  Dr. Amanda Rodriguez  \\nTitle:  Neurologist  \\nInstitution:  NeuroWell Neurological Institute  \\nSummary of Key Discussion Points:  \\n1. Introduction:  \\n• Introduced NeuroRelieve as a groundbreaking therapy for the management of chronic \\nmigraine.  \\n• Emphasized its unique mechanism targeting trigeminal nerve pathways involved in \\nmigraine pathophysiology.  \\n2. Provide...  \n",
       "3    [(Subject:  Medical Science Liaiso n (MSL) Notes - Mixed Discussion on Revitalizix  \\nDate:  December 7, 2023  \\nProvider:  Dr. Amanda Martinez  \\nTitle:  Cardiologist  \\nInstitution:  Metropolitan Heart Center  \\nSummary of Key Discussion Points:  \\n1. Introduction:  \\n• Introduced Revitalizix as a potential therapy for heart failure with preserved ejection \\nfraction.  \\n• Dr. Martinez expressed cautious optimism, acknowledging the need for additional \\ntreatment options in heart failure. ...  \n",
       "4    [(Subject:  Medical Science Liaison (MSL) Notes - Introduction of Vitaligen  \\nDate:  January 15, 2024  \\nProvider:  Dr. Kimberly Adams  \\nTitle:  Endocrinologist  \\nInstitution:  Metabolic Wellness Center  \\nSummary of Key Discussion Points:  \\n1. Introduction:  \\n• Introduced Vitaligen as an innovative therapy for type 2 diabetes with a focus on \\nmetabolic health.  \\n• Emphasized its unique mecha nism of promoting pancreatic beta -cell regeneration.  \\n2. Provider's Current Patient Cases:...  \n",
       "..                                                                                                                                                                                                                                                                                                                                                                                                                                                                                                                   ...  \n",
       "104  [(Subject:  Medical Science Liaison (MSL) Notes - Introduction of PulmoVive  \\nDate:  August 10, 2024  \\nProvider:  Dr. Jonathan Reynolds  \\nTitle:  Pulmonologist  \\nInstitution:  RespiraLung Pulmonary Clinic  \\nSummary of Key Discussion Points:  \\n1. Introduction:  \\n• Introduced PulmoVive as an innovative therapy for managing moderate to severe \\nchronic obstructive pulmonary disease (COPD).  \\n• Emphasized its unique mechanism targeting both bronchoconstriction and airway \\ninflammation. ...  \n",
       "105  [(Subject:  Medical Science Liaison (MSL) Notes - Mixed Reactions on PulmoVive  \\nDate:  September 5, 2024  \\nProvider:  Dr. Melissa Turner  \\nTitle:  Pulmonologist  \\nInstitution:  BreatheWell Pulmonary Care Center  \\nSummary of Key Discussion Points:  \\n1. Introduction:  \\n• Introduced PulmoVive as an innovative therapy for COPD management.  \\n• Dr. Turner expressed cautious optimism, acknowledging the need for advancements in \\nCOPD treatment.  \\n2. Provider 's Current Patient Cases:  \\n•...  \n",
       "106  [(Subject:  Medical Science Liaison (MSL) Notes - Critical Discussion on Vitaligen in Cardiovascular Health  \\nDate:  June 8, 2024  \\nProvider:  Dr. Rachel Foster  \\nTitle:  Interventional Cardiologist  \\nInstitution:  Advanced Cardiovascular Institute  \\nSummary of Key Discussion Points:  \\n1. Introduction:  \\n• Introduced Vitaligen as a potential therapy targeting arterial stiffness and cardiovascular \\nhealth . \\n• Dr. Foster expressed skepticism about the need for another medication in a...  \n",
       "107  [(Subj ect: Medical Science Liaison (MSL) Notes - Introduction of CardioGuardia  \\nDate:  November 20, 2024  \\nProvider:  Dr. Michael Chen  \\nTitle:  Cardiologist  \\nInstitution:  HeartCare Cardiovascular Center  \\nSummary of Key Discussion Points:  \\n1. Introduction:  \\n• Introduced CardioGuardia as an innovative therapy for the prevention of atherosclerotic \\ncardiovascular events.  \\n• Emphasized its unique mechanism targeting both lipid metabolism and endothelial \\nfunction.  \\n2. Provid...  \n",
       "108  [(Subject:  Medical Science Liaison (MSL) Notes - In-Depth Discussion on NeuroGlyde  \\nDate:  April 10, 2023  \\nProvider:  Dr. James Harper  \\nTitle:  Neurologist  \\nInstitution:  City Neurology Clinic  \\nSummary of Key Discussion Points:  \\n1. Introduction:  \\n• Introduced NeuroGlyde, a novel neuroprotective agent, emphasizing its potential in \\nslowing disease progression.  \\n• Discussed ongoing clinical trials and positive early -phase results.  \\n2. Provider's Current Patient C ases:  \\n...  \n",
       "\n",
       "[109 rows x 6 columns]"
      ]
     },
     "execution_count": 72,
     "metadata": {},
     "output_type": "execute_result"
    }
   ],
   "source": [
    "import pandas as pd\n",
    "\n",
    "# df_queries = pd.read_csv(\"../../test_questions.csv\")\n",
    "df_queries = pd.read_csv(\"../../GPT_test_questions.csv\")\n",
    "\n",
    "pd.options.display.max_colwidth = 500\n",
    "# queries = df_queries[\"Query\"].astype(str).to_list()\n",
    "queries = df_queries[\"Question\"].astype(str).to_list()\n",
    "\n",
    "results = [run_model(query, retriever) for query in queries]\n",
    "answers = [result[0] for result in results]\n",
    "sources = [result[1][:50] for result in results]\n",
    "\n",
    "df_results = pd.DataFrame({\"Answers\": answers,\n",
    "                           \"Sources\": sources,\n",
    "                          })\n",
    "\n",
    "df_output = pd.concat([df_queries, df_results], axis=1)\n",
    "df_output"
   ]
  },
  {
   "cell_type": "code",
   "execution_count": 73,
   "id": "555e8a7d-6eb0-4c2e-8863-091808e99041",
   "metadata": {},
   "outputs": [
    {
     "data": {
      "text/html": [
       "<div>\n",
       "<style scoped>\n",
       "    .dataframe tbody tr th:only-of-type {\n",
       "        vertical-align: middle;\n",
       "    }\n",
       "\n",
       "    .dataframe tbody tr th {\n",
       "        vertical-align: top;\n",
       "    }\n",
       "\n",
       "    .dataframe thead th {\n",
       "        text-align: right;\n",
       "    }\n",
       "</style>\n",
       "<table border=\"1\" class=\"dataframe\">\n",
       "  <thead>\n",
       "    <tr style=\"text-align: right;\">\n",
       "      <th></th>\n",
       "      <th>Question</th>\n",
       "      <th>Answer</th>\n",
       "      <th>Source</th>\n",
       "      <th>Quote</th>\n",
       "      <th>Answers</th>\n",
       "      <th>Sources</th>\n",
       "    </tr>\n",
       "  </thead>\n",
       "  <tbody>\n",
       "    <tr>\n",
       "      <th>45</th>\n",
       "      <td>How does Vitaligen compare to existing therapies for cardiovascular health?</td>\n",
       "      <td>Vitaligen has potential advantages for cardiovascular health.</td>\n",
       "      <td>MSL Notes_14.pdf</td>\n",
       "      <td>\"Compared Vitaligen to existing cardiovascular medications, emphasizing its potential to address a specific aspect of cardiovascular health.\"</td>\n",
       "      <td>\\nVitaligen is a novel therapy targeting cardiovascular health, specifically focusing on reducing arterial stiffness. Its unique mechanism promotes endothelial function and arterial elasticity. While Vitaligen has shown promise in reducing arterial stiffness by 15% on average, its efficacy in comparison to existing therapies for cardiovascular health is not well established. Dr. Foster expressed a preference for established therapies with proven outcomes, and</td>\n",
       "      <td>[(• Discussed patient feedback indicating a preference for interventions directly addressing \\nmajor cardiovascular ev ents.  \\n7. Emerging Research and Future Developments:  \\n• Highlighted ongoing research on Vitaligen's potential in preventing cardiovascular \\nevents.  \\n• Dr. Foster questioned the rationale behind expanding research without addressing \\nexisting concerns about clinical re levance.  \\n8. Competitive Landscape:  \\n• Compared Vitaligen to existing cardiovascular medications...</td>\n",
       "    </tr>\n",
       "    <tr>\n",
       "      <th>83</th>\n",
       "      <td>At what institution does Dr. Melissa Turner work?</td>\n",
       "      <td>BreatheWell Pulmonary Care Center</td>\n",
       "      <td>MSL Notes_18.pdf</td>\n",
       "      <td>NaN</td>\n",
       "      <td>Dr. Melissa Turner works at BreatheWell Pulmonary Care Center.</td>\n",
       "      <td>[(Subject:  Medical Science Liaison (MSL) Notes - Mixed Reactions on PulmoVive  \\nDate:  September 5, 2024  \\nProvider:  Dr. Melissa Turner  \\nTitle:  Pulmonologist  \\nInstitution:  BreatheWell Pulmonary Care Center  \\nSummary of Key Discussion Points:  \\n1. Introduction:  \\n• Introduced PulmoVive as an innovative therapy for COPD management.  \\n• Dr. Turner expressed cautious optimism, acknowledging the need for advancements in \\nCOPD treatment.  \\n2. Provider 's Current Patient Cases:  \\n•...</td>\n",
       "    </tr>\n",
       "    <tr>\n",
       "      <th>79</th>\n",
       "      <td>At what institution does Dr. Robert Hernandez work?</td>\n",
       "      <td>Unity Cancer Institute</td>\n",
       "      <td>MSL Notes_7.pdf</td>\n",
       "      <td>NaN</td>\n",
       "      <td>Dr. Robert Hernandez works at Unity Cancer Institute.</td>\n",
       "      <td>[(Subject:  Medical Science Liaison (MSL) Notes - Critical Discussion on Prolifixin  \\nDate:  September 15, 2023  \\nProvider:  Dr. Robert Hernandez  \\nTitle:  Hematologist -Oncologist  \\nInstitution:  Unity Cancer Institute  \\nSummary of Key Discussion Points:  \\n1. Introduction:  \\n• Introduced Prolifixin as an advanced targeted therapy for hematologic malignancies.  \\n• Dr. Hernandez expressed reservations about the necessity of introducing a new therapy \\ngiven the existing treatment land...</td>\n",
       "    </tr>\n",
       "    <tr>\n",
       "      <th>81</th>\n",
       "      <td>At what clinic does Dr. Jonathan Reynolds work?</td>\n",
       "      <td>Dr. Jonathan Reynolds works at the Advanced Cardiovascular Institute, and also the RespiraLung Pulmonary Clinic.</td>\n",
       "      <td>MSL Notes_9.pdf, MSL Notes_17.pdf</td>\n",
       "      <td>NaN</td>\n",
       "      <td>Dr. Jonathan Reynolds works at RespiraLung Pulmonary Clinic.</td>\n",
       "      <td>[(Subject:  Medical Science Liaison (MSL) Notes - Introduction of PulmoVive  \\nDate:  August 10, 2024  \\nProvider:  Dr. Jonathan Reynolds  \\nTitle:  Pulmonologist  \\nInstitution:  RespiraLung Pulmonary Clinic  \\nSummary of Key Discussion Points:  \\n1. Introduction:  \\n• Introduced PulmoVive as an innovative therapy for managing moderate to severe \\nchronic obstructive pulmonary disease (COPD).  \\n• Emphasized its unique mechanism targeting both bronchoconstriction and airway \\ninflammation. ...</td>\n",
       "    </tr>\n",
       "    <tr>\n",
       "      <th>75</th>\n",
       "      <td>What kind of doctor is Dr. Benjamin Turner?</td>\n",
       "      <td>Rheumatologist</td>\n",
       "      <td>MSL Notes_12.pdf</td>\n",
       "      <td>NaN</td>\n",
       "      <td>Dr. Benjamin Turner is a Rheumatologist.</td>\n",
       "      <td>[(Subject:  Medical Science Liaison (MSL) Notes - Mixed Reactions on PulmoVive  \\nDate:  September 5, 2024  \\nProvider:  Dr. Melissa Turner  \\nTitle:  Pulmonologist  \\nInstitution:  BreatheWell Pulmonary Care Center  \\nSummary of Key Discussion Points:  \\n1. Introduction:  \\n• Introduced PulmoVive as an innovative therapy for COPD management.  \\n• Dr. Turner expressed cautious optimism, acknowledging the need for advancements in \\nCOPD treatment.  \\n2. Provider 's Current Patient Cases:  \\n•...</td>\n",
       "    </tr>\n",
       "    <tr>\n",
       "      <th>8</th>\n",
       "      <td>How does OsteoGuard work in osteoporosis management?</td>\n",
       "      <td>OsteoGuard reduces bone mineral density loss in osteoporosis.</td>\n",
       "      <td>MSL Notes_13.pdf</td>\n",
       "      <td>\"Presented recent clinical data showcasing OsteoGuard's modest increase in bone mineral density.\"</td>\n",
       "      <td>OsteoGuard is an innovative therapy for osteoporosis that focuses on bone health preservation. Its unique mechanism involves targeted osteoclast modulation, promoting bone density increase by 5% within the first year of treatment and statistically significant reductions in fracture risk. The drug works by modulating osteoclast activity to optimize bone remodeling. However, concerns were raised about its efficacy and safety, particularly in patients with complex orthopedic conditions</td>\n",
       "      <td>[(Subject:  Medical Science Liaison (MSL) Notes - Introduction of OsteoGuard  \\nDate:  February 25, 2024  \\nProvider:  Dr. Benjamin Turner  \\nTitle:  Rheumatologist  \\nInstitution:  Arthritis and Osteoporosis Center  \\nSummary of Key Discussion Points:  \\n1. Introduction:  \\n• Introduced OsteoGuard as an innovative therapy for osteoporosis, focusing on bone \\nhealth preservation.  \\n• Emphasized its unique mechanism of promotin g bone density through targeted \\nosteoclast modulation.  \\n2. P...</td>\n",
       "    </tr>\n",
       "    <tr>\n",
       "      <th>20</th>\n",
       "      <td>How does Revitalizix target heart failure with preserved ejection fraction?</td>\n",
       "      <td>Revitalizix targets myocardial stiffness and inflammation.</td>\n",
       "      <td>MSL Notes_5.pdf</td>\n",
       "      <td>\"Explained Revitalizix's mechanism targeting myocardial stiffness and inflammation.\"</td>\n",
       "      <td>Revitalizix targets heart failure with preserved ejection fraction by addressing myocardial stiffness and inflammation. The drug's mechanism involves modulating the expression of genes involved in these processes, ultimately leading to improved left ventricular diastolic function.</td>\n",
       "      <td>[(• Highlighted ongoing research on Revitalizix's potential applications in other \\ncardiovascular conditions.  \\n• Discussed plans for exploring combination therapies to further enhance patient \\noutcomes.  \\n8. Competitive Landscape:  \\n• Compared Revitalizix to existing heart failure therapies, emphasizing its unique focus on \\npreserved ejection fraction.  \\n• Discussed the potential for  Revitalizix to become a cornerstone in heart failure \\nmanagement.  \\n9. Access and Reimbursement:  ...</td>\n",
       "    </tr>\n",
       "    <tr>\n",
       "      <th>74</th>\n",
       "      <td>What kind of doctor is Dr. Kimberly Adams?</td>\n",
       "      <td>Endocrinologist</td>\n",
       "      <td>MSL Notes_3.pdf</td>\n",
       "      <td>NaN</td>\n",
       "      <td>Dr. Kimberly Adams is an Endocrinologist at the Metabolic Wellness Center.</td>\n",
       "      <td>[(Subject:  Medical Science Liaison (MSL) Notes - Introduction of Vitaligen  \\nDate:  January 15, 2024  \\nProvider:  Dr. Kimberly Adams  \\nTitle:  Endocrinologist  \\nInstitution:  Metabolic Wellness Center  \\nSummary of Key Discussion Points:  \\n1. Introduction:  \\n• Introduced Vitaligen as an innovative therapy for type 2 diabetes with a focus on \\nmetabolic health.  \\n• Emphasized its unique mecha nism of promoting pancreatic beta -cell regeneration.  \\n2. Provider's Current Patient Cases:...</td>\n",
       "    </tr>\n",
       "    <tr>\n",
       "      <th>32</th>\n",
       "      <td>What is the efficacy of Tranquilify in reducing anxiety symptoms?</td>\n",
       "      <td>Tranquilify reduces anxiety symptoms by 40% on average.</td>\n",
       "      <td>MSL Notes_5.pdf</td>\n",
       "      <td>\"Presented recent clinical data showcasing Tranquilify's ability to reduce anxiety symptoms by 40% on average.\"</td>\n",
       "      <td>\\nTranquilify has shown an average reduction of 40% in anxiety symptoms. However, the clinical significance of this reduction is debated, with some experts questioning its statistical relevance. Dr. Turner shared concerns about the limited efficacy observed in her initial trials, while Dr. Nguyen expressed interest in new pharmacological options for treatment -resistant anx iety.</td>\n",
       "      <td>[(Subject:  Medical Science Liaison (MSL) Notes - Introduction of Tranquilify i n Anxiety Disorders  \\nDate:  July 15, 2024  \\nProvider:  Dr. Sophia Nguyen  \\nTitle:  Psychiatrist  \\nInstitution:  MindCare Mental Health Clinic  \\nSummary of Key Discussion Points:  \\n1. Introduction:  \\n• Introduced Tranquilify as a potential therapy for anxiety disorders, emphasiz ing its \\nunique mechanism targeting specific neurotransmitter pathways.  \\n• Highlighted the drug's potential in managing both g...</td>\n",
       "    </tr>\n",
       "    <tr>\n",
       "      <th>13</th>\n",
       "      <td>How does Vitaligen improve cardiovascular health?</td>\n",
       "      <td>Vitaligen enhances nitric oxide production and reduces arterial stiffness.</td>\n",
       "      <td>MSL Notes_14.pdf</td>\n",
       "      <td>\"Explained Vitaligen's mechanism, focusing on its role in enhancing nitric oxide production and reducing arterial stiffness.\"</td>\n",
       "      <td>\\nVitaligen improves cardiovascular health by reducing arterial stiffness. Its unique mechanism promotes endothelial function and arterial elasticity, leading to statistically significant improvements in blood pressure control and vascular health. The drug enhances nitric oxide production and reduces oxidative stress, contributing to its effectiveness. However, the clinical significance of these improvements and their relevance to cardiovascular outcomes are debated among healthcare professi...</td>\n",
       "      <td>[(Subject:  Medical Science Liaison (MSL) Notes - Introduction  of Vitaligen in Cardiovascular Health  \\nDate:  May 20, 2024  \\nProvider:  Dr. Carlos Rodriguez  \\nTitle:  Cardiologist  \\nInstitution:  CardioVital Heart Center  \\nSummary of Key Discussion Points:  \\n1. Introduction:  \\n• Introduced Vitaligen as a novel therapy targeting cardiovascu lar health, specifically \\nfocusing on reducing arterial stiffness.  \\n• Emphasized its unique mechanism promoting endothelial function and arteri...</td>\n",
       "    </tr>\n",
       "  </tbody>\n",
       "</table>\n",
       "</div>"
      ],
      "text/plain": [
       "                                                                       Question  \\\n",
       "45  How does Vitaligen compare to existing therapies for cardiovascular health?   \n",
       "83                            At what institution does Dr. Melissa Turner work?   \n",
       "79                          At what institution does Dr. Robert Hernandez work?   \n",
       "81                              At what clinic does Dr. Jonathan Reynolds work?   \n",
       "75                                  What kind of doctor is Dr. Benjamin Turner?   \n",
       "8                          How does OsteoGuard work in osteoporosis management?   \n",
       "20  How does Revitalizix target heart failure with preserved ejection fraction?   \n",
       "74                                   What kind of doctor is Dr. Kimberly Adams?   \n",
       "32            What is the efficacy of Tranquilify in reducing anxiety symptoms?   \n",
       "13                            How does Vitaligen improve cardiovascular health?   \n",
       "\n",
       "                                                                                                              Answer  \\\n",
       "45                                                     Vitaligen has potential advantages for cardiovascular health.   \n",
       "83                                                                                 BreatheWell Pulmonary Care Center   \n",
       "79                                                                                            Unity Cancer Institute   \n",
       "81  Dr. Jonathan Reynolds works at the Advanced Cardiovascular Institute, and also the RespiraLung Pulmonary Clinic.   \n",
       "75                                                                                                    Rheumatologist   \n",
       "8                                                      OsteoGuard reduces bone mineral density loss in osteoporosis.   \n",
       "20                                                        Revitalizix targets myocardial stiffness and inflammation.   \n",
       "74                                                                                                   Endocrinologist   \n",
       "32                                                           Tranquilify reduces anxiety symptoms by 40% on average.   \n",
       "13                                        Vitaligen enhances nitric oxide production and reduces arterial stiffness.   \n",
       "\n",
       "                               Source  \\\n",
       "45                   MSL Notes_14.pdf   \n",
       "83                   MSL Notes_18.pdf   \n",
       "79                    MSL Notes_7.pdf   \n",
       "81  MSL Notes_9.pdf, MSL Notes_17.pdf   \n",
       "75                   MSL Notes_12.pdf   \n",
       "8                    MSL Notes_13.pdf   \n",
       "20                    MSL Notes_5.pdf   \n",
       "74                    MSL Notes_3.pdf   \n",
       "32                    MSL Notes_5.pdf   \n",
       "13                   MSL Notes_14.pdf   \n",
       "\n",
       "                                                                                                                                            Quote  \\\n",
       "45  \"Compared Vitaligen to existing cardiovascular medications, emphasizing its potential to address a specific aspect of cardiovascular health.\"   \n",
       "83                                                                                                                                            NaN   \n",
       "79                                                                                                                                            NaN   \n",
       "81                                                                                                                                            NaN   \n",
       "75                                                                                                                                            NaN   \n",
       "8                                               \"Presented recent clinical data showcasing OsteoGuard's modest increase in bone mineral density.\"   \n",
       "20                                                           \"Explained Revitalizix's mechanism targeting myocardial stiffness and inflammation.\"   \n",
       "74                                                                                                                                            NaN   \n",
       "32                                \"Presented recent clinical data showcasing Tranquilify's ability to reduce anxiety symptoms by 40% on average.\"   \n",
       "13                  \"Explained Vitaligen's mechanism, focusing on its role in enhancing nitric oxide production and reducing arterial stiffness.\"   \n",
       "\n",
       "                                                                                                                                                                                                                                                                                                                                                                                                                                                                                                                Answers  \\\n",
       "45                                      \\nVitaligen is a novel therapy targeting cardiovascular health, specifically focusing on reducing arterial stiffness. Its unique mechanism promotes endothelial function and arterial elasticity. While Vitaligen has shown promise in reducing arterial stiffness by 15% on average, its efficacy in comparison to existing therapies for cardiovascular health is not well established. Dr. Foster expressed a preference for established therapies with proven outcomes, and   \n",
       "83                                                                                                                                                                                                                                                                                                                                                                                                                                                       Dr. Melissa Turner works at BreatheWell Pulmonary Care Center.   \n",
       "79                                                                                                                                                                                                                                                                                                                                                                                                                                                                Dr. Robert Hernandez works at Unity Cancer Institute.   \n",
       "81                                                                                                                                                                                                                                                                                                                                                                                                                                                         Dr. Jonathan Reynolds works at RespiraLung Pulmonary Clinic.   \n",
       "75                                                                                                                                                                                                                                                                                                                                                                                                                                                                             Dr. Benjamin Turner is a Rheumatologist.   \n",
       "8               OsteoGuard is an innovative therapy for osteoporosis that focuses on bone health preservation. Its unique mechanism involves targeted osteoclast modulation, promoting bone density increase by 5% within the first year of treatment and statistically significant reductions in fracture risk. The drug works by modulating osteoclast activity to optimize bone remodeling. However, concerns were raised about its efficacy and safety, particularly in patients with complex orthopedic conditions   \n",
       "20                                                                                                                                                                                                                            Revitalizix targets heart failure with preserved ejection fraction by addressing myocardial stiffness and inflammation. The drug's mechanism involves modulating the expression of genes involved in these processes, ultimately leading to improved left ventricular diastolic function.   \n",
       "74                                                                                                                                                                                                                                                                                                                                                                                                                                           Dr. Kimberly Adams is an Endocrinologist at the Metabolic Wellness Center.   \n",
       "32                                                                                                                       \\nTranquilify has shown an average reduction of 40% in anxiety symptoms. However, the clinical significance of this reduction is debated, with some experts questioning its statistical relevance. Dr. Turner shared concerns about the limited efficacy observed in her initial trials, while Dr. Nguyen expressed interest in new pharmacological options for treatment -resistant anx iety.   \n",
       "13  \\nVitaligen improves cardiovascular health by reducing arterial stiffness. Its unique mechanism promotes endothelial function and arterial elasticity, leading to statistically significant improvements in blood pressure control and vascular health. The drug enhances nitric oxide production and reduces oxidative stress, contributing to its effectiveness. However, the clinical significance of these improvements and their relevance to cardiovascular outcomes are debated among healthcare professi...   \n",
       "\n",
       "                                                                                                                                                                                                                                                                                                                                                                                                                                                                                                                Sources  \n",
       "45  [(• Discussed patient feedback indicating a preference for interventions directly addressing \\nmajor cardiovascular ev ents.  \\n7. Emerging Research and Future Developments:  \\n• Highlighted ongoing research on Vitaligen's potential in preventing cardiovascular \\nevents.  \\n• Dr. Foster questioned the rationale behind expanding research without addressing \\nexisting concerns about clinical re levance.  \\n8. Competitive Landscape:  \\n• Compared Vitaligen to existing cardiovascular medications...  \n",
       "83  [(Subject:  Medical Science Liaison (MSL) Notes - Mixed Reactions on PulmoVive  \\nDate:  September 5, 2024  \\nProvider:  Dr. Melissa Turner  \\nTitle:  Pulmonologist  \\nInstitution:  BreatheWell Pulmonary Care Center  \\nSummary of Key Discussion Points:  \\n1. Introduction:  \\n• Introduced PulmoVive as an innovative therapy for COPD management.  \\n• Dr. Turner expressed cautious optimism, acknowledging the need for advancements in \\nCOPD treatment.  \\n2. Provider 's Current Patient Cases:  \\n•...  \n",
       "79  [(Subject:  Medical Science Liaison (MSL) Notes - Critical Discussion on Prolifixin  \\nDate:  September 15, 2023  \\nProvider:  Dr. Robert Hernandez  \\nTitle:  Hematologist -Oncologist  \\nInstitution:  Unity Cancer Institute  \\nSummary of Key Discussion Points:  \\n1. Introduction:  \\n• Introduced Prolifixin as an advanced targeted therapy for hematologic malignancies.  \\n• Dr. Hernandez expressed reservations about the necessity of introducing a new therapy \\ngiven the existing treatment land...  \n",
       "81  [(Subject:  Medical Science Liaison (MSL) Notes - Introduction of PulmoVive  \\nDate:  August 10, 2024  \\nProvider:  Dr. Jonathan Reynolds  \\nTitle:  Pulmonologist  \\nInstitution:  RespiraLung Pulmonary Clinic  \\nSummary of Key Discussion Points:  \\n1. Introduction:  \\n• Introduced PulmoVive as an innovative therapy for managing moderate to severe \\nchronic obstructive pulmonary disease (COPD).  \\n• Emphasized its unique mechanism targeting both bronchoconstriction and airway \\ninflammation. ...  \n",
       "75  [(Subject:  Medical Science Liaison (MSL) Notes - Mixed Reactions on PulmoVive  \\nDate:  September 5, 2024  \\nProvider:  Dr. Melissa Turner  \\nTitle:  Pulmonologist  \\nInstitution:  BreatheWell Pulmonary Care Center  \\nSummary of Key Discussion Points:  \\n1. Introduction:  \\n• Introduced PulmoVive as an innovative therapy for COPD management.  \\n• Dr. Turner expressed cautious optimism, acknowledging the need for advancements in \\nCOPD treatment.  \\n2. Provider 's Current Patient Cases:  \\n•...  \n",
       "8   [(Subject:  Medical Science Liaison (MSL) Notes - Introduction of OsteoGuard  \\nDate:  February 25, 2024  \\nProvider:  Dr. Benjamin Turner  \\nTitle:  Rheumatologist  \\nInstitution:  Arthritis and Osteoporosis Center  \\nSummary of Key Discussion Points:  \\n1. Introduction:  \\n• Introduced OsteoGuard as an innovative therapy for osteoporosis, focusing on bone \\nhealth preservation.  \\n• Emphasized its unique mechanism of promotin g bone density through targeted \\nosteoclast modulation.  \\n2. P...  \n",
       "20  [(• Highlighted ongoing research on Revitalizix's potential applications in other \\ncardiovascular conditions.  \\n• Discussed plans for exploring combination therapies to further enhance patient \\noutcomes.  \\n8. Competitive Landscape:  \\n• Compared Revitalizix to existing heart failure therapies, emphasizing its unique focus on \\npreserved ejection fraction.  \\n• Discussed the potential for  Revitalizix to become a cornerstone in heart failure \\nmanagement.  \\n9. Access and Reimbursement:  ...  \n",
       "74  [(Subject:  Medical Science Liaison (MSL) Notes - Introduction of Vitaligen  \\nDate:  January 15, 2024  \\nProvider:  Dr. Kimberly Adams  \\nTitle:  Endocrinologist  \\nInstitution:  Metabolic Wellness Center  \\nSummary of Key Discussion Points:  \\n1. Introduction:  \\n• Introduced Vitaligen as an innovative therapy for type 2 diabetes with a focus on \\nmetabolic health.  \\n• Emphasized its unique mecha nism of promoting pancreatic beta -cell regeneration.  \\n2. Provider's Current Patient Cases:...  \n",
       "32  [(Subject:  Medical Science Liaison (MSL) Notes - Introduction of Tranquilify i n Anxiety Disorders  \\nDate:  July 15, 2024  \\nProvider:  Dr. Sophia Nguyen  \\nTitle:  Psychiatrist  \\nInstitution:  MindCare Mental Health Clinic  \\nSummary of Key Discussion Points:  \\n1. Introduction:  \\n• Introduced Tranquilify as a potential therapy for anxiety disorders, emphasiz ing its \\nunique mechanism targeting specific neurotransmitter pathways.  \\n• Highlighted the drug's potential in managing both g...  \n",
       "13  [(Subject:  Medical Science Liaison (MSL) Notes - Introduction  of Vitaligen in Cardiovascular Health  \\nDate:  May 20, 2024  \\nProvider:  Dr. Carlos Rodriguez  \\nTitle:  Cardiologist  \\nInstitution:  CardioVital Heart Center  \\nSummary of Key Discussion Points:  \\n1. Introduction:  \\n• Introduced Vitaligen as a novel therapy targeting cardiovascu lar health, specifically \\nfocusing on reducing arterial stiffness.  \\n• Emphasized its unique mechanism promoting endothelial function and arteri...  "
      ]
     },
     "execution_count": 73,
     "metadata": {},
     "output_type": "execute_result"
    }
   ],
   "source": [
    "df_output.sample(10)"
   ]
  },
  {
   "cell_type": "code",
   "execution_count": 58,
   "id": "51a17fe9-14d7-455a-855e-48dac8a1db8a",
   "metadata": {},
   "outputs": [],
   "source": [
    "# query it, note that the score here is a distance metric (lower is more related)\n",
    "new_query = \"Dr. Michael Chang\"\n",
    "docs_with_scores = db.similarity_search_with_score(new_query, k = 4)"
   ]
  },
  {
   "cell_type": "code",
   "execution_count": 59,
   "id": "35a8e8f3-eb97-4d55-a476-9d3aecd2a2bc",
   "metadata": {},
   "outputs": [
    {
     "data": {
      "text/plain": [
       "[(Document(page_content=\"Subject:  Medical Science Liaison (MSL) Notes - In-Depth Discussion on Aeth erisol  \\nDate:  June 20, 2023  \\nProvider:  Dr. Michael Chang  \\nTitle:  Dermatologist  \\nInstitution:  Coastal Dermatology Clinic  \\nSummary of Key Discussion Points:  \\n1. Introduction:  \\n• Introduced Aetherisol as a breakthrough treatment for refractory psoriasis.  \\n• Discussed its unique mechanism targeting interleukin -17 pathways in the skin.  \\n2. Provider's Current Patient Cases:  \\n• Explored Dr. Chang's experiences with Aetherisol in managing severe psoriasis cases.  \\n• Discussed rapid improvement in skin clearance observed in p atients resistant to \\ntraditional therapies.  \\n3. Efficacy and Clinical Data:  \\n• Presented data showing a 70% reduction in Psoriasis Area and Severity Index (PASI) \\nscores within 12 weeks.  \\n• Highlighted Aetherisol's efficacy in achieving long -term remission.  \\n4. Safety Pr ofile:  \\n• Discussed the favorable safety profile of Aetherisol, with no reported serious skin -\\nrelated adverse events.  \\n• Addressed concerns related to infection risk and monitoring protocols.  \\n5. Mechanism of Action:  \\n• Explained Aetherisol's unique mechanism, emphasizing its precision in targeting skin \\ninflammation.  \\n• Quantified improvements in epidermal thickness and reduced inflammatory infiltrates in \\nskin biopsies.  \\n6. Patient Adherence and Education:  \\n• Explored strategies fo r enhancing patient adherence in long -term psoriasis \\nmanagement.  \\n• Shared patient success stories related to adherence and lifestyle adjustments.  \\n7. Emerging Research and Future Developments:  \\n• Highlighted ongoing research on Aetherisol's potential in atopic derm atitis.\", metadata={'source': '../../msl-data/MSL Notes_4.pdf', 'page': 0}),\n",
       "  0.4042737128897723),\n",
       " (Document(page_content=\"• Discussed plans for real -world evidence studies focusing on quality of life \\nimprovements.  \\n8. Competitive Landscape:  \\n• Compared Aetherisol to other biologics in dermatology.  \\n• Discussed Aetherisol's unique advantage in providing rapid relief and sustained efficacy.  \\n9. Access and Reimbursement:  \\n• Provided updates on access and reimbursement programs for dermatology clinics.  \\n• Shared information on patient assistance programs, ensuring a ffordability.  \\n10. Action Items and Follow -Up: \\n• Dr. Chang expressed interest in hosting a webinar for local dermatologists on Aetherisol.  \\n• Agreed upon a follow -up in four weeks to coordinate the webinar logistics.  \\n11. Closing Remarks:  \\n• Expressed gratitude for Dr. Chan g's commitment to advancing dermatological care.  \\n• Reiterated commitment to supporting Coastal Dermatology Clinic in offering cutting -\\nedge treatments.\", metadata={'source': '../../msl-data/MSL Notes_4.pdf', 'page': 1}),\n",
       "  0.4086345786670007),\n",
       " (Document(page_content=\"Subject:  Medical Science Liaison (MSL) Notes - Introduction of CardioGuardia  \\nDate:  November 20, 2024  \\nProvider:  Dr. Michael Chen  \\nTitle:  Cardiologist  \\nInstitution:  HeartCare Cardiovascular Center  \\nSummary of Key Discussion Points:  \\n1. Introduction:  \\n• Introduced CardioGuardia as an innovative therapy for the prevention of atherosclerotic \\ncardiovasc ular events.  \\n• Emphasized its unique mechanism targeting both lipid metabolism and endothelial \\nfunction.  \\n2. Provider's Current Patient Cases:  \\n• Dr. Chen expressed interest in new approaches to cardiovascular risk reduction.  \\n• Discussed specific cases where current lipid -lowering therapies have shown limited \\nefficacy or undesirable side effects.  \\n3. Efficacy and Clinical Data:  \\n• Presented recent clinical data showcasing CardioGuardia's ability to reduce LDL \\ncholesterol by 40% and decrease major cardiovascular events by 25%.  \\n• Highlighted statistically significant improvements in arterial health and atherogenic lipid \\nprofiles.  \\n4. Safety  Profile:  \\n• Discussed the favorable safety profile of CardioGuardia, with minimal reported adverse \\neffects.  \\n• Dr. Chen inquired about potential interactions with commonly prescribed cardiovascular \\nmedications.  \\n5. Mechanism of Action:  \\n• Explained CardioGuardia's dua l mechanism, focusing on lipid modulation and \\nenhancement of endothelial nitric oxide production.  \\n• Dr. Chen appreciated the drug's comprehensive approach and sought insights into its \\npotential for long -term cardiovascular risk reduction.  \\n6. Patient Adherence a nd Education:  \\n• Discussed strategies for enhancing patient adherence through a once -daily oral \\nformulation.  \\n• Shared patient education materials emphasizing the importance of sustained lipid \\ncontrol for overall cardiovascular health.\", metadata={'source': '../../msl-data/MSL Notes_20.pdf', 'page': 0}),\n",
       "  0.4155270530754671),\n",
       " (Document(page_content=\"Subject:  Medical Science Liaison (MSL) Notes - Introduction of NanoFlexa  \\nDate:  June 15, 2025  \\nProvider:  Dr. Olivia Chang  \\nTitle:  Rheumatologist  \\nInstitution:  FlexJoint Rheumatology Center  \\nSummary of Key Discussion Points:  \\n1. Introduction:  \\n• Introduced NanoFlexa as an innovative therapy for the management of rheumatoid \\narthritis (RA).  \\n• Emphasized its unique nanoparticle -based delivery system for targeted joint \\ninflamm ation control.  \\n2. Provider's Current Patient Cases:  \\n• Dr. Chang expressed interest in novel approaches for patients with moderate to severe \\nRA. \\n• Discussed specific cases where current disease -modifying antirheumatic drugs \\n(DMARDs) have shown limitations or signi ficant side effects.  \\n3. Efficacy and Clinical Data:  \\n• Presented recent clinical data showcasing NanoFlexa's ability to reduce RA disease \\nactivity scores by 50% and improve joint function.  \\n• Highlighted statistically significant improvements in inflammatory markers and \\nradiographic progression.  \\n4. Safety Profile:  \\n• Discussed the favorable safety profile of NanoFlexa, with the unique benefit of localized \\njoint delivery.  \\n• Dr. Chang inquired about potential systemic effects and long -term safety, particularly in \\ncomparison to traditional systemic DMARDs.  \\n5. Mode of Delivery:  \\n• Explained NanoFlexa's mode of delivery, utilizing a subcutaneous implant with \\ncontrolled release of nanoparticles at the joint site.  \\n• Dr. Chang expressed interest in understanding the patient experience and potential \\nadvantages of localized delivery.  \\n6. Patien t Adherence and Education:  \\n• Discussed strategies for enhancing patient adherence through the convenience of a \\nsemi -annual subcutaneous implant.\", metadata={'source': '../../msl-data/MSL Notes_27.pdf', 'page': 0}),\n",
       "  0.4164265146001177)]"
      ]
     },
     "execution_count": 59,
     "metadata": {},
     "output_type": "execute_result"
    }
   ],
   "source": [
    "docs_with_scores"
   ]
  },
  {
   "cell_type": "code",
   "execution_count": 54,
   "id": "19919792-4d67-43a2-ac68-8511efebc706",
   "metadata": {},
   "outputs": [
    {
     "data": {
      "text/plain": [
       "[(\"Subject:  Medical Science Liaison (MSL) Notes - Mixed Reactions on CardioRelief Discussion  \\nDate:  January 15, 2023 \\nProvider:  Dr. Kevin Chen  \\nTitle:  Cardiologist  \\nInstitution:  CardioCare Specialists  \\nSummary of Key Discussion Points:  \\n1. Introduction:  \\n• Introduced CardioRelief as an innovative therapy for managing hypertension and \\nreducing cardiovascular risk.  \\n• Dr. Chen expressed cautious interest, noting the need for additional options in \\nhypertension management.  \\n2. Provider's Current Patient Cases:  \\n• Dr. Chen  shared enthusiasm for novel treatments, particularly in patients struggling with \\nadherence to traditional antihypertensive medications.  \\n• Discussed specific cases where current medications have shown limitations or \\nintolerances.  \\n3. Efficacy and Clinical Data:  \\n• Presented recent clinical data showcasing CardioRelief's ability to effectively lower \\nblood pressure and improve vascular function.  \\n• Dr. Chen acknowledged the promising efficacy data but questioned the sustainability of \\nthe observed effects over extended pe riods.  \\n4. Safety Profile:  \\n• Discussed the favorable safety profile of CardioRelief, with minimal reported adverse \\neffects.  \\n• Dr. Chen raised concerns about potential interactions with commonly prescribed \\ncardiovascular medications and the need for long -term safet y data.  \\n5. Mechanism of Action:  \\n• Provided a detailed explanation of CardioRelief's mechanism, focusing on its dual -action \\napproach in modulating blood pressure and supporting arterial health.  \\n• Dr. Chen appreciated the unique mechanism but expressed reservations about potential \\nside effects  related to the vascular modulations.  \\n6. Patient Adherence and Education:  \\n• Discussed strategies for enhancing patient adherence through a once -daily oral tablet.  \\n• Dr. Chen praised the simplicity of the dosing regimen but questioned potential \\nchallenges in monit oring patients for adherence and potential side effects.\",\n",
       "  {'source': '../../msl-data/MSL Notes_32.pdf', 'page': 0}),\n",
       " (\"Subj ect: Medical Science Liaison (MSL) Notes - Introduction of CardioGuardia  \\nDate:  November 20, 2024  \\nProvider:  Dr. Michael Chen  \\nTitle:  Cardiologist  \\nInstitution:  HeartCare Cardiovascular Center  \\nSummary of Key Discussion Points:  \\n1. Introduction:  \\n• Introduced CardioGuardia as an innovative therapy for the prevention of atherosclerotic \\ncardiovascular events.  \\n• Emphasized its unique mechanism targeting both lipid metabolism and endothelial \\nfunction.  \\n2. Provider's Current Patient Cases:  \\n• Dr. Chen expressed in terest in new approaches to cardiovascular risk reduction.  \\n• Discussed specific cases where current lipid -lowering therapies have shown limited \\nefficacy or undesirable side effects.  \\n3. Efficacy and Clinical Data:  \\n• Presented recent clinical data showcasing Cardio Guardia's ability to reduce LDL \\ncholesterol by 40% and decrease major cardiovascular events by 25%.  \\n• Highlighted statistically significant improvements in arterial health and atherogenic lipid \\nprofiles.  \\n4. Safety Profile:  \\n• Discussed the favorable safety profile  of CardioGuardia, with minimal reported adverse \\neffects.  \\n• Dr. Chen inquired about potential interactions with commonly prescribed cardiovascular \\nmedications.  \\n5. Mechanism of Action:  \\n• Explained CardioGuardia's dual mechanism, focusing on lipid modulation and \\nenhancement of endothelial nitric oxide production.  \\n• Dr. Chen appreciated the drug's comprehensive approach and sought insights into its \\npotential for long -term cardiovascular risk r eduction.  \\n6. Patient Adherence and Education:  \\n• Discussed strategies for enhancing patient adherence through a once -daily oral \\nformulation.  \\n• Shared patient education materials emphasizing the importance of sustained lipid \\ncontrol for overall cardiovascular healt h.\",\n",
       "  {'source': '../../msl-data/MSL Notes_21.pdf', 'page': 0})]"
      ]
     },
     "execution_count": 54,
     "metadata": {},
     "output_type": "execute_result"
    }
   ],
   "source": [
    "df_output[\"Sources\"][2]"
   ]
  },
  {
   "cell_type": "code",
   "execution_count": 45,
   "id": "a88f80fd-dace-4bb6-a761-eabaa5fa7e2d",
   "metadata": {},
   "outputs": [
    {
     "data": {
      "text/plain": [
       "'\\nNeuroSolvix has shown efficacy in reducing neuropathic pain scores by 40% and improving patient-reported quality of life. Statistically significant improvements in pain-related functional outcomes have also been observed.'"
      ]
     },
     "execution_count": 45,
     "metadata": {},
     "output_type": "execute_result"
    }
   ],
   "source": [
    "results[0][0]"
   ]
  },
  {
   "cell_type": "code",
   "execution_count": 42,
   "id": "8e826492-bfb0-43bf-876b-95f609f02ded",
   "metadata": {},
   "outputs": [
    {
     "data": {
      "text/html": [
       "<div>\n",
       "<style scoped>\n",
       "    .dataframe tbody tr th:only-of-type {\n",
       "        vertical-align: middle;\n",
       "    }\n",
       "\n",
       "    .dataframe tbody tr th {\n",
       "        vertical-align: top;\n",
       "    }\n",
       "\n",
       "    .dataframe thead th {\n",
       "        text-align: right;\n",
       "    }\n",
       "</style>\n",
       "<table border=\"1\" class=\"dataframe\">\n",
       "  <thead>\n",
       "    <tr style=\"text-align: right;\">\n",
       "      <th></th>\n",
       "      <th>Query</th>\n",
       "      <th>Results</th>\n",
       "      <th>Sources</th>\n",
       "    </tr>\n",
       "  </thead>\n",
       "  <tbody>\n",
       "    <tr>\n",
       "      <th>0</th>\n",
       "      <td>What's the efficacy of Neurosolvix?</td>\n",
       "      <td>(\\nNeuroSolvix has shown efficacy in reducing neuropathic pain scores by 40% and improving patient-reported quality of life. Statistically significant improvements in pain-related functional outcomes have also been observed., [(Subject:  Medical Science Liaison (MSL) Notes - NeuroSolvix in Neuropathic Pain Management  \\nDate:  March  25, 20 23 \\nProvider:  Dr. Joshua Martinez  \\nTitle:  Pain Management Specialist  \\nInstitution:  PainRelief Clinic  \\nSummary of Key Discussion Points:  \\n1. I...</td>\n",
       "      <td>[(Subject:  Medical Science Liaison (MSL) Notes - NeuroSolvix in Neuropathic Pain Management  \\nDate:  March  25, 20 23 \\nProvider:  Dr. Joshua Martinez  \\nTitle:  Pain Management Specialist  \\nInstitution:  PainRelief Clinic  \\nSummary of Key Discussion Points:  \\n1. Introduction:  \\n• Introduced NeuroSolvix as a potential therapy for the management of neuropathic pain.  \\n• Emphasized its unique mechanism targeting central sensitization and neural \\nhyperactivity.  \\n2. Provider's Current ...</td>\n",
       "    </tr>\n",
       "    <tr>\n",
       "      <th>1</th>\n",
       "      <td>What kind of doctoris James Harper?</td>\n",
       "      <td>(\\nDr. James Harper is a neurologist at City Neurology Clinic., [(Subject:  Medical Science Liaison (MSL) Notes - In-Depth Discussion on NeuroGlyde  \\nDate:  April 10, 2023  \\nProvider:  Dr. James Harper  \\nTitle:  Neurologist  \\nInstitution:  City Neurology Clinic  \\nSummary of Key Discussion Points:  \\n1. Introduction:  \\n• Introduced NeuroGlyde, a novel neuroprotective agent, emphasizing its potential in \\nslowing disease progression.  \\n• Discussed ongoing clinical trials and positive ea...</td>\n",
       "      <td>[(Subject:  Medical Science Liaison (MSL) Notes - In-Depth Discussion on NeuroGlyde  \\nDate:  April 10, 2023  \\nProvider:  Dr. James Harper  \\nTitle:  Neurologist  \\nInstitution:  City Neurology Clinic  \\nSummary of Key Discussion Points:  \\n1. Introduction:  \\n• Introduced NeuroGlyde, a novel neuroprotective agent, emphasizing its potential in \\nslowing disease progression.  \\n• Discussed ongoing clinical trials and positive early -phase results.  \\n2. Provider's Current Patient C ases:  \\n...</td>\n",
       "    </tr>\n",
       "    <tr>\n",
       "      <th>2</th>\n",
       "      <td>What kind of doctor is Michael Chang?</td>\n",
       "      <td>(\\nThe context provides information about two medical professionals, Dr. Kevin Chen and Dr. Michael Chen. Dr. Kevin Chen is a cardiologist at CardioCare Specialists, while Dr. Michael Chen is a cardiologist at HeartCare Cardiovascular Center., [(Subject:  Medical Science Liaison (MSL) Notes - Mixed Reactions on CardioRelief Discussion  \\nDate:  January 15, 2023 \\nProvider:  Dr. Kevin Chen  \\nTitle:  Cardiologist  \\nInstitution:  CardioCare Specialists  \\nSummary of Key Discussion Points:  \\n...</td>\n",
       "      <td>[(Subject:  Medical Science Liaison (MSL) Notes - Mixed Reactions on CardioRelief Discussion  \\nDate:  January 15, 2023 \\nProvider:  Dr. Kevin Chen  \\nTitle:  Cardiologist  \\nInstitution:  CardioCare Specialists  \\nSummary of Key Discussion Points:  \\n1. Introduction:  \\n• Introduced CardioRelief as an innovative therapy for managing hypertension and \\nreducing cardiovascular risk.  \\n• Dr. Chen expressed cautious interest, noting the need for additional options in \\nhypertension management....</td>\n",
       "    </tr>\n",
       "    <tr>\n",
       "      <th>3</th>\n",
       "      <td>What does Aetherisol treat?</td>\n",
       "      <td>(\\nAetherisol is a breakthrough treatment for refractory psoriasis and rheumatoid arthritis. It targets interleukin -17 pathways in the skin and has shown efficacy in achieving long-term remission. In psoriasis cases, Aetherisol has demonstrated a 70% reduction in Psoriasis Area and Severity Index (PASI) scores within 12 weeks. In r, [(Subject:  Medical Science Liaison (MSL) Notes - In-Depth Discussion on Aeth erisol  \\nDate:  June 20, 2023  \\nProvider:  Dr. Michael Chang  \\nTitle:  Dermatol...</td>\n",
       "      <td>[(Subject:  Medical Science Liaison (MSL) Notes - In-Depth Discussion on Aeth erisol  \\nDate:  June 20, 2023  \\nProvider:  Dr. Michael Chang  \\nTitle:  Dermatologist  \\nInstitution:  Coastal Dermatology Clinic  \\nSummary of Key Discussion Points:  \\n1. Introduction:  \\n• Introduced Aetherisol as a breakthrough treatment for refractory psoriasis.  \\n• Discussed its unique mechanism targeting interleukin -17 pathways in the skin.  \\n2. Provider's Current Patient Cases:  \\n• Explored Dr. Chang'...</td>\n",
       "    </tr>\n",
       "    <tr>\n",
       "      <th>4</th>\n",
       "      <td>What is the mechanism of action for Aetherisol?</td>\n",
       "      <td>(\\nAetherisol's mechanism of action targets the interleukin -17 pathway in the skin. It is a breakthrough treatment for refractory psoriasis and has shown efficacy in achieving long-term remission. In rheumatoid arthritis (RA), Aetherisol demonstrates a remarkable 30% improvement in joint function within the first month, with a 60% reduction in disease activity scores observed in, [(Subject:  Medical Science Liaison (MSL) Notes - In-Depth Discussion on Aeth erisol  \\nDate:  June 20, 2023  \\n...</td>\n",
       "      <td>[(Subject:  Medical Science Liaison (MSL) Notes - In-Depth Discussion on Aeth erisol  \\nDate:  June 20, 2023  \\nProvider:  Dr. Michael Chang  \\nTitle:  Dermatologist  \\nInstitution:  Coastal Dermatology Clinic  \\nSummary of Key Discussion Points:  \\n1. Introduction:  \\n• Introduced Aetherisol as a breakthrough treatment for refractory psoriasis.  \\n• Discussed its unique mechanism targeting interleukin -17 pathways in the skin.  \\n2. Provider's Current Patient Cases:  \\n• Explored Dr. Chang'...</td>\n",
       "    </tr>\n",
       "  </tbody>\n",
       "</table>\n",
       "</div>"
      ],
      "text/plain": [
       "                                             Query  \\\n",
       "0              What's the efficacy of Neurosolvix?   \n",
       "1              What kind of doctoris James Harper?   \n",
       "2            What kind of doctor is Michael Chang?   \n",
       "3                      What does Aetherisol treat?   \n",
       "4  What is the mechanism of action for Aetherisol?   \n",
       "\n",
       "                                                                                                                                                                                                                                                                                                                                                                                                                                                                                                               Results  \\\n",
       "0  (\\nNeuroSolvix has shown efficacy in reducing neuropathic pain scores by 40% and improving patient-reported quality of life. Statistically significant improvements in pain-related functional outcomes have also been observed., [(Subject:  Medical Science Liaison (MSL) Notes - NeuroSolvix in Neuropathic Pain Management  \\nDate:  March  25, 20 23 \\nProvider:  Dr. Joshua Martinez  \\nTitle:  Pain Management Specialist  \\nInstitution:  PainRelief Clinic  \\nSummary of Key Discussion Points:  \\n1. I...   \n",
       "1  (\\nDr. James Harper is a neurologist at City Neurology Clinic., [(Subject:  Medical Science Liaison (MSL) Notes - In-Depth Discussion on NeuroGlyde  \\nDate:  April 10, 2023  \\nProvider:  Dr. James Harper  \\nTitle:  Neurologist  \\nInstitution:  City Neurology Clinic  \\nSummary of Key Discussion Points:  \\n1. Introduction:  \\n• Introduced NeuroGlyde, a novel neuroprotective agent, emphasizing its potential in \\nslowing disease progression.  \\n• Discussed ongoing clinical trials and positive ea...   \n",
       "2  (\\nThe context provides information about two medical professionals, Dr. Kevin Chen and Dr. Michael Chen. Dr. Kevin Chen is a cardiologist at CardioCare Specialists, while Dr. Michael Chen is a cardiologist at HeartCare Cardiovascular Center., [(Subject:  Medical Science Liaison (MSL) Notes - Mixed Reactions on CardioRelief Discussion  \\nDate:  January 15, 2023 \\nProvider:  Dr. Kevin Chen  \\nTitle:  Cardiologist  \\nInstitution:  CardioCare Specialists  \\nSummary of Key Discussion Points:  \\n...   \n",
       "3  (\\nAetherisol is a breakthrough treatment for refractory psoriasis and rheumatoid arthritis. It targets interleukin -17 pathways in the skin and has shown efficacy in achieving long-term remission. In psoriasis cases, Aetherisol has demonstrated a 70% reduction in Psoriasis Area and Severity Index (PASI) scores within 12 weeks. In r, [(Subject:  Medical Science Liaison (MSL) Notes - In-Depth Discussion on Aeth erisol  \\nDate:  June 20, 2023  \\nProvider:  Dr. Michael Chang  \\nTitle:  Dermatol...   \n",
       "4  (\\nAetherisol's mechanism of action targets the interleukin -17 pathway in the skin. It is a breakthrough treatment for refractory psoriasis and has shown efficacy in achieving long-term remission. In rheumatoid arthritis (RA), Aetherisol demonstrates a remarkable 30% improvement in joint function within the first month, with a 60% reduction in disease activity scores observed in, [(Subject:  Medical Science Liaison (MSL) Notes - In-Depth Discussion on Aeth erisol  \\nDate:  June 20, 2023  \\n...   \n",
       "\n",
       "                                                                                                                                                                                                                                                                                                                                                                                                                                                                                                               Sources  \n",
       "0  [(Subject:  Medical Science Liaison (MSL) Notes - NeuroSolvix in Neuropathic Pain Management  \\nDate:  March  25, 20 23 \\nProvider:  Dr. Joshua Martinez  \\nTitle:  Pain Management Specialist  \\nInstitution:  PainRelief Clinic  \\nSummary of Key Discussion Points:  \\n1. Introduction:  \\n• Introduced NeuroSolvix as a potential therapy for the management of neuropathic pain.  \\n• Emphasized its unique mechanism targeting central sensitization and neural \\nhyperactivity.  \\n2. Provider's Current ...  \n",
       "1  [(Subject:  Medical Science Liaison (MSL) Notes - In-Depth Discussion on NeuroGlyde  \\nDate:  April 10, 2023  \\nProvider:  Dr. James Harper  \\nTitle:  Neurologist  \\nInstitution:  City Neurology Clinic  \\nSummary of Key Discussion Points:  \\n1. Introduction:  \\n• Introduced NeuroGlyde, a novel neuroprotective agent, emphasizing its potential in \\nslowing disease progression.  \\n• Discussed ongoing clinical trials and positive early -phase results.  \\n2. Provider's Current Patient C ases:  \\n...  \n",
       "2  [(Subject:  Medical Science Liaison (MSL) Notes - Mixed Reactions on CardioRelief Discussion  \\nDate:  January 15, 2023 \\nProvider:  Dr. Kevin Chen  \\nTitle:  Cardiologist  \\nInstitution:  CardioCare Specialists  \\nSummary of Key Discussion Points:  \\n1. Introduction:  \\n• Introduced CardioRelief as an innovative therapy for managing hypertension and \\nreducing cardiovascular risk.  \\n• Dr. Chen expressed cautious interest, noting the need for additional options in \\nhypertension management....  \n",
       "3  [(Subject:  Medical Science Liaison (MSL) Notes - In-Depth Discussion on Aeth erisol  \\nDate:  June 20, 2023  \\nProvider:  Dr. Michael Chang  \\nTitle:  Dermatologist  \\nInstitution:  Coastal Dermatology Clinic  \\nSummary of Key Discussion Points:  \\n1. Introduction:  \\n• Introduced Aetherisol as a breakthrough treatment for refractory psoriasis.  \\n• Discussed its unique mechanism targeting interleukin -17 pathways in the skin.  \\n2. Provider's Current Patient Cases:  \\n• Explored Dr. Chang'...  \n",
       "4  [(Subject:  Medical Science Liaison (MSL) Notes - In-Depth Discussion on Aeth erisol  \\nDate:  June 20, 2023  \\nProvider:  Dr. Michael Chang  \\nTitle:  Dermatologist  \\nInstitution:  Coastal Dermatology Clinic  \\nSummary of Key Discussion Points:  \\n1. Introduction:  \\n• Introduced Aetherisol as a breakthrough treatment for refractory psoriasis.  \\n• Discussed its unique mechanism targeting interleukin -17 pathways in the skin.  \\n2. Provider's Current Patient Cases:  \\n• Explored Dr. Chang'...  "
      ]
     },
     "execution_count": 42,
     "metadata": {},
     "output_type": "execute_result"
    }
   ],
   "source": [
    "pd.options.display.max_colwidth = 500\n",
    "df_results"
   ]
  },
  {
   "cell_type": "markdown",
   "id": "b83972b9-b0fa-4890-9aaa-9e4ac22ddb22",
   "metadata": {},
   "source": [
    "# Experimentation"
   ]
  },
  {
   "cell_type": "markdown",
   "id": "88d322a8-09d6-48ba-9058-df8321bb74d9",
   "metadata": {},
   "source": [
    "## Alternate Retrievers"
   ]
  },
  {
   "cell_type": "markdown",
   "id": "aa5985b6-9c71-4de0-b385-34f2f2fb1497",
   "metadata": {},
   "source": [
    "### MultiVectorRetriever"
   ]
  },
  {
   "cell_type": "code",
   "execution_count": null,
   "id": "4246836a-6b7d-4304-9d80-d3e0e22e9350",
   "metadata": {},
   "outputs": [],
   "source": []
  },
  {
   "cell_type": "markdown",
   "id": "25ecfb12-689f-4136-b148-0fa3ed4ad6ed",
   "metadata": {},
   "source": [
    "### ParentChildRetrever"
   ]
  },
  {
   "cell_type": "code",
   "execution_count": null,
   "id": "e19d3a59-a5a6-4428-ba73-683e452aa827",
   "metadata": {},
   "outputs": [],
   "source": []
  },
  {
   "cell_type": "markdown",
   "id": "ddef869c-0d92-4628-b152-90db9d684f8c",
   "metadata": {},
   "source": [
    "## Alternate chunking strategies"
   ]
  },
  {
   "cell_type": "markdown",
   "id": "6d6e232d-19da-478c-b529-081d8c055ee2",
   "metadata": {},
   "source": [
    "#### Overlap 1000-n chunks by 300 "
   ]
  },
  {
   "cell_type": "code",
   "execution_count": 55,
   "id": "809cc629-d4a3-433f-a334-8ca3595f731a",
   "metadata": {},
   "outputs": [],
   "source": [
    "test_chunk_size = 1000\n",
    "\n",
    "def chunk_document(doc_path: str) -> List[Document]:\n",
    "    \"\"\"Chunk a document into smaller langchain Documents for embedding.\n",
    "\n",
    "    :param doc_path: path to document\n",
    "    :type doc_path: str\n",
    "    :return: List of Document chunks\n",
    "    :rtype: List[Document]\n",
    "    \"\"\"\n",
    "    loader = PyPDFLoader(doc_path)\n",
    "    documents = loader.load()\n",
    "\n",
    "    # split document based on the `\\n\\n` character, quite unintuitive\n",
    "    # https://stackoverflow.com/questions/76633836/what-does-langchain-charactertextsplitters-chunk-size-param-even-do\n",
    "    text_splitter = CharacterTextSplitter(chunk_size=test_chunk_size, \n",
    "                                          chunk_overlap=300)\n",
    "    \n",
    "    return text_splitter.split_documents(documents)"
   ]
  },
  {
   "cell_type": "code",
   "execution_count": 56,
   "id": "4e48222b-e5cf-49de-80e6-a21c84a85659",
   "metadata": {},
   "outputs": [],
   "source": [
    "# load the document and split it into chunks\n",
    "doc_chunks = []\n",
    "for doc in glob.glob(\"../../msl-data/*.pdf\"):\n",
    "    doc_chunks += chunk_document(doc)"
   ]
  },
  {
   "cell_type": "code",
   "execution_count": 61,
   "id": "689adb54-f57b-4689-84f8-89683530aa6c",
   "metadata": {},
   "outputs": [
    {
     "name": "stderr",
     "output_type": "stream",
     "text": [
      "Setting `pad_token_id` to `eos_token_id`:2 for open-end generation.\n",
      "Setting `pad_token_id` to `eos_token_id`:2 for open-end generation.\n",
      "Setting `pad_token_id` to `eos_token_id`:2 for open-end generation.\n",
      "Setting `pad_token_id` to `eos_token_id`:2 for open-end generation.\n",
      "Setting `pad_token_id` to `eos_token_id`:2 for open-end generation.\n",
      "Setting `pad_token_id` to `eos_token_id`:2 for open-end generation.\n",
      "Setting `pad_token_id` to `eos_token_id`:2 for open-end generation.\n"
     ]
    },
    {
     "ename": "AttributeError",
     "evalue": "'float' object has no attribute 'replace'",
     "output_type": "error",
     "traceback": [
      "\u001b[0;31m---------------------------------------------------------------------------\u001b[0m",
      "\u001b[0;31mAttributeError\u001b[0m                            Traceback (most recent call last)",
      "Cell \u001b[0;32mIn[61], line 8\u001b[0m\n\u001b[1;32m      5\u001b[0m pd\u001b[38;5;241m.\u001b[39moptions\u001b[38;5;241m.\u001b[39mdisplay\u001b[38;5;241m.\u001b[39mmax_colwidth \u001b[38;5;241m=\u001b[39m \u001b[38;5;241m500\u001b[39m\n\u001b[1;32m      6\u001b[0m queries \u001b[38;5;241m=\u001b[39m df_queries[\u001b[38;5;124m\"\u001b[39m\u001b[38;5;124mQuery\u001b[39m\u001b[38;5;124m\"\u001b[39m]\u001b[38;5;241m.\u001b[39mto_list()\n\u001b[0;32m----> 8\u001b[0m results \u001b[38;5;241m=\u001b[39m [run_model(query, retriever) \u001b[38;5;28;01mfor\u001b[39;00m query \u001b[38;5;129;01min\u001b[39;00m queries]\n\u001b[1;32m      9\u001b[0m answers \u001b[38;5;241m=\u001b[39m [result[\u001b[38;5;241m0\u001b[39m] \u001b[38;5;28;01mfor\u001b[39;00m result \u001b[38;5;129;01min\u001b[39;00m results]\n\u001b[1;32m     10\u001b[0m sources \u001b[38;5;241m=\u001b[39m [result[\u001b[38;5;241m1\u001b[39m][:\u001b[38;5;241m50\u001b[39m] \u001b[38;5;28;01mfor\u001b[39;00m result \u001b[38;5;129;01min\u001b[39;00m results]\n",
      "Cell \u001b[0;32mIn[61], line 8\u001b[0m, in \u001b[0;36m<listcomp>\u001b[0;34m(.0)\u001b[0m\n\u001b[1;32m      5\u001b[0m pd\u001b[38;5;241m.\u001b[39moptions\u001b[38;5;241m.\u001b[39mdisplay\u001b[38;5;241m.\u001b[39mmax_colwidth \u001b[38;5;241m=\u001b[39m \u001b[38;5;241m500\u001b[39m\n\u001b[1;32m      6\u001b[0m queries \u001b[38;5;241m=\u001b[39m df_queries[\u001b[38;5;124m\"\u001b[39m\u001b[38;5;124mQuery\u001b[39m\u001b[38;5;124m\"\u001b[39m]\u001b[38;5;241m.\u001b[39mto_list()\n\u001b[0;32m----> 8\u001b[0m results \u001b[38;5;241m=\u001b[39m [\u001b[43mrun_model\u001b[49m\u001b[43m(\u001b[49m\u001b[43mquery\u001b[49m\u001b[43m,\u001b[49m\u001b[43m \u001b[49m\u001b[43mretriever\u001b[49m\u001b[43m)\u001b[49m \u001b[38;5;28;01mfor\u001b[39;00m query \u001b[38;5;129;01min\u001b[39;00m queries]\n\u001b[1;32m      9\u001b[0m answers \u001b[38;5;241m=\u001b[39m [result[\u001b[38;5;241m0\u001b[39m] \u001b[38;5;28;01mfor\u001b[39;00m result \u001b[38;5;129;01min\u001b[39;00m results]\n\u001b[1;32m     10\u001b[0m sources \u001b[38;5;241m=\u001b[39m [result[\u001b[38;5;241m1\u001b[39m][:\u001b[38;5;241m50\u001b[39m] \u001b[38;5;28;01mfor\u001b[39;00m result \u001b[38;5;129;01min\u001b[39;00m results]\n",
      "Cell \u001b[0;32mIn[36], line 52\u001b[0m, in \u001b[0;36mrun_model\u001b[0;34m(query_inp, retriever_inp)\u001b[0m\n\u001b[1;32m     39\u001b[0m     \u001b[38;5;66;03m# 2-step chain, first retrieve documents\u001b[39;00m\n\u001b[1;32m     40\u001b[0m     \u001b[38;5;66;03m# Then take those documents and store relevant infomration in `document_sources`\u001b[39;00m\n\u001b[1;32m     41\u001b[0m     \u001b[38;5;66;03m# Pass the prompt into the document chain\u001b[39;00m\n\u001b[1;32m     42\u001b[0m rag_chain_with_source \u001b[38;5;241m=\u001b[39m RunnableParallel({\n\u001b[1;32m     43\u001b[0m     \u001b[38;5;124m\"\u001b[39m\u001b[38;5;124mdocuments\u001b[39m\u001b[38;5;124m\"\u001b[39m: retriever_inp, \n\u001b[1;32m     44\u001b[0m      \u001b[38;5;124m\"\u001b[39m\u001b[38;5;124mquestion\u001b[39m\u001b[38;5;124m\"\u001b[39m: RunnablePassthrough()\n\u001b[0;32m   (...)\u001b[0m\n\u001b[1;32m     47\u001b[0m     \u001b[38;5;124m\"\u001b[39m\u001b[38;5;124manswer\u001b[39m\u001b[38;5;124m\"\u001b[39m: rag_chain_from_docs,\n\u001b[1;32m     48\u001b[0m }\n\u001b[0;32m---> 52\u001b[0m res \u001b[38;5;241m=\u001b[39m \u001b[43mrag_chain_with_source\u001b[49m\u001b[38;5;241;43m.\u001b[39;49m\u001b[43minvoke\u001b[49m\u001b[43m(\u001b[49m\u001b[43mquery_inp\u001b[49m\u001b[43m)\u001b[49m\n\u001b[1;32m     54\u001b[0m \u001b[38;5;28;01mreturn\u001b[39;00m (res[\u001b[38;5;124m\"\u001b[39m\u001b[38;5;124manswer\u001b[39m\u001b[38;5;124m\"\u001b[39m], res[\u001b[38;5;124m\"\u001b[39m\u001b[38;5;124msources\u001b[39m\u001b[38;5;124m\"\u001b[39m])\n",
      "File \u001b[0;32m~/.local/lib/python3.9/site-packages/langchain_core/runnables/base.py:2053\u001b[0m, in \u001b[0;36mRunnableSequence.invoke\u001b[0;34m(self, input, config)\u001b[0m\n\u001b[1;32m   2051\u001b[0m \u001b[38;5;28;01mtry\u001b[39;00m:\n\u001b[1;32m   2052\u001b[0m     \u001b[38;5;28;01mfor\u001b[39;00m i, step \u001b[38;5;129;01min\u001b[39;00m \u001b[38;5;28menumerate\u001b[39m(\u001b[38;5;28mself\u001b[39m\u001b[38;5;241m.\u001b[39msteps):\n\u001b[0;32m-> 2053\u001b[0m         \u001b[38;5;28minput\u001b[39m \u001b[38;5;241m=\u001b[39m \u001b[43mstep\u001b[49m\u001b[38;5;241;43m.\u001b[39;49m\u001b[43minvoke\u001b[49m\u001b[43m(\u001b[49m\n\u001b[1;32m   2054\u001b[0m \u001b[43m            \u001b[49m\u001b[38;5;28;43minput\u001b[39;49m\u001b[43m,\u001b[49m\n\u001b[1;32m   2055\u001b[0m \u001b[43m            \u001b[49m\u001b[38;5;66;43;03m# mark each step as a child run\u001b[39;49;00m\n\u001b[1;32m   2056\u001b[0m \u001b[43m            \u001b[49m\u001b[43mpatch_config\u001b[49m\u001b[43m(\u001b[49m\n\u001b[1;32m   2057\u001b[0m \u001b[43m                \u001b[49m\u001b[43mconfig\u001b[49m\u001b[43m,\u001b[49m\u001b[43m \u001b[49m\u001b[43mcallbacks\u001b[49m\u001b[38;5;241;43m=\u001b[39;49m\u001b[43mrun_manager\u001b[49m\u001b[38;5;241;43m.\u001b[39;49m\u001b[43mget_child\u001b[49m\u001b[43m(\u001b[49m\u001b[38;5;124;43mf\u001b[39;49m\u001b[38;5;124;43m\"\u001b[39;49m\u001b[38;5;124;43mseq:step:\u001b[39;49m\u001b[38;5;132;43;01m{\u001b[39;49;00m\u001b[43mi\u001b[49m\u001b[38;5;241;43m+\u001b[39;49m\u001b[38;5;241;43m1\u001b[39;49m\u001b[38;5;132;43;01m}\u001b[39;49;00m\u001b[38;5;124;43m\"\u001b[39;49m\u001b[43m)\u001b[49m\n\u001b[1;32m   2058\u001b[0m \u001b[43m            \u001b[49m\u001b[43m)\u001b[49m\u001b[43m,\u001b[49m\n\u001b[1;32m   2059\u001b[0m \u001b[43m        \u001b[49m\u001b[43m)\u001b[49m\n\u001b[1;32m   2060\u001b[0m \u001b[38;5;66;03m# finish the root run\u001b[39;00m\n\u001b[1;32m   2061\u001b[0m \u001b[38;5;28;01mexcept\u001b[39;00m \u001b[38;5;167;01mBaseException\u001b[39;00m \u001b[38;5;28;01mas\u001b[39;00m e:\n",
      "File \u001b[0;32m~/.local/lib/python3.9/site-packages/langchain_core/runnables/base.py:2692\u001b[0m, in \u001b[0;36mRunnableParallel.invoke\u001b[0;34m(self, input, config)\u001b[0m\n\u001b[1;32m   2679\u001b[0m     \u001b[38;5;28;01mwith\u001b[39;00m get_executor_for_config(config) \u001b[38;5;28;01mas\u001b[39;00m executor:\n\u001b[1;32m   2680\u001b[0m         futures \u001b[38;5;241m=\u001b[39m [\n\u001b[1;32m   2681\u001b[0m             executor\u001b[38;5;241m.\u001b[39msubmit(\n\u001b[1;32m   2682\u001b[0m                 step\u001b[38;5;241m.\u001b[39minvoke,\n\u001b[0;32m   (...)\u001b[0m\n\u001b[1;32m   2690\u001b[0m             \u001b[38;5;28;01mfor\u001b[39;00m key, step \u001b[38;5;129;01min\u001b[39;00m steps\u001b[38;5;241m.\u001b[39mitems()\n\u001b[1;32m   2691\u001b[0m         ]\n\u001b[0;32m-> 2692\u001b[0m         output \u001b[38;5;241m=\u001b[39m {key: future\u001b[38;5;241m.\u001b[39mresult() \u001b[38;5;28;01mfor\u001b[39;00m key, future \u001b[38;5;129;01min\u001b[39;00m \u001b[38;5;28mzip\u001b[39m(steps, futures)}\n\u001b[1;32m   2693\u001b[0m \u001b[38;5;66;03m# finish the root run\u001b[39;00m\n\u001b[1;32m   2694\u001b[0m \u001b[38;5;28;01mexcept\u001b[39;00m \u001b[38;5;167;01mBaseException\u001b[39;00m \u001b[38;5;28;01mas\u001b[39;00m e:\n",
      "File \u001b[0;32m~/.local/lib/python3.9/site-packages/langchain_core/runnables/base.py:2692\u001b[0m, in \u001b[0;36m<dictcomp>\u001b[0;34m(.0)\u001b[0m\n\u001b[1;32m   2679\u001b[0m     \u001b[38;5;28;01mwith\u001b[39;00m get_executor_for_config(config) \u001b[38;5;28;01mas\u001b[39;00m executor:\n\u001b[1;32m   2680\u001b[0m         futures \u001b[38;5;241m=\u001b[39m [\n\u001b[1;32m   2681\u001b[0m             executor\u001b[38;5;241m.\u001b[39msubmit(\n\u001b[1;32m   2682\u001b[0m                 step\u001b[38;5;241m.\u001b[39minvoke,\n\u001b[0;32m   (...)\u001b[0m\n\u001b[1;32m   2690\u001b[0m             \u001b[38;5;28;01mfor\u001b[39;00m key, step \u001b[38;5;129;01min\u001b[39;00m steps\u001b[38;5;241m.\u001b[39mitems()\n\u001b[1;32m   2691\u001b[0m         ]\n\u001b[0;32m-> 2692\u001b[0m         output \u001b[38;5;241m=\u001b[39m {key: \u001b[43mfuture\u001b[49m\u001b[38;5;241;43m.\u001b[39;49m\u001b[43mresult\u001b[49m\u001b[43m(\u001b[49m\u001b[43m)\u001b[49m \u001b[38;5;28;01mfor\u001b[39;00m key, future \u001b[38;5;129;01min\u001b[39;00m \u001b[38;5;28mzip\u001b[39m(steps, futures)}\n\u001b[1;32m   2693\u001b[0m \u001b[38;5;66;03m# finish the root run\u001b[39;00m\n\u001b[1;32m   2694\u001b[0m \u001b[38;5;28;01mexcept\u001b[39;00m \u001b[38;5;167;01mBaseException\u001b[39;00m \u001b[38;5;28;01mas\u001b[39;00m e:\n",
      "File \u001b[0;32m/opt/conda/envs/pytorch/lib/python3.9/concurrent/futures/_base.py:439\u001b[0m, in \u001b[0;36mFuture.result\u001b[0;34m(self, timeout)\u001b[0m\n\u001b[1;32m    437\u001b[0m     \u001b[38;5;28;01mraise\u001b[39;00m CancelledError()\n\u001b[1;32m    438\u001b[0m \u001b[38;5;28;01melif\u001b[39;00m \u001b[38;5;28mself\u001b[39m\u001b[38;5;241m.\u001b[39m_state \u001b[38;5;241m==\u001b[39m FINISHED:\n\u001b[0;32m--> 439\u001b[0m     \u001b[38;5;28;01mreturn\u001b[39;00m \u001b[38;5;28;43mself\u001b[39;49m\u001b[38;5;241;43m.\u001b[39;49m\u001b[43m__get_result\u001b[49m\u001b[43m(\u001b[49m\u001b[43m)\u001b[49m\n\u001b[1;32m    441\u001b[0m \u001b[38;5;28mself\u001b[39m\u001b[38;5;241m.\u001b[39m_condition\u001b[38;5;241m.\u001b[39mwait(timeout)\n\u001b[1;32m    443\u001b[0m \u001b[38;5;28;01mif\u001b[39;00m \u001b[38;5;28mself\u001b[39m\u001b[38;5;241m.\u001b[39m_state \u001b[38;5;129;01min\u001b[39;00m [CANCELLED, CANCELLED_AND_NOTIFIED]:\n",
      "File \u001b[0;32m/opt/conda/envs/pytorch/lib/python3.9/concurrent/futures/_base.py:391\u001b[0m, in \u001b[0;36mFuture.__get_result\u001b[0;34m(self)\u001b[0m\n\u001b[1;32m    389\u001b[0m \u001b[38;5;28;01mif\u001b[39;00m \u001b[38;5;28mself\u001b[39m\u001b[38;5;241m.\u001b[39m_exception:\n\u001b[1;32m    390\u001b[0m     \u001b[38;5;28;01mtry\u001b[39;00m:\n\u001b[0;32m--> 391\u001b[0m         \u001b[38;5;28;01mraise\u001b[39;00m \u001b[38;5;28mself\u001b[39m\u001b[38;5;241m.\u001b[39m_exception\n\u001b[1;32m    392\u001b[0m     \u001b[38;5;28;01mfinally\u001b[39;00m:\n\u001b[1;32m    393\u001b[0m         \u001b[38;5;66;03m# Break a reference cycle with the exception in self._exception\u001b[39;00m\n\u001b[1;32m    394\u001b[0m         \u001b[38;5;28mself\u001b[39m \u001b[38;5;241m=\u001b[39m \u001b[38;5;28;01mNone\u001b[39;00m\n",
      "File \u001b[0;32m/opt/conda/envs/pytorch/lib/python3.9/concurrent/futures/thread.py:58\u001b[0m, in \u001b[0;36m_WorkItem.run\u001b[0;34m(self)\u001b[0m\n\u001b[1;32m     55\u001b[0m     \u001b[38;5;28;01mreturn\u001b[39;00m\n\u001b[1;32m     57\u001b[0m \u001b[38;5;28;01mtry\u001b[39;00m:\n\u001b[0;32m---> 58\u001b[0m     result \u001b[38;5;241m=\u001b[39m \u001b[38;5;28;43mself\u001b[39;49m\u001b[38;5;241;43m.\u001b[39;49m\u001b[43mfn\u001b[49m\u001b[43m(\u001b[49m\u001b[38;5;241;43m*\u001b[39;49m\u001b[38;5;28;43mself\u001b[39;49m\u001b[38;5;241;43m.\u001b[39;49m\u001b[43margs\u001b[49m\u001b[43m,\u001b[49m\u001b[43m \u001b[49m\u001b[38;5;241;43m*\u001b[39;49m\u001b[38;5;241;43m*\u001b[39;49m\u001b[38;5;28;43mself\u001b[39;49m\u001b[38;5;241;43m.\u001b[39;49m\u001b[43mkwargs\u001b[49m\u001b[43m)\u001b[49m\n\u001b[1;32m     59\u001b[0m \u001b[38;5;28;01mexcept\u001b[39;00m \u001b[38;5;167;01mBaseException\u001b[39;00m \u001b[38;5;28;01mas\u001b[39;00m exc:\n\u001b[1;32m     60\u001b[0m     \u001b[38;5;28mself\u001b[39m\u001b[38;5;241m.\u001b[39mfuture\u001b[38;5;241m.\u001b[39mset_exception(exc)\n",
      "File \u001b[0;32m~/.local/lib/python3.9/site-packages/langchain_core/retrievers.py:121\u001b[0m, in \u001b[0;36mBaseRetriever.invoke\u001b[0;34m(self, input, config, **kwargs)\u001b[0m\n\u001b[1;32m    117\u001b[0m \u001b[38;5;28;01mdef\u001b[39;00m \u001b[38;5;21minvoke\u001b[39m(\n\u001b[1;32m    118\u001b[0m     \u001b[38;5;28mself\u001b[39m, \u001b[38;5;28minput\u001b[39m: \u001b[38;5;28mstr\u001b[39m, config: Optional[RunnableConfig] \u001b[38;5;241m=\u001b[39m \u001b[38;5;28;01mNone\u001b[39;00m, \u001b[38;5;241m*\u001b[39m\u001b[38;5;241m*\u001b[39mkwargs: Any\n\u001b[1;32m    119\u001b[0m ) \u001b[38;5;241m-\u001b[39m\u001b[38;5;241m>\u001b[39m List[Document]:\n\u001b[1;32m    120\u001b[0m     config \u001b[38;5;241m=\u001b[39m ensure_config(config)\n\u001b[0;32m--> 121\u001b[0m     \u001b[38;5;28;01mreturn\u001b[39;00m \u001b[38;5;28;43mself\u001b[39;49m\u001b[38;5;241;43m.\u001b[39;49m\u001b[43mget_relevant_documents\u001b[49m\u001b[43m(\u001b[49m\n\u001b[1;32m    122\u001b[0m \u001b[43m        \u001b[49m\u001b[38;5;28;43minput\u001b[39;49m\u001b[43m,\u001b[49m\n\u001b[1;32m    123\u001b[0m \u001b[43m        \u001b[49m\u001b[43mcallbacks\u001b[49m\u001b[38;5;241;43m=\u001b[39;49m\u001b[43mconfig\u001b[49m\u001b[38;5;241;43m.\u001b[39;49m\u001b[43mget\u001b[49m\u001b[43m(\u001b[49m\u001b[38;5;124;43m\"\u001b[39;49m\u001b[38;5;124;43mcallbacks\u001b[39;49m\u001b[38;5;124;43m\"\u001b[39;49m\u001b[43m)\u001b[49m\u001b[43m,\u001b[49m\n\u001b[1;32m    124\u001b[0m \u001b[43m        \u001b[49m\u001b[43mtags\u001b[49m\u001b[38;5;241;43m=\u001b[39;49m\u001b[43mconfig\u001b[49m\u001b[38;5;241;43m.\u001b[39;49m\u001b[43mget\u001b[49m\u001b[43m(\u001b[49m\u001b[38;5;124;43m\"\u001b[39;49m\u001b[38;5;124;43mtags\u001b[39;49m\u001b[38;5;124;43m\"\u001b[39;49m\u001b[43m)\u001b[49m\u001b[43m,\u001b[49m\n\u001b[1;32m    125\u001b[0m \u001b[43m        \u001b[49m\u001b[43mmetadata\u001b[49m\u001b[38;5;241;43m=\u001b[39;49m\u001b[43mconfig\u001b[49m\u001b[38;5;241;43m.\u001b[39;49m\u001b[43mget\u001b[49m\u001b[43m(\u001b[49m\u001b[38;5;124;43m\"\u001b[39;49m\u001b[38;5;124;43mmetadata\u001b[39;49m\u001b[38;5;124;43m\"\u001b[39;49m\u001b[43m)\u001b[49m\u001b[43m,\u001b[49m\n\u001b[1;32m    126\u001b[0m \u001b[43m        \u001b[49m\u001b[43mrun_name\u001b[49m\u001b[38;5;241;43m=\u001b[39;49m\u001b[43mconfig\u001b[49m\u001b[38;5;241;43m.\u001b[39;49m\u001b[43mget\u001b[49m\u001b[43m(\u001b[49m\u001b[38;5;124;43m\"\u001b[39;49m\u001b[38;5;124;43mrun_name\u001b[39;49m\u001b[38;5;124;43m\"\u001b[39;49m\u001b[43m)\u001b[49m\u001b[43m,\u001b[49m\n\u001b[1;32m    127\u001b[0m \u001b[43m        \u001b[49m\u001b[38;5;241;43m*\u001b[39;49m\u001b[38;5;241;43m*\u001b[39;49m\u001b[43mkwargs\u001b[49m\u001b[43m,\u001b[49m\n\u001b[1;32m    128\u001b[0m \u001b[43m    \u001b[49m\u001b[43m)\u001b[49m\n",
      "File \u001b[0;32m~/.local/lib/python3.9/site-packages/langchain_core/retrievers.py:224\u001b[0m, in \u001b[0;36mBaseRetriever.get_relevant_documents\u001b[0;34m(self, query, callbacks, tags, metadata, run_name, **kwargs)\u001b[0m\n\u001b[1;32m    222\u001b[0m \u001b[38;5;28;01mexcept\u001b[39;00m \u001b[38;5;167;01mException\u001b[39;00m \u001b[38;5;28;01mas\u001b[39;00m e:\n\u001b[1;32m    223\u001b[0m     run_manager\u001b[38;5;241m.\u001b[39mon_retriever_error(e)\n\u001b[0;32m--> 224\u001b[0m     \u001b[38;5;28;01mraise\u001b[39;00m e\n\u001b[1;32m    225\u001b[0m \u001b[38;5;28;01melse\u001b[39;00m:\n\u001b[1;32m    226\u001b[0m     run_manager\u001b[38;5;241m.\u001b[39mon_retriever_end(\n\u001b[1;32m    227\u001b[0m         result,\n\u001b[1;32m    228\u001b[0m     )\n",
      "File \u001b[0;32m~/.local/lib/python3.9/site-packages/langchain_core/retrievers.py:217\u001b[0m, in \u001b[0;36mBaseRetriever.get_relevant_documents\u001b[0;34m(self, query, callbacks, tags, metadata, run_name, **kwargs)\u001b[0m\n\u001b[1;32m    215\u001b[0m _kwargs \u001b[38;5;241m=\u001b[39m kwargs \u001b[38;5;28;01mif\u001b[39;00m \u001b[38;5;28mself\u001b[39m\u001b[38;5;241m.\u001b[39m_expects_other_args \u001b[38;5;28;01melse\u001b[39;00m {}\n\u001b[1;32m    216\u001b[0m \u001b[38;5;28;01mif\u001b[39;00m \u001b[38;5;28mself\u001b[39m\u001b[38;5;241m.\u001b[39m_new_arg_supported:\n\u001b[0;32m--> 217\u001b[0m     result \u001b[38;5;241m=\u001b[39m \u001b[38;5;28;43mself\u001b[39;49m\u001b[38;5;241;43m.\u001b[39;49m\u001b[43m_get_relevant_documents\u001b[49m\u001b[43m(\u001b[49m\n\u001b[1;32m    218\u001b[0m \u001b[43m        \u001b[49m\u001b[43mquery\u001b[49m\u001b[43m,\u001b[49m\u001b[43m \u001b[49m\u001b[43mrun_manager\u001b[49m\u001b[38;5;241;43m=\u001b[39;49m\u001b[43mrun_manager\u001b[49m\u001b[43m,\u001b[49m\u001b[43m \u001b[49m\u001b[38;5;241;43m*\u001b[39;49m\u001b[38;5;241;43m*\u001b[39;49m\u001b[43m_kwargs\u001b[49m\n\u001b[1;32m    219\u001b[0m \u001b[43m    \u001b[49m\u001b[43m)\u001b[49m\n\u001b[1;32m    220\u001b[0m \u001b[38;5;28;01melse\u001b[39;00m:\n\u001b[1;32m    221\u001b[0m     result \u001b[38;5;241m=\u001b[39m \u001b[38;5;28mself\u001b[39m\u001b[38;5;241m.\u001b[39m_get_relevant_documents(query, \u001b[38;5;241m*\u001b[39m\u001b[38;5;241m*\u001b[39m_kwargs)\n",
      "File \u001b[0;32m~/.local/lib/python3.9/site-packages/langchain_core/vectorstores.py:654\u001b[0m, in \u001b[0;36mVectorStoreRetriever._get_relevant_documents\u001b[0;34m(self, query, run_manager)\u001b[0m\n\u001b[1;32m    650\u001b[0m \u001b[38;5;28;01mdef\u001b[39;00m \u001b[38;5;21m_get_relevant_documents\u001b[39m(\n\u001b[1;32m    651\u001b[0m     \u001b[38;5;28mself\u001b[39m, query: \u001b[38;5;28mstr\u001b[39m, \u001b[38;5;241m*\u001b[39m, run_manager: CallbackManagerForRetrieverRun\n\u001b[1;32m    652\u001b[0m ) \u001b[38;5;241m-\u001b[39m\u001b[38;5;241m>\u001b[39m List[Document]:\n\u001b[1;32m    653\u001b[0m     \u001b[38;5;28;01mif\u001b[39;00m \u001b[38;5;28mself\u001b[39m\u001b[38;5;241m.\u001b[39msearch_type \u001b[38;5;241m==\u001b[39m \u001b[38;5;124m\"\u001b[39m\u001b[38;5;124msimilarity\u001b[39m\u001b[38;5;124m\"\u001b[39m:\n\u001b[0;32m--> 654\u001b[0m         docs \u001b[38;5;241m=\u001b[39m \u001b[38;5;28;43mself\u001b[39;49m\u001b[38;5;241;43m.\u001b[39;49m\u001b[43mvectorstore\u001b[49m\u001b[38;5;241;43m.\u001b[39;49m\u001b[43msimilarity_search\u001b[49m\u001b[43m(\u001b[49m\u001b[43mquery\u001b[49m\u001b[43m,\u001b[49m\u001b[43m \u001b[49m\u001b[38;5;241;43m*\u001b[39;49m\u001b[38;5;241;43m*\u001b[39;49m\u001b[38;5;28;43mself\u001b[39;49m\u001b[38;5;241;43m.\u001b[39;49m\u001b[43msearch_kwargs\u001b[49m\u001b[43m)\u001b[49m\n\u001b[1;32m    655\u001b[0m     \u001b[38;5;28;01melif\u001b[39;00m \u001b[38;5;28mself\u001b[39m\u001b[38;5;241m.\u001b[39msearch_type \u001b[38;5;241m==\u001b[39m \u001b[38;5;124m\"\u001b[39m\u001b[38;5;124msimilarity_score_threshold\u001b[39m\u001b[38;5;124m\"\u001b[39m:\n\u001b[1;32m    656\u001b[0m         docs_and_similarities \u001b[38;5;241m=\u001b[39m (\n\u001b[1;32m    657\u001b[0m             \u001b[38;5;28mself\u001b[39m\u001b[38;5;241m.\u001b[39mvectorstore\u001b[38;5;241m.\u001b[39msimilarity_search_with_relevance_scores(\n\u001b[1;32m    658\u001b[0m                 query, \u001b[38;5;241m*\u001b[39m\u001b[38;5;241m*\u001b[39m\u001b[38;5;28mself\u001b[39m\u001b[38;5;241m.\u001b[39msearch_kwargs\n\u001b[1;32m    659\u001b[0m             )\n\u001b[1;32m    660\u001b[0m         )\n",
      "File \u001b[0;32m~/.local/lib/python3.9/site-packages/langchain_community/vectorstores/pgvector.py:444\u001b[0m, in \u001b[0;36mPGVector.similarity_search\u001b[0;34m(self, query, k, filter, **kwargs)\u001b[0m\n\u001b[1;32m    427\u001b[0m \u001b[38;5;28;01mdef\u001b[39;00m \u001b[38;5;21msimilarity_search\u001b[39m(\n\u001b[1;32m    428\u001b[0m     \u001b[38;5;28mself\u001b[39m,\n\u001b[1;32m    429\u001b[0m     query: \u001b[38;5;28mstr\u001b[39m,\n\u001b[0;32m   (...)\u001b[0m\n\u001b[1;32m    432\u001b[0m     \u001b[38;5;241m*\u001b[39m\u001b[38;5;241m*\u001b[39mkwargs: Any,\n\u001b[1;32m    433\u001b[0m ) \u001b[38;5;241m-\u001b[39m\u001b[38;5;241m>\u001b[39m List[Document]:\n\u001b[1;32m    434\u001b[0m \u001b[38;5;250m    \u001b[39m\u001b[38;5;124;03m\"\"\"Run similarity search with PGVector with distance.\u001b[39;00m\n\u001b[1;32m    435\u001b[0m \n\u001b[1;32m    436\u001b[0m \u001b[38;5;124;03m    Args:\u001b[39;00m\n\u001b[0;32m   (...)\u001b[0m\n\u001b[1;32m    442\u001b[0m \u001b[38;5;124;03m        List of Documents most similar to the query.\u001b[39;00m\n\u001b[1;32m    443\u001b[0m \u001b[38;5;124;03m    \"\"\"\u001b[39;00m\n\u001b[0;32m--> 444\u001b[0m     embedding \u001b[38;5;241m=\u001b[39m \u001b[38;5;28;43mself\u001b[39;49m\u001b[38;5;241;43m.\u001b[39;49m\u001b[43membedding_function\u001b[49m\u001b[38;5;241;43m.\u001b[39;49m\u001b[43membed_query\u001b[49m\u001b[43m(\u001b[49m\u001b[43mtext\u001b[49m\u001b[38;5;241;43m=\u001b[39;49m\u001b[43mquery\u001b[49m\u001b[43m)\u001b[49m\n\u001b[1;32m    445\u001b[0m     \u001b[38;5;28;01mreturn\u001b[39;00m \u001b[38;5;28mself\u001b[39m\u001b[38;5;241m.\u001b[39msimilarity_search_by_vector(\n\u001b[1;32m    446\u001b[0m         embedding\u001b[38;5;241m=\u001b[39membedding,\n\u001b[1;32m    447\u001b[0m         k\u001b[38;5;241m=\u001b[39mk,\n\u001b[1;32m    448\u001b[0m         \u001b[38;5;28mfilter\u001b[39m\u001b[38;5;241m=\u001b[39m\u001b[38;5;28mfilter\u001b[39m,\n\u001b[1;32m    449\u001b[0m     )\n",
      "File \u001b[0;32m~/.local/lib/python3.9/site-packages/langchain_community/embeddings/huggingface.py:104\u001b[0m, in \u001b[0;36mHuggingFaceEmbeddings.embed_query\u001b[0;34m(self, text)\u001b[0m\n\u001b[1;32m     95\u001b[0m \u001b[38;5;28;01mdef\u001b[39;00m \u001b[38;5;21membed_query\u001b[39m(\u001b[38;5;28mself\u001b[39m, text: \u001b[38;5;28mstr\u001b[39m) \u001b[38;5;241m-\u001b[39m\u001b[38;5;241m>\u001b[39m List[\u001b[38;5;28mfloat\u001b[39m]:\n\u001b[1;32m     96\u001b[0m \u001b[38;5;250m    \u001b[39m\u001b[38;5;124;03m\"\"\"Compute query embeddings using a HuggingFace transformer model.\u001b[39;00m\n\u001b[1;32m     97\u001b[0m \n\u001b[1;32m     98\u001b[0m \u001b[38;5;124;03m    Args:\u001b[39;00m\n\u001b[0;32m   (...)\u001b[0m\n\u001b[1;32m    102\u001b[0m \u001b[38;5;124;03m        Embeddings for the text.\u001b[39;00m\n\u001b[1;32m    103\u001b[0m \u001b[38;5;124;03m    \"\"\"\u001b[39;00m\n\u001b[0;32m--> 104\u001b[0m     \u001b[38;5;28;01mreturn\u001b[39;00m \u001b[38;5;28;43mself\u001b[39;49m\u001b[38;5;241;43m.\u001b[39;49m\u001b[43membed_documents\u001b[49m\u001b[43m(\u001b[49m\u001b[43m[\u001b[49m\u001b[43mtext\u001b[49m\u001b[43m]\u001b[49m\u001b[43m)\u001b[49m[\u001b[38;5;241m0\u001b[39m]\n",
      "File \u001b[0;32m~/.local/lib/python3.9/site-packages/langchain_community/embeddings/huggingface.py:85\u001b[0m, in \u001b[0;36mHuggingFaceEmbeddings.embed_documents\u001b[0;34m(self, texts)\u001b[0m\n\u001b[1;32m     75\u001b[0m \u001b[38;5;250m\u001b[39m\u001b[38;5;124;03m\"\"\"Compute doc embeddings using a HuggingFace transformer model.\u001b[39;00m\n\u001b[1;32m     76\u001b[0m \n\u001b[1;32m     77\u001b[0m \u001b[38;5;124;03mArgs:\u001b[39;00m\n\u001b[0;32m   (...)\u001b[0m\n\u001b[1;32m     81\u001b[0m \u001b[38;5;124;03m    List of embeddings, one for each text.\u001b[39;00m\n\u001b[1;32m     82\u001b[0m \u001b[38;5;124;03m\"\"\"\u001b[39;00m\n\u001b[1;32m     83\u001b[0m \u001b[38;5;28;01mimport\u001b[39;00m \u001b[38;5;21;01msentence_transformers\u001b[39;00m\n\u001b[0;32m---> 85\u001b[0m texts \u001b[38;5;241m=\u001b[39m \u001b[38;5;28;43mlist\u001b[39;49m\u001b[43m(\u001b[49m\u001b[38;5;28;43mmap\u001b[39;49m\u001b[43m(\u001b[49m\u001b[38;5;28;43;01mlambda\u001b[39;49;00m\u001b[43m \u001b[49m\u001b[43mx\u001b[49m\u001b[43m:\u001b[49m\u001b[43m \u001b[49m\u001b[43mx\u001b[49m\u001b[38;5;241;43m.\u001b[39;49m\u001b[43mreplace\u001b[49m\u001b[43m(\u001b[49m\u001b[38;5;124;43m\"\u001b[39;49m\u001b[38;5;130;43;01m\\n\u001b[39;49;00m\u001b[38;5;124;43m\"\u001b[39;49m\u001b[43m,\u001b[49m\u001b[43m \u001b[49m\u001b[38;5;124;43m\"\u001b[39;49m\u001b[38;5;124;43m \u001b[39;49m\u001b[38;5;124;43m\"\u001b[39;49m\u001b[43m)\u001b[49m\u001b[43m,\u001b[49m\u001b[43m \u001b[49m\u001b[43mtexts\u001b[49m\u001b[43m)\u001b[49m\u001b[43m)\u001b[49m\n\u001b[1;32m     86\u001b[0m \u001b[38;5;28;01mif\u001b[39;00m \u001b[38;5;28mself\u001b[39m\u001b[38;5;241m.\u001b[39mmulti_process:\n\u001b[1;32m     87\u001b[0m     pool \u001b[38;5;241m=\u001b[39m \u001b[38;5;28mself\u001b[39m\u001b[38;5;241m.\u001b[39mclient\u001b[38;5;241m.\u001b[39mstart_multi_process_pool()\n",
      "File \u001b[0;32m~/.local/lib/python3.9/site-packages/langchain_community/embeddings/huggingface.py:85\u001b[0m, in \u001b[0;36mHuggingFaceEmbeddings.embed_documents.<locals>.<lambda>\u001b[0;34m(x)\u001b[0m\n\u001b[1;32m     75\u001b[0m \u001b[38;5;250m\u001b[39m\u001b[38;5;124;03m\"\"\"Compute doc embeddings using a HuggingFace transformer model.\u001b[39;00m\n\u001b[1;32m     76\u001b[0m \n\u001b[1;32m     77\u001b[0m \u001b[38;5;124;03mArgs:\u001b[39;00m\n\u001b[0;32m   (...)\u001b[0m\n\u001b[1;32m     81\u001b[0m \u001b[38;5;124;03m    List of embeddings, one for each text.\u001b[39;00m\n\u001b[1;32m     82\u001b[0m \u001b[38;5;124;03m\"\"\"\u001b[39;00m\n\u001b[1;32m     83\u001b[0m \u001b[38;5;28;01mimport\u001b[39;00m \u001b[38;5;21;01msentence_transformers\u001b[39;00m\n\u001b[0;32m---> 85\u001b[0m texts \u001b[38;5;241m=\u001b[39m \u001b[38;5;28mlist\u001b[39m(\u001b[38;5;28mmap\u001b[39m(\u001b[38;5;28;01mlambda\u001b[39;00m x: \u001b[43mx\u001b[49m\u001b[38;5;241;43m.\u001b[39;49m\u001b[43mreplace\u001b[49m(\u001b[38;5;124m\"\u001b[39m\u001b[38;5;130;01m\\n\u001b[39;00m\u001b[38;5;124m\"\u001b[39m, \u001b[38;5;124m\"\u001b[39m\u001b[38;5;124m \u001b[39m\u001b[38;5;124m\"\u001b[39m), texts))\n\u001b[1;32m     86\u001b[0m \u001b[38;5;28;01mif\u001b[39;00m \u001b[38;5;28mself\u001b[39m\u001b[38;5;241m.\u001b[39mmulti_process:\n\u001b[1;32m     87\u001b[0m     pool \u001b[38;5;241m=\u001b[39m \u001b[38;5;28mself\u001b[39m\u001b[38;5;241m.\u001b[39mclient\u001b[38;5;241m.\u001b[39mstart_multi_process_pool()\n",
      "\u001b[0;31mAttributeError\u001b[0m: 'float' object has no attribute 'replace'"
     ]
    }
   ],
   "source": [
    "import pandas as pd\n",
    "\n",
    "df_queries = pd.read_csv(\"../../test_questions.csv\")\n",
    "\n",
    "pd.options.display.max_colwidth = 500\n",
    "queries = df_queries[\"Query\"].to_list()\n",
    "\n",
    "results = [run_model(query, retriever) for query in queries]\n",
    "answers = [result[0] for result in results]\n",
    "sources = [result[1][:50] for result in results]\n",
    "\n",
    "df_results = pd.DataFrame({\"Answers\": answers,\n",
    "                           \"Sources\": sources,\n",
    "                          })\n",
    "\n",
    "df_output2 = pd.concat([df_queries, df_results], axis=1)\n",
    "df_output2"
   ]
  },
  {
   "cell_type": "code",
   "execution_count": null,
   "id": "73f1c8da-e98c-4726-b2b7-8a545925b08c",
   "metadata": {},
   "outputs": [],
   "source": []
  },
  {
   "cell_type": "markdown",
   "id": "2da55c0e-aaaa-4da4-8159-f4d2b0f207b9",
   "metadata": {},
   "source": [
    "## Prompt Engineering"
   ]
  },
  {
   "cell_type": "code",
   "execution_count": null,
   "id": "9fed9853-5006-42dc-98c2-d2537da9c2d5",
   "metadata": {},
   "outputs": [],
   "source": []
  },
  {
   "cell_type": "code",
   "execution_count": null,
   "id": "cb361f4c-1ac3-4837-b05b-868af64f09ff",
   "metadata": {},
   "outputs": [],
   "source": []
  },
  {
   "cell_type": "code",
   "execution_count": null,
   "id": "95601013-e0a0-472d-8859-0e8c85fed143",
   "metadata": {},
   "outputs": [],
   "source": []
  },
  {
   "cell_type": "code",
   "execution_count": null,
   "id": "b9639c8f-b321-49b9-9517-9cf5c9f99284",
   "metadata": {},
   "outputs": [],
   "source": []
  }
 ],
 "metadata": {
  "kernelspec": {
   "display_name": "Python 3 (ipykernel)",
   "language": "python",
   "name": "python3"
  },
  "language_info": {
   "codemirror_mode": {
    "name": "ipython",
    "version": 3
   },
   "file_extension": ".py",
   "mimetype": "text/x-python",
   "name": "python",
   "nbconvert_exporter": "python",
   "pygments_lexer": "ipython3",
   "version": "3.9.17"
  }
 },
 "nbformat": 4,
 "nbformat_minor": 5
}
