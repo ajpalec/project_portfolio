{
 "cells": [
  {
   "cell_type": "code",
   "execution_count": 2,
   "id": "90d15186-f171-431b-b71e-53b0c64b7a0d",
   "metadata": {},
   "outputs": [],
   "source": [
    "import pandas as pd\n",
    "import numpy as np\n",
    "import plotly.express as px\n",
    "from sklearn.metrics import auc, roc_auc_score, roc_curve\n",
    "import matplotlib.pyplot as plt\n",
    "import os"
   ]
  },
  {
   "cell_type": "markdown",
   "id": "0716d2b0-608d-4efe-a592-0b78f6ad48dd",
   "metadata": {},
   "source": [
    "# Functions"
   ]
  },
  {
   "cell_type": "markdown",
   "id": "8d58aba6-92b7-4712-b325-2fb603fee17a",
   "metadata": {},
   "source": [
    "## get_training_validation_data()"
   ]
  },
  {
   "cell_type": "code",
   "execution_count": 3,
   "id": "80b4ca6b-6534-4dd8-aed7-fc4e700c3673",
   "metadata": {},
   "outputs": [],
   "source": [
    "\n",
    "#Load pre-processed training and validation data\n",
    "\n",
    "# df_train_encoded_resampled = pd.read_csv(\"../pre_processing/output/training_data_resampled_encoded.csv\", sep=\";\")\n",
    "# df_val_encoded = pd.read_csv(\"../pre_processing/output/validation_data_encoded.csv\", sep=\";\")\n",
    "# print(df_train_encoded_resampled)\n",
    "# print (df_val_encoded)\n",
    "\n",
    "def get_training_validation_data():\n",
    "    df_train_encoded_resampled = pd.read_csv(\"../pre_processing/output/training_data_resampled_encoded.csv\", sep=\";\")\n",
    "    df_val_encoded = pd.read_csv(\"../pre_processing/output/validation_data_encoded.csv\", sep=\";\")\n",
    "\n",
    "    training = df_train_encoded_resampled.to_numpy()\n",
    "    validation = df_val_encoded.to_numpy()\n",
    "    \n",
    "    rows, dim = np.shape(training)\n",
    "    validation_target, validation_features = validation[:, dim-1:], validation[:, :dim-1]\n",
    "    training_target, training_features = training[:, dim-1:], training[:, :dim-1]\n",
    "\n",
    "    return training_target, training_features, validation_target, validation_features"
   ]
  },
  {
   "cell_type": "markdown",
   "id": "930737c5-1c35-491f-a301-3bab2179a854",
   "metadata": {},
   "source": [
    "## calculate_class_priors()"
   ]
  },
  {
   "cell_type": "code",
   "execution_count": 4,
   "id": "eca1c521-b3a1-40e9-83c8-ed7b66e6c727",
   "metadata": {},
   "outputs": [],
   "source": [
    "\n",
    "def calculate_class_priors(training_targets):\n",
    "    #classes = np.unique(np.array(training_targets).flatten())\n",
    "    classes = np.unique(training_targets)\n",
    "\n",
    "    class_priors = {}\n",
    "    for c in classes:\n",
    "        class_counts = np.where(np.array(training_targets) == c)[0]\n",
    "        class_priors[c] = len(class_counts) / len(training_targets)\n",
    "\n",
    "    return class_priors"
   ]
  },
  {
   "cell_type": "markdown",
   "id": "54d42ce7-d827-4a85-b096-300d773bacfd",
   "metadata": {},
   "source": [
    "## calculate_naive_probabilities()"
   ]
  },
  {
   "cell_type": "code",
   "execution_count": 5,
   "id": "b9b704ad-ae9d-4dc9-8f00-b520512db987",
   "metadata": {},
   "outputs": [],
   "source": [
    "def calculate_naive_probabilities(training_features, training_targets):\n",
    "    classes = np.unique(training_targets)\n",
    "    num_classes = len(classes)\n",
    "    num_features = training_features.shape[1]\n",
    "\n",
    "    class_feature_probs = []\n",
    "\n",
    "    for c in classes:\n",
    "        #class_indices, count = np.where(training_targets == c)\n",
    "        class_indices = np.where(np.array(training_targets) == c)[0]\n",
    "        class_feature_probs_c = []\n",
    "\n",
    "        for i in range(num_features):\n",
    "            # get rows for the corresponding class\n",
    "            # if all(v == 0 for v in training_features[class_indices, i]):\n",
    "            #     feature_values = [0, 1]\n",
    "            #     feature_probs=[1, 0]\n",
    "            # elif all(v == 1 for v in training_features[class_indices, i]):\n",
    "            #     feature_values = [0, 1]\n",
    "            #     feature_probs=[0, 1]\n",
    "            # else:\n",
    "            feature_values, feature_counts = np.unique(training_features[class_indices, i], return_counts=True)\n",
    "            feature_probs = feature_counts / np.sum(feature_counts)\n",
    "            class_feature_probs_c.append((feature_values, feature_probs))\n",
    "           \n",
    "        class_feature_probs.append((c, class_feature_probs_c))\n",
    "\n",
    "    return class_feature_probs"
   ]
  },
  {
   "cell_type": "markdown",
   "id": "4a267a78-da74-48f0-92ce-e9803781b180",
   "metadata": {},
   "source": [
    "## calculate_validation_posterior_probabilities()"
   ]
  },
  {
   "cell_type": "code",
   "execution_count": 6,
   "id": "806a1b5a-4351-4e1e-9732-b00f130b8932",
   "metadata": {},
   "outputs": [],
   "source": [
    "def calculate_validation_posterior_probabilities(training_class_priors, training_naive_probabilities, validation_features, validation_targets):\n",
    "    # find the highest log probability\n",
    "    # log2(P)y |x)~ log2(P(y)) + Sum of log2(P(xi|y)) / log2(P(x)))\n",
    "    classes = np.unique(validation_targets)\n",
    "    num_features = validation_features.shape[1]\n",
    "    predicted_posteriors = []\n",
    "\n",
    "    for sample in validation_features:\n",
    "        #for each row in validation features\n",
    "        sample = np.array(sample)\n",
    "        posterior_validation_class_feature_probs = {}\n",
    "\n",
    "        for _, class_probs in enumerate(training_naive_probabilities):\n",
    "            c = class_probs[0]\n",
    "\n",
    "            # this is the class prior probability\n",
    "            log_of_class_posterior_prob_for_class = np.log2(training_class_priors[c])\n",
    "            # i is the feature/column. Need to compute posteriors for each class. For that get the probability\n",
    "            # of the value in the validation feature from training set, take log, add them to get sum of logs of probabilies for each class\n",
    "            # predicted class is then a max of that sum + log of prior\n",
    "            for i, (feature_values, feature_probs) in enumerate(class_probs[1]):\n",
    "                #print(f\"Training class {c}, Feature/column {i}:\")\n",
    "                #print(f\"-->Feature Values: {feature_values},  Feature Probabilities: {feature_probs}\")\n",
    "                value = sample[i] #  column i\n",
    "                index = np.where(feature_values == value)\n",
    "                \n",
    "                feature_in_class_prob = feature_probs[index]\n",
    "                if any(feature_in_class_prob) == False:\n",
    "                    feature_in_class_prob = 0\n",
    "                #print(f\"-->Validation feature value: {value}, Found in training probability: {feature_in_class_prob}, log: {np.log(feature_in_class_prob + 1e-10)}\")\n",
    "                \n",
    "                # for each value in each feature in the class \n",
    "                log_of_class_posterior_prob_for_class += np.log2(feature_in_class_prob + 1e-10)\n",
    "                \n",
    "            posterior_validation_class_feature_probs[c] = log_of_class_posterior_prob_for_class\n",
    "        predicted_class = max(zip(posterior_validation_class_feature_probs.values(), posterior_validation_class_feature_probs.keys()))[1]\n",
    "        #print(f\"-->Predicted class: {predicted_class}\")\n",
    "        predicted_posteriors.append(predicted_class)\n",
    "\n",
    "    return predicted_posteriors"
   ]
  },
  {
   "cell_type": "markdown",
   "id": "198e4617-d8db-4d78-95b9-607b3c64edfb",
   "metadata": {},
   "source": [
    "## calculate_validation_posterior_probabilities_thresholds()"
   ]
  },
  {
   "cell_type": "code",
   "execution_count": 7,
   "id": "93ea81dc-015b-4d74-866a-d8c0605af957",
   "metadata": {},
   "outputs": [],
   "source": [
    "# with thresholds\n",
    "def calculate_validation_posterior_probabilities_thresholds(threshold, training_class_priors, training_naive_probabilities, validation_features, validation_targets):\n",
    "    # find the highest log probability\n",
    "    # log2(P)y |x)~ log2(P(y)) + Sum of log2(P(xi|y)) / log2(P(x)))\n",
    "    classes = np.unique(validation_targets)\n",
    "    num_features = validation_features.shape[1]\n",
    "    predicted_posteriors = []\n",
    "\n",
    "    for sample in validation_features:\n",
    "        #for each row in validation features\n",
    "        sample = np.array(sample)\n",
    "        posterior_validation_class_feature_probs = {}\n",
    "\n",
    "        for _, class_probs in enumerate(training_naive_probabilities):\n",
    "            c = class_probs[0]\n",
    "\n",
    "            # this is the class prior probability\n",
    "            log_of_class_posterior_prob_for_class = np.log2(training_class_priors[c])\n",
    "            # i is the feature/column. Need to compute posteriors for each class. For that get the probability\n",
    "            # of the value in the validation feature from training set, take log, add them to get sum of logs of probabilies for each class\n",
    "            # predicted class is then a max of that sum + log of prior\n",
    "            for i, (feature_values, feature_probs) in enumerate(class_probs[1]):\n",
    "                print(f\"Training class {c}, Feature/column {i}:\")\n",
    "                print(f\"-->Feature Values: {feature_values},  Feature Probabilities: {feature_probs}\")\n",
    "                value = sample[i] #  column i\n",
    "                index = np.where(feature_values == value)\n",
    "                \n",
    "                feature_in_class_prob = feature_probs[index]\n",
    "                if any(feature_in_class_prob) == False:\n",
    "                    feature_in_class_prob = 0\n",
    "                print(f\"-->Validation feature value: {value}, Found in training probability: {feature_in_class_prob}, log: {np.log(feature_in_class_prob + 1e-10)}\")\n",
    "                \n",
    "                # for each value in each feature in the class \n",
    "                log_of_class_posterior_prob_for_class += np.log2(feature_in_class_prob + 1e-10)\n",
    "                \n",
    "            posterior_validation_class_feature_probs[c] = log_of_class_posterior_prob_for_class\n",
    "            total_posterior_probs = sum(posterior_validation_class_feature_probs.values())\n",
    "            for cl in posterior_validation_class_feature_probs:\n",
    "                posterior_validation_class_feature_probs[cl] /= total_posterior_probs\n",
    "\n",
    "        # use threshold to get the predicted class, using the class label 1\n",
    "        #for pr in posterior_validation_class_feature_probs[0]\n",
    "        predicted_class = 1\n",
    "        if(list(posterior_validation_class_feature_probs.values())[0] < np.log2(threshold)):\n",
    "            predicted_class = 0\n",
    "        \n",
    "        print(f\"-->Predicted class: {predicted_class}\")\n",
    "        predicted_posteriors.append(predicted_class)\n",
    "\n",
    "    return predicted_posteriors"
   ]
  },
  {
   "cell_type": "markdown",
   "id": "6e6a834f-efee-452f-b1d9-4c1cc86e1e01",
   "metadata": {},
   "source": [
    "## calc_AUC()"
   ]
  },
  {
   "cell_type": "code",
   "execution_count": 8,
   "id": "23caf1c9-a51a-4cb6-bc01-32ba22bd7c4f",
   "metadata": {},
   "outputs": [],
   "source": [
    "def calc_AUC(df_roc_inp):\n",
    "\n",
    "    df_roc_inp_sorted = df_roc_inp.sort_values([\"fpr\"])\n",
    "\n",
    "    auc = np.trapz(y=df_roc_inp_sorted[\"tpr\"], \n",
    "                   x=df_roc_inp_sorted[\"fpr\"],\n",
    "                  )\n",
    "\n",
    "    return auc\n",
    "\n"
   ]
  },
  {
   "cell_type": "markdown",
   "id": "140bf130-2c5d-4ba8-8d6e-585b6365bb66",
   "metadata": {},
   "source": [
    "## get_metrics()"
   ]
  },
  {
   "cell_type": "code",
   "execution_count": 9,
   "id": "2c49eeac-03dd-401c-a457-5dd41c2ced2b",
   "metadata": {},
   "outputs": [],
   "source": [
    "# Metrics\n",
    "def get_metrics(predicted_posteriors, validation_targets):\n",
    "    validation_targets = validation_targets.flatten()\n",
    "    predicted_targets = np.array(predicted_posteriors)\n",
    "    true_targets_total = [p == v for p, v in zip(predicted_targets, validation_targets)]\n",
    "    false_targets_total = [p != v for p, v in zip(predicted_targets, validation_targets)]\n",
    " \n",
    "    classes = np.unique(validation_targets)\n",
    "\n",
    "    # print (f\"predicted_posteriors:{predicted_tartgets}\")\n",
    "    # print(validation_targets)\n",
    "    \n",
    "    false_positives = np.logical_and(validation_targets == 0, predicted_targets == 1)\n",
    "    false_positives_cnt = np.sum(false_positives)\n",
    "    false_negatives_cnt = np.sum(np.logical_and(validation_targets == 1, predicted_targets == 0))\n",
    "    true_positives = np.logical_and(validation_targets == 1, predicted_targets == 1)\n",
    "    true_positives_cnt = np.sum(true_positives)\n",
    "    true_negatives_cnt = np.sum(np.logical_and(validation_targets == 0, predicted_targets == 0))\n",
    "\n",
    "    #accuracy = np.mean(validation_targets == predicted_targets)\n",
    "    # Precision – percentage of things that were classified as positive and actually were positive\n",
    "    precision = true_positives_cnt / (true_positives_cnt + false_positives_cnt)\n",
    "    # Recall – the percentage of true positives correctly identified\n",
    "    recall = true_positives_cnt / (true_positives_cnt + false_negatives_cnt)\n",
    "    # f-measure  - the weighted harmonic mean of precision and recall\n",
    "    f_measure = 2 * (precision * recall) / (precision + recall)\n",
    "    # the persentage of times we are correct\n",
    "    accuracy = (true_positives_cnt + true_negatives_cnt)/(true_negatives_cnt+true_positives_cnt+false_positives_cnt+false_negatives_cnt) \n",
    "\n",
    "    TPR = true_positives_cnt/(true_positives_cnt + false_negatives_cnt)\n",
    "    FPR = false_positives_cnt/(false_positives_cnt + true_negatives_cnt)\n",
    "\n",
    "    #print(f\"-->Accuracy: {accuracy}\")\n",
    "    # initialize the confusion matrix\n",
    "    conf_matrix = np.zeros((len(classes), len(classes)))\n",
    "\n",
    "    # loop across the different combinations of actual / predicted classes\n",
    "    for i in range(len(classes)):\n",
    "        for j in range(len(classes)):\n",
    "\n",
    "           # count the number of instances in each combination of actual / predicted classes\n",
    "           conf_matrix[i, j] = np.sum(( np.array(predicted_targets) == classes[i]) & (validation_targets == classes[j]))\n",
    "\n",
    "    return TPR, FPR, accuracy, precision, f_measure, recall, conf_matrix"
   ]
  },
  {
   "cell_type": "markdown",
   "id": "6af982e3-4f2a-46be-8d0f-1cf76d65c335",
   "metadata": {},
   "source": [
    "## apply_naive_bayes_and_get_metrics()"
   ]
  },
  {
   "cell_type": "code",
   "execution_count": 10,
   "id": "8c803041-e8b7-4cf3-ad8f-c7b9645ddc5d",
   "metadata": {},
   "outputs": [],
   "source": [
    "def apply_naive_bayes_and_get_metrics(class_priors, class_feature_probs, validation_features, validation_targets):\n",
    "    #thresholds = [i/100 for i in range(0, 100+1)] # 0 to 1, by 0.01 steps\n",
    "\n",
    "    fr_list = []\n",
    "    auc_list = []\n",
    "    auc_dict = {\"threshold\": [], \"AUC\": []}\n",
    "    pred_dict = {\"threshold\": [],\n",
    "                    \"tpr\": [],\n",
    "                    \"fpr\": [],\n",
    "                    \"accuracy\": [],\n",
    "                    \"precision\": [],\n",
    "                    \"recall\": [],\n",
    "                    \"f_measure\" : [],\n",
    "                    \"conf_matrix\" : []\n",
    "                    }\n",
    "    thresholds = [0.1, 0.4, 0.7, 0.9]\n",
    "    for threshold in thresholds:\n",
    "        pred_dict[\"threshold\"].append(threshold)\n",
    "\n",
    "        predicted_targets  = calculate_validation_posterior_probabilities_thresholds(threshold, class_priors, class_feature_probs, validation_features, validation_target)\n",
    "        tpr, fpr, accuracy, precision, f_measure, recall, conf_matrix  = get_metrics(predicted_targets, validation_target)\n",
    "        \n",
    "        pred_dict[\"tpr\"].append(tpr)    \n",
    "        pred_dict[\"fpr\"].append(fpr)\n",
    "        pred_dict[\"accuracy\"].append(accuracy)\n",
    "        pred_dict[\"precision\"].append(precision)\n",
    "        pred_dict[\"f_measure\"].append(f_measure)\n",
    "        pred_dict[\"recall\"].append(recall)\n",
    "        pred_dict[\"conf_matrix\"].append(conf_matrix)\n",
    "        \n",
    "        fr = pd.DataFrame(pred_dict)\n",
    "        roc_auc = calc_AUC(fr)\n",
    "\n",
    "        auc_dict[\"threshold\"].append(threshold)\n",
    "        auc_dict[\"AUC\"].append(roc_auc)\n",
    "        \n",
    "        auc_list.append(auc_dict)\n",
    "        fr_list.append(fr)\n",
    "       \n",
    "    df_graph = pd.concat(fr_list)\n",
    "    df_graph.to_csv('table_of_error_metrics.csv')\n",
    "    auc_frame = pd.DataFrame(auc_list)\n",
    "\n",
    "    fig = px.line(fr,\n",
    "                  title=f\"ROC for Naive Bayes\",\n",
    "                  x=\"fpr\",\n",
    "                  y=\"tpr\",\n",
    "                  labels={\"tpr\": \"TPR\", \"fpr\": \"FPR\"}\n",
    "                 )\n",
    "    \n",
    "    fig.show()\n",
    "    return fr, auc_frame, fig\n",
    "    # # auc_score = calculate_auc(true_positives, false_positives)\n",
    "    # fpr, tpr, threshold = roc_curve(validation_targets, predicted_targets)\n",
    "    # roc_auc = auc(fpr, tpr)\n",
    "    #  # auc_score_sklearn = auc(true_positives, false_positives)\n",
    "\n",
    "\n",
    "    # # print(f'AUC (scikit-learn): {auc_score_sklearn:.2f}, AUC: {auc_score:.2f}')\n",
    "    # # Plot ROC curve\n",
    "    # plt.figure(figsize=(8, 8))\n",
    "    # #plt.plot(fpr_list, true_targets.count(True), color='blue', lw=2, label=f'AUC (from scratch) = {auc_score_scratch:.2f}')\n",
    "    # plt.plot(fpr, true_positives, color='blue', lw=2, label=f'AUC = {roc_auc:.2f}')\n",
    "    # plt.plot([0, 1], [0, 1], color='gray', linestyle='--')\n",
    "    # plt.xlabel('False Positive Rate (FPR)')\n",
    "    # plt.ylabel('True Positive Rate (TPR)')\n",
    "    # plt.title('Receiver Operating Characteristic (ROC) Curve')\n",
    "    # plt.legend()\n",
    "    # plt.show()"
   ]
  },
  {
   "cell_type": "markdown",
   "id": "ed622864-4648-422a-bb58-3c4e227b5815",
   "metadata": {},
   "source": [
    "# Execution"
   ]
  },
  {
   "cell_type": "markdown",
   "id": "186855b8-eef5-475a-9d60-03c0bd45b237",
   "metadata": {},
   "source": [
    "## Load Data"
   ]
  },
  {
   "cell_type": "code",
   "execution_count": 13,
   "id": "4ece0531-78bb-4765-a1d9-d368b8064ea6",
   "metadata": {},
   "outputs": [],
   "source": [
    "df_train_encoded_resampled = pd.read_csv(\"..//Project/pre_processing/output/training_data_resampled_encoded.csv\")\n",
    "df_val_encoded = pd.read_csv(\"../Project/pre_processing/output/validation_data_encoded.csv\")\n",
    "\n",
    "training = df_train_encoded_resampled.to_numpy()\n",
    "validation = df_val_encoded.to_numpy()\n",
    "\n",
    "rows, dim = np.shape(training)\n",
    "validation_target, validation_features = validation[:, dim-1:], validation[:, :dim-1]\n",
    "training_target, training_features = training[:, dim-1:], training[:, :dim-1]"
   ]
  },
  {
   "cell_type": "markdown",
   "id": "331934bd-77a6-4f91-92e5-85efc6be39ea",
   "metadata": {},
   "source": [
    "## Calculate Class Priors"
   ]
  },
  {
   "cell_type": "code",
   "execution_count": 14,
   "id": "78cee22b-ebb4-4bd1-9e5c-04a8e3288f97",
   "metadata": {},
   "outputs": [
    {
     "data": {
      "text/plain": [
       "{0: 0.5, 1: 0.5}"
      ]
     },
     "execution_count": 14,
     "metadata": {},
     "output_type": "execute_result"
    }
   ],
   "source": [
    "# 1. Calculate Class Priors\n",
    "class_priors = calculate_class_priors(training_target)\n",
    "\n",
    "class_priors"
   ]
  },
  {
   "cell_type": "markdown",
   "id": "915074cc-d58c-481b-9763-814f6920996b",
   "metadata": {},
   "source": [
    "## Calculate Naive Probabilities from training set"
   ]
  },
  {
   "cell_type": "code",
   "execution_count": null,
   "id": "8b73b51f-be33-49ba-969c-1afa4fba2e35",
   "metadata": {},
   "outputs": [],
   "source": [
    "def calculate_naive_probabilities(training_features, training_targets):\n",
    "    classes = np.unique(training_targets)\n",
    "    num_classes = len(classes)\n",
    "    num_features = training_features.shape[1]\n",
    "\n",
    "    class_feature_probs = []\n",
    "\n",
    "    for c in classes:\n",
    "        #class_indices, count = np.where(training_targets == c)\n",
    "        class_indices = np.where(np.array(training_targets) == c)[0]\n",
    "        class_feature_probs_c = [] # list for class feature probabilities\n",
    "\n",
    "        for i in range(num_features):\n",
    "            # get rows for the corresponding class\n",
    "            # if all(v == 0 for v in training_features[class_indices, i]):\n",
    "            #     feature_values = [0, 1]\n",
    "            #     feature_probs=[1, 0]\n",
    "            # elif all(v == 1 for v in training_features[class_indices, i]):\n",
    "            #     feature_values = [0, 1]\n",
    "            #     feature_probs=[0, 1]\n",
    "            # else:\n",
    "            feature_values, feature_counts = np.unique(training_features[class_indices, i], return_counts=True)  \n",
    "            feature_probs = feature_counts / np.sum(feature_counts)\n",
    "            class_feature_probs_c.append((feature_values, feature_probs))\n",
    "           \n",
    "        class_feature_probs.append((c, class_feature_probs_c))\n",
    "\n",
    "    return class_feature_probs"
   ]
  },
  {
   "cell_type": "code",
   "execution_count": 17,
   "id": "062d7683-9134-48e3-981f-d2f168e34016",
   "metadata": {},
   "outputs": [
    {
     "data": {
      "text/plain": [
       "list"
      ]
     },
     "execution_count": 17,
     "metadata": {},
     "output_type": "execute_result"
    }
   ],
   "source": [
    "# 2. Calculate Naive Probabilities P(xi | y)\n",
    "class_feature_probs = calculate_naive_probabilities(training_features, training_target)\n",
    "type(class_feature_probs)"
   ]
  },
  {
   "cell_type": "markdown",
   "id": "38f0c266-4ef0-4ed2-89d0-8bc181aff8af",
   "metadata": {},
   "source": [
    "### Prob. of y given each feature in training set"
   ]
  },
  {
   "cell_type": "code",
   "execution_count": 23,
   "id": "4269dff7-eb46-41a4-91fa-210c5d2b69eb",
   "metadata": {},
   "outputs": [
    {
     "data": {
      "text/plain": [
       "81"
      ]
     },
     "execution_count": 23,
     "metadata": {},
     "output_type": "execute_result"
    }
   ],
   "source": [
    "len(class_feature_probs[0][1])"
   ]
  },
  {
   "cell_type": "code",
   "execution_count": 25,
   "id": "cef5a0d7-0e64-4181-b924-fcf64942fa3d",
   "metadata": {},
   "outputs": [
    {
     "data": {
      "text/html": [
       "<div>\n",
       "<style scoped>\n",
       "    .dataframe tbody tr th:only-of-type {\n",
       "        vertical-align: middle;\n",
       "    }\n",
       "\n",
       "    .dataframe tbody tr th {\n",
       "        vertical-align: top;\n",
       "    }\n",
       "\n",
       "    .dataframe thead th {\n",
       "        text-align: right;\n",
       "    }\n",
       "</style>\n",
       "<table border=\"1\" class=\"dataframe\">\n",
       "  <thead>\n",
       "    <tr style=\"text-align: right;\">\n",
       "      <th></th>\n",
       "      <th>0</th>\n",
       "      <th>1</th>\n",
       "    </tr>\n",
       "  </thead>\n",
       "  <tbody>\n",
       "    <tr>\n",
       "      <th>0</th>\n",
       "      <td>[0, 1]</td>\n",
       "      <td>[0.5877282987892468, 0.4122717012107531]</td>\n",
       "    </tr>\n",
       "    <tr>\n",
       "      <th>1</th>\n",
       "      <td>[0, 1]</td>\n",
       "      <td>[0.5954853273137698, 0.40451467268623026]</td>\n",
       "    </tr>\n",
       "    <tr>\n",
       "      <th>2</th>\n",
       "      <td>[0, 1]</td>\n",
       "      <td>[0.829591627334291, 0.17040837266570902]</td>\n",
       "    </tr>\n",
       "    <tr>\n",
       "      <th>3</th>\n",
       "      <td>[0, 1]</td>\n",
       "      <td>[0.9888364457213216, 0.011163554278678432]</td>\n",
       "    </tr>\n",
       "    <tr>\n",
       "      <th>4</th>\n",
       "      <td>[0, 1]</td>\n",
       "      <td>[0.9983583008413708, 0.0016416991586291811]</td>\n",
       "    </tr>\n",
       "    <tr>\n",
       "      <th>...</th>\n",
       "      <td>...</td>\n",
       "      <td>...</td>\n",
       "    </tr>\n",
       "    <tr>\n",
       "      <th>76</th>\n",
       "      <td>[0, 1]</td>\n",
       "      <td>[0.9515288323414735, 0.048471167658526576]</td>\n",
       "    </tr>\n",
       "    <tr>\n",
       "      <th>77</th>\n",
       "      <td>[0, 1]</td>\n",
       "      <td>[0.4859019084752719, 0.5140980915247281]</td>\n",
       "    </tr>\n",
       "    <tr>\n",
       "      <th>78</th>\n",
       "      <td>[0]</td>\n",
       "      <td>[1.0]</td>\n",
       "    </tr>\n",
       "    <tr>\n",
       "      <th>79</th>\n",
       "      <td>[0]</td>\n",
       "      <td>[1.0]</td>\n",
       "    </tr>\n",
       "    <tr>\n",
       "      <th>80</th>\n",
       "      <td>[1]</td>\n",
       "      <td>[1.0]</td>\n",
       "    </tr>\n",
       "  </tbody>\n",
       "</table>\n",
       "<p>81 rows × 2 columns</p>\n",
       "</div>"
      ],
      "text/plain": [
       "         0                                            1\n",
       "0   [0, 1]     [0.5877282987892468, 0.4122717012107531]\n",
       "1   [0, 1]    [0.5954853273137698, 0.40451467268623026]\n",
       "2   [0, 1]     [0.829591627334291, 0.17040837266570902]\n",
       "3   [0, 1]   [0.9888364457213216, 0.011163554278678432]\n",
       "4   [0, 1]  [0.9983583008413708, 0.0016416991586291811]\n",
       "..     ...                                          ...\n",
       "76  [0, 1]   [0.9515288323414735, 0.048471167658526576]\n",
       "77  [0, 1]     [0.4859019084752719, 0.5140980915247281]\n",
       "78     [0]                                        [1.0]\n",
       "79     [0]                                        [1.0]\n",
       "80     [1]                                        [1.0]\n",
       "\n",
       "[81 rows x 2 columns]"
      ]
     },
     "execution_count": 25,
     "metadata": {},
     "output_type": "execute_result"
    }
   ],
   "source": [
    "pd.DataFrame(class_feature_probs[0][1])"
   ]
  },
  {
   "cell_type": "code",
   "execution_count": 20,
   "id": "451cb9a3-9664-4ece-9478-52cc292d9f7c",
   "metadata": {},
   "outputs": [
    {
     "data": {
      "text/plain": [
       "[(array([0, 1]), array([0.5877283, 0.4122717])),\n",
       " (array([0, 1]), array([0.59548533, 0.40451467])),\n",
       " (array([0, 1]), array([0.82959163, 0.17040837])),\n",
       " (array([0, 1]), array([0.98883645, 0.01116355])),\n",
       " (array([0, 1]), array([0.9983583, 0.0016417])),\n",
       " (array([0, 1]), array([0.97315822, 0.02684178])),\n",
       " (array([0, 1]), array([0.9012518, 0.0987482])),\n",
       " (array([0, 1]), array([0.75115945, 0.24884055])),\n",
       " (array([0, 1]), array([0.76207675, 0.23792325])),\n",
       " (array([0, 1]), array([0.83447568, 0.16552432])),\n",
       " (array([0, 1]), array([0.96564745, 0.03435255])),\n",
       " (array([0, 1]), array([0.92957111, 0.07042889])),\n",
       " (array([0, 1]), array([0.97676996, 0.02323004])),\n",
       " (array([0, 1]), array([0.96601683, 0.03398317])),\n",
       " (array([0, 1]), array([0.99183255, 0.00816745])),\n",
       " (array([0, 1]), array([0.96388262, 0.03611738])),\n",
       " (array([0, 1]), array([0.9841576, 0.0158424])),\n",
       " (array([0, 1]), array([0.38206444, 0.61793556])),\n",
       " (array([0, 1]), array([0.73154115, 0.26845885])),\n",
       " (array([0, 1]), array([0.88828237, 0.11171763])),\n",
       " (array([0, 1]), array([0.99811205, 0.00188795])),\n",
       " (array([0, 1]), array([0.89595732, 0.10404268])),\n",
       " (array([0, 1]), array([0.76823312, 0.23176688])),\n",
       " (array([0, 1]), array([0.9427047, 0.0572953])),\n",
       " (array([0, 1]), array([0.84703468, 0.15296532])),\n",
       " (array([0, 1]), array([0.87223476, 0.12776524])),\n",
       " (array([0, 1]), array([0.96076339, 0.03923661])),\n",
       " (array([0, 1]), array([0.7135235, 0.2864765])),\n",
       " (array([0, 1]), array([9.99548533e-01, 4.51467269e-04])),\n",
       " (array([0, 1]), array([0.22310692, 0.77689308])),\n",
       " (array([0, 1]), array([0.77701621, 0.22298379])),\n",
       " (array([0, 1]), array([9.99876873e-01, 1.23127437e-04])),\n",
       " (array([0, 1]), array([0.54836856, 0.45163144])),\n",
       " (array([0, 1]), array([0.47498461, 0.52501539])),\n",
       " (array([0, 1]), array([0.97664683, 0.02335317])),\n",
       " (array([0, 1]), array([0.176811, 0.823189])),\n",
       " (array([0, 1]), array([0.84654217, 0.15345783])),\n",
       " (array([0, 1]), array([0.97664683, 0.02335317])),\n",
       " (array([0, 1]), array([0.60915247, 0.39084753])),\n",
       " (array([0, 1]), array([0.39084753, 0.60915247])),\n",
       " (array([0, 1]), array([0.64732198, 0.35267802])),\n",
       " (array([0, 1]), array([0.87133183, 0.12866817])),\n",
       " (array([0, 1]), array([0.82265545, 0.17734455])),\n",
       " (array([0, 1]), array([0.84851221, 0.15148779])),\n",
       " (array([0, 1]), array([0.98957521, 0.01042479])),\n",
       " (array([0, 1]), array([0.89727068, 0.10272932])),\n",
       " (array([0, 1]), array([0.99741432, 0.00258568])),\n",
       " (array([0, 1]), array([0.99289965, 0.00710035])),\n",
       " (array([0, 1]), array([0.94184281, 0.05815719])),\n",
       " (array([0, 1]), array([0.99117587, 0.00882413])),\n",
       " (array([0, 1]), array([0.7934332, 0.2065668])),\n",
       " (array([0, 1]), array([0.80311923, 0.19688077])),\n",
       " (array([0, 1]), array([0.80238046, 0.19761954])),\n",
       " (array([0, 1]), array([0.79109378, 0.20890622])),\n",
       " (array([0, 1]), array([0.80997332, 0.19002668])),\n",
       " (array([0, 1]), array([0.57036733, 0.42963267])),\n",
       " (array([0, 1]), array([0.7798071, 0.2201929])),\n",
       " (array([0, 1]), array([0.8827006, 0.1172994])),\n",
       " (array([0, 1]), array([0.76712497, 0.23287503])),\n",
       " (array([0, 1]), array([0.57943772, 0.42056228])),\n",
       " (array([0, 1]), array([0.74438744, 0.25561256])),\n",
       " (array([0, 1]), array([0.76285656, 0.23714344])),\n",
       " (array([0, 1]), array([0.91331828, 0.08668172])),\n",
       " (array([0, 1]), array([0.014488, 0.985512])),\n",
       " (array([0, 1]), array([0.98563513, 0.01436487])),\n",
       " (array([0, 1]), array([9.99876873e-01, 1.23127437e-04])),\n",
       " (array([0, 1]), array([0.1129489, 0.8870511])),\n",
       " (array([0, 1]), array([0.90092346, 0.09907654])),\n",
       " (array([0, 1]), array([0.98953417, 0.01046583])),\n",
       " (array([0, 1]), array([0.99667556, 0.00332444])),\n",
       " (array([0, 1]), array([9.99917915e-01, 8.20849579e-05])),\n",
       " (array([0, 1]), array([0.1129489, 0.8870511])),\n",
       " (array([0, 1]), array([0.89952801, 0.10047199])),\n",
       " (array([0, 1]), array([0.98752309, 0.01247691])),\n",
       " (array([0, 1]), array([0.37471783, 0.62528217])),\n",
       " (array([0, 1]), array([0.67375333, 0.32624667])),\n",
       " (array([0, 1]), array([0.95152883, 0.04847117])),\n",
       " (array([0, 1]), array([0.48590191, 0.51409809])),\n",
       " (array([0]), array([1.])),\n",
       " (array([0]), array([1.])),\n",
       " (array([1]), array([1.]))]"
      ]
     },
     "execution_count": 20,
     "metadata": {},
     "output_type": "execute_result"
    }
   ],
   "source": [
    "class_feature_probs[0][1] # Each of these is (unique_feat_vals), (prob_feat_vals)"
   ]
  },
  {
   "cell_type": "code",
   "execution_count": 24,
   "id": "e6f20f20-dc6f-45d9-a2cc-8c0b7cb98517",
   "metadata": {},
   "outputs": [
    {
     "data": {
      "text/plain": [
       "81"
      ]
     },
     "execution_count": 24,
     "metadata": {},
     "output_type": "execute_result"
    }
   ],
   "source": [
    "len(class_feature_probs[1][1])"
   ]
  },
  {
   "cell_type": "code",
   "execution_count": 22,
   "id": "2ed5d5e6-1c1b-4fd7-aa58-83a94851c1bc",
   "metadata": {},
   "outputs": [
    {
     "data": {
      "text/plain": [
       "[(array([0, 1]), array([0.66529858, 0.33470142])),\n",
       " (array([0, 1]), array([0.65717217, 0.34282783])),\n",
       " (array([0, 1]), array([0.76646829, 0.23353171])),\n",
       " (array([0, 1]), array([0.92370203, 0.07629797])),\n",
       " (array([0, 1]), array([0.98735892, 0.01264108])),\n",
       " (array([0, 1]), array([0.976811, 0.023189])),\n",
       " (array([0, 1]), array([0.92920172, 0.07079828])),\n",
       " (array([0, 1]), array([0.71315411, 0.28684589])),\n",
       " (array([0, 1]), array([0.86772009, 0.13227991])),\n",
       " (array([0, 1]), array([0.83693823, 0.16306177])),\n",
       " (array([0, 1]), array([0.90950133, 0.09049867])),\n",
       " (array([0, 1]), array([0.92731377, 0.07268623])),\n",
       " (array([0, 1]), array([0.97085984, 0.02914016])),\n",
       " (array([0, 1]), array([0.96757644, 0.03242356])),\n",
       " (array([0, 1]), array([0.99220193, 0.00779807])),\n",
       " (array([0, 1]), array([0.96987482, 0.03012518])),\n",
       " (array([0, 1]), array([0.93884671, 0.06115329])),\n",
       " (array([0, 1]), array([0.45356044, 0.54643956])),\n",
       " (array([0, 1]), array([0.65553047, 0.34446953])),\n",
       " (array([0, 1]), array([0.89402832, 0.10597168])),\n",
       " (array([0, 1]), array([0.99688077, 0.00311923])),\n",
       " (array([0, 1]), array([0.91179971, 0.08820029])),\n",
       " (array([0, 1]), array([0.77590806, 0.22409194])),\n",
       " (array([0, 1]), array([0.9552637, 0.0447363])),\n",
       " (array([0, 1]), array([0.90346809, 0.09653191])),\n",
       " (array([0, 1]), array([0.87141391, 0.12858609])),\n",
       " (array([0, 1]), array([0.94623435, 0.05376565])),\n",
       " (array([0, 1]), array([0.6371024, 0.3628976])),\n",
       " (array([0, 1]), array([0.99880977, 0.00119023])),\n",
       " (array([0, 1]), array([0.09694234, 0.90305766])),\n",
       " (array([0, 1]), array([0.90305766, 0.09694234])),\n",
       " (array([0]), array([1.])),\n",
       " (array([0, 1]), array([0.55871127, 0.44128873])),\n",
       " (array([0, 1]), array([0.46300021, 0.53699979])),\n",
       " (array([0, 1]), array([0.97828853, 0.02171147])),\n",
       " (array([0, 1]), array([0.16966961, 0.83033039])),\n",
       " (array([0, 1]), array([0.85204186, 0.14795814])),\n",
       " (array([0, 1]), array([0.97828853, 0.02171147])),\n",
       " (array([0, 1]), array([0.83390109, 0.16609891])),\n",
       " (array([0, 1]), array([0.16609891, 0.83390109])),\n",
       " (array([0, 1]), array([0.81104043, 0.18895957])),\n",
       " (array([0, 1]), array([0.87999179, 0.12000821])),\n",
       " (array([0, 1]), array([0.85930638, 0.14069362])),\n",
       " (array([0, 1]), array([0.85446337, 0.14553663])),\n",
       " (array([0, 1]), array([0.93145906, 0.06854094])),\n",
       " (array([0, 1]), array([0.91475477, 0.08524523])),\n",
       " (array([0, 1]), array([0.98046378, 0.01953622])),\n",
       " (array([0, 1]), array([0.94479787, 0.05520213])),\n",
       " (array([0, 1]), array([0.88368561, 0.11631439])),\n",
       " (array([0, 1]), array([0.94003694, 0.05996306])),\n",
       " (array([0, 1]), array([0.81288734, 0.18711266])),\n",
       " (array([0, 1]), array([0.79170942, 0.20829058])),\n",
       " (array([0, 1]), array([0.79614201, 0.20385799])),\n",
       " (array([0, 1]), array([0.77746768, 0.22253232])),\n",
       " (array([0, 1]), array([0.82179356, 0.17820644])),\n",
       " (array([0, 1]), array([0.70630002, 0.29369998])),\n",
       " (array([0, 1]), array([0.33092551, 0.66907449])),\n",
       " (array([0, 1]), array([9.99548533e-01, 4.51467269e-04])),\n",
       " (array([0, 1]), array([0.96322594, 0.03677406])),\n",
       " (array([0, 1]), array([0.50646419, 0.49353581])),\n",
       " (array([0, 1]), array([0.73326493, 0.26673507])),\n",
       " (array([0, 1]), array([0.80045147, 0.19954853])),\n",
       " (array([0, 1]), array([0.95981941, 0.04018059])),\n",
       " (array([0, 1]), array([0.21686846, 0.78313154])),\n",
       " (array([0, 1]), array([0.78563513, 0.21436487])),\n",
       " (array([0, 1]), array([0.99749641, 0.00250359])),\n",
       " (array([0, 1]), array([0.32961215, 0.67038785])),\n",
       " (array([0, 1]), array([0.78662015, 0.21337985])),\n",
       " (array([0, 1]), array([0.92140365, 0.07859635])),\n",
       " (array([0, 1]), array([0.96339011, 0.03660989])),\n",
       " (array([0, 1]), array([0.99897394, 0.00102606])),\n",
       " (array([0, 1]), array([0.32961215, 0.67038785])),\n",
       " (array([0, 1]), array([0.87243998, 0.12756002])),\n",
       " (array([0, 1]), array([0.79794788, 0.20205212])),\n",
       " (array([0, 1]), array([0.76105069, 0.23894931])),\n",
       " (array([0, 1]), array([0.48746152, 0.51253848])),\n",
       " (array([0, 1]), array([0.75148779, 0.24851221])),\n",
       " (array([0, 1]), array([0.61350298, 0.38649702])),\n",
       " (array([0]), array([1.])),\n",
       " (array([0]), array([1.])),\n",
       " (array([1]), array([1.]))]"
      ]
     },
     "execution_count": 22,
     "metadata": {},
     "output_type": "execute_result"
    }
   ],
   "source": [
    "class_feature_probs[1][1]"
   ]
  },
  {
   "cell_type": "markdown",
   "id": "5fa057fe-e30c-4bd0-b77d-546ef5dd931a",
   "metadata": {},
   "source": [
    "## Get predictions validation set"
   ]
  },
  {
   "cell_type": "markdown",
   "id": "28e28356-9b6d-4215-970e-5de4f03fac10",
   "metadata": {},
   "source": [
    "### fixed `calculate_validation_posterior_probabilities_thresholds()`"
   ]
  },
  {
   "cell_type": "code",
   "execution_count": 193,
   "id": "a341f5af-430c-4d17-a1a4-c43d7626b9f6",
   "metadata": {},
   "outputs": [],
   "source": [
    "# with thresholds\n",
    "def calculate_validation_posterior_probabilities_thresholds(threshold, training_class_priors, training_naive_probabilities, validation_features, validation_targets):\n",
    "    # find the highest log probability\n",
    "    # log2(P)y |x)~ log2(P(y)) + Sum of log2(P(xi|y)) / log2(P(x)))\n",
    "    classes = np.unique(validation_targets)\n",
    "    num_features = validation_features.shape[1]\n",
    "    predicted_posteriors = []\n",
    "    sample_output_prob = []\n",
    "\n",
    "    for sample in validation_features:\n",
    "        #for each row in validation features\n",
    "        sample = np.array(sample)\n",
    "        # print(f\"Sample is {sample}\")\n",
    "        posterior_validation_class_feature_probs = {}\n",
    "        term_3_vals = []\n",
    "        \n",
    "\n",
    "        for _, class_probs in enumerate(training_naive_probabilities):\n",
    "            c = class_probs[0]\n",
    "            # print(f\"For class {c}\")\n",
    "\n",
    "            # this is the class prior probability - TERM 1\n",
    "            log_of_class_posterior_prob_for_class = np.log(training_class_priors[c])\n",
    "            # print(f\"TERM 1: log_of_class_posterior_prob_for_class is {log_of_class_posterior_prob_for_class}\")\n",
    "            # i is the feature/column. Need to compute posteriors for each class. For that get the probability\n",
    "            # of the value in the validation feature from training set, take log, add them to get sum of logs of probabilies for each class\n",
    "            # predicted class is then a max of that sum + log of prior\n",
    "            \n",
    "            # ALEC: CALCULATE TERM 2\n",
    "            for i, (feature_values, feature_probs) in enumerate(class_probs[1]):\n",
    "                # print(f\"Training class {c}, Feature/column {i}:\")\n",
    "                # print(f\"-->Feature Values: {feature_values},  Feature Probabilities: {feature_probs}\")\n",
    "                value = sample[i] #  column i\n",
    "                # print(f\"sample value is {value}\")\n",
    "                index = np.where(feature_values == value)\n",
    "                # print(f\"index is {index}\")\n",
    "                \n",
    "                feature_in_class_prob = feature_probs[index]\n",
    "                if any(feature_in_class_prob) == False:\n",
    "                    feature_in_class_prob = 0\n",
    "                # print(f\"-->Validation feature value: {value}, Found in training probability: {feature_in_class_prob}, log: {np.log(feature_in_class_prob + 1e-10)}\")\n",
    "                # print(f\"feature_in_class_prob is {feature_in_class_prob}\")\n",
    "                \n",
    "                # for each value in each feature in the class \n",
    "                log_of_class_posterior_prob_for_class += np.log(feature_in_class_prob + 1e-10)\n",
    "            # print(f\"TERM 1+2: final log_of_class_posterior_prob_for_class is {log_of_class_posterior_prob_for_class}\")\n",
    "            term_3_vals.append(log_of_class_posterior_prob_for_class[0]) # ALEC: Get contribution to log(P(x))\n",
    "            # log_of_class_posterior_prob_for_class == TERM 2\n",
    "                \n",
    "            posterior_validation_class_feature_probs[c] = log_of_class_posterior_prob_for_class\n",
    "            # total_posterior_probs = (log_of_class_posterior_prob_for_class + sum(posterior_validation_class_feature_probs.values()))[0]\n",
    "            # print(f\"TERM 3 for class {c} is {total_posterior_probs}\")\n",
    "        \n",
    "        # print(f\"term_3 list is {term_3_vals}\")\n",
    "        \n",
    "        val_sum = 0\n",
    "        for val in term_3_vals:\n",
    "            val_sum += np.exp(val)\n",
    "            \n",
    "        term_3 = np.log(val_sum)\n",
    "        \n",
    "        # print(f\"Term1+2 for class 1 is {posterior_validation_class_feature_probs[1]}\")\n",
    "        class_1_prob = np.exp(posterior_validation_class_feature_probs[1] - term_3)\n",
    "        sample_output_prob.append(class_1_prob)\n",
    "\n",
    "\n",
    "    return np.array(sample_output_prob)"
   ]
  },
  {
   "cell_type": "code",
   "execution_count": 194,
   "id": "3f21549e-e256-4792-bb43-37ad330f4b98",
   "metadata": {},
   "outputs": [
    {
     "data": {
      "text/plain": [
       "array([[0.13947844],\n",
       "       [0.10484845],\n",
       "       [0.0125047 ],\n",
       "       ...,\n",
       "       [0.9731693 ],\n",
       "       [0.54778692],\n",
       "       [0.62369114]])"
      ]
     },
     "execution_count": 194,
     "metadata": {},
     "output_type": "execute_result"
    }
   ],
   "source": [
    "y_val_prob_pred = calculate_validation_posterior_probabilities_thresholds(0.5, class_priors, class_feature_probs, validation_features, validation_target)\n",
    "y_val_prob_pred"
   ]
  },
  {
   "cell_type": "code",
   "execution_count": 195,
   "id": "1d2e08b6-7378-436e-a874-8b3884891dc1",
   "metadata": {},
   "outputs": [
    {
     "data": {
      "text/plain": [
       "count    1.373000e+04\n",
       "mean     2.667707e-01\n",
       "std      3.739380e-01\n",
       "min      1.312438e-07\n",
       "25%      1.349116e-03\n",
       "50%      2.846806e-02\n",
       "75%      5.135738e-01\n",
       "max      1.000000e+00\n",
       "dtype: float64"
      ]
     },
     "execution_count": 195,
     "metadata": {},
     "output_type": "execute_result"
    }
   ],
   "source": [
    "pd.Series(y_val_prob_pred.flatten()).describe()"
   ]
  },
  {
   "cell_type": "code",
   "execution_count": 196,
   "id": "fff687d8-220e-4e6f-8409-d741875fd098",
   "metadata": {},
   "outputs": [
    {
     "data": {
      "text/plain": [
       "array([[0.13947844],\n",
       "       [0.10484845],\n",
       "       [0.0125047 ],\n",
       "       ...,\n",
       "       [0.9731693 ],\n",
       "       [0.54778692],\n",
       "       [0.62369114]])"
      ]
     },
     "execution_count": 196,
     "metadata": {},
     "output_type": "execute_result"
    }
   ],
   "source": [
    "y_val_prob_pred"
   ]
  },
  {
   "cell_type": "markdown",
   "id": "75f61e6f-39a6-4108-8dac-181c5a122d99",
   "metadata": {},
   "source": [
    "# Graph ROC and calc AUC"
   ]
  },
  {
   "cell_type": "code",
   "execution_count": 197,
   "id": "e5c5d74f-7872-4dba-8c38-b9c2f953338e",
   "metadata": {},
   "outputs": [],
   "source": [
    "#--------------------ROC AND FUNCTIONS--------------------#\n",
    "def calc_TPR(y_true, y_pred):\n",
    "    tp = np.sum((y_true == 1) & (y_pred == 1))\n",
    "    # print(f\"tp are {tp}\")\n",
    "    fn = np.sum((y_true == 1) & (y_pred == 0))\n",
    "    # print(f\"fn are {fn}\")\n",
    "    \n",
    "    return tp / (tp + fn)\n",
    "    \n",
    "\n",
    "def calc_FPR(y_true, y_pred):\n",
    "    fp = np.sum((y_true == 0) & (y_pred == 1))\n",
    "    # print(f\"fp are {fp}\")\n",
    "    tn = np.sum((y_true == 0) & (y_pred == 0))\n",
    "    # print(f\"tn are {tn}\")\n",
    "    \n",
    "    return fp / (fp + tn)"
   ]
  },
  {
   "cell_type": "code",
   "execution_count": 200,
   "id": "9ae55af3-09f9-42db-a19e-4a4f15112212",
   "metadata": {},
   "outputs": [],
   "source": [
    "def make_roc_df(y_val_prob, y_true_inp):\n",
    "    pred_dict = {\"threshold\": [],\n",
    "                 \"tpr\": [],\n",
    "                 \"fpr\": [],\n",
    "                }\n",
    "    \n",
    "    thresholds = [i/100 for i in range(0, 100+1)] # 0 to 1, by 0.01 steps\n",
    "    \n",
    "    for thr in thresholds:\n",
    "        pred_dict[\"threshold\"].append(thr)\n",
    "        y_pred_calc = np.where(y_val_prob >= thr, 1, 0)\n",
    "        \n",
    "        tpr = calc_TPR(y_true_inp, y_pred_calc)\n",
    "        pred_dict[\"tpr\"].append(tpr)\n",
    "        # print(f\"TPR is {tpr}\")\n",
    "        fpr = calc_FPR(y_true_inp, y_pred_calc)\n",
    "        pred_dict[\"fpr\"].append(fpr)\n",
    "        # print(f\"FPR is {fpr}\")\n",
    "    return pd.DataFrame(pred_dict)\n",
    "\n",
    "def calc_AUC(df_roc_inp):\n",
    "    \n",
    "    df_roc_inp_sorted = df_roc_inp.sort_values([\"fpr\"])\n",
    "    \n",
    "    auc = np.trapz(y=df_roc_inp_sorted[\"tpr\"], \n",
    "                   x=df_roc_inp_sorted[\"fpr\"],\n",
    "                  )\n",
    "    \n",
    "    return auc"
   ]
  },
  {
   "cell_type": "code",
   "execution_count": 201,
   "id": "80fc3e69-97c3-4fa1-b739-ca2e2b2cab1a",
   "metadata": {},
   "outputs": [
    {
     "data": {
      "text/html": [
       "<div>\n",
       "<style scoped>\n",
       "    .dataframe tbody tr th:only-of-type {\n",
       "        vertical-align: middle;\n",
       "    }\n",
       "\n",
       "    .dataframe tbody tr th {\n",
       "        vertical-align: top;\n",
       "    }\n",
       "\n",
       "    .dataframe thead th {\n",
       "        text-align: right;\n",
       "    }\n",
       "</style>\n",
       "<table border=\"1\" class=\"dataframe\">\n",
       "  <thead>\n",
       "    <tr style=\"text-align: right;\">\n",
       "      <th></th>\n",
       "      <th>threshold</th>\n",
       "      <th>tpr</th>\n",
       "      <th>fpr</th>\n",
       "    </tr>\n",
       "  </thead>\n",
       "  <tbody>\n",
       "    <tr>\n",
       "      <th>0</th>\n",
       "      <td>0.00</td>\n",
       "      <td>1.000000</td>\n",
       "      <td>1.000000</td>\n",
       "    </tr>\n",
       "    <tr>\n",
       "      <th>1</th>\n",
       "      <td>0.01</td>\n",
       "      <td>0.954751</td>\n",
       "      <td>0.547074</td>\n",
       "    </tr>\n",
       "    <tr>\n",
       "      <th>2</th>\n",
       "      <td>0.02</td>\n",
       "      <td>0.925663</td>\n",
       "      <td>0.480916</td>\n",
       "    </tr>\n",
       "    <tr>\n",
       "      <th>3</th>\n",
       "      <td>0.03</td>\n",
       "      <td>0.908856</td>\n",
       "      <td>0.443076</td>\n",
       "    </tr>\n",
       "    <tr>\n",
       "      <th>4</th>\n",
       "      <td>0.04</td>\n",
       "      <td>0.894635</td>\n",
       "      <td>0.417549</td>\n",
       "    </tr>\n",
       "    <tr>\n",
       "      <th>...</th>\n",
       "      <td>...</td>\n",
       "      <td>...</td>\n",
       "      <td>...</td>\n",
       "    </tr>\n",
       "    <tr>\n",
       "      <th>96</th>\n",
       "      <td>0.96</td>\n",
       "      <td>0.424047</td>\n",
       "      <td>0.074120</td>\n",
       "    </tr>\n",
       "    <tr>\n",
       "      <th>97</th>\n",
       "      <td>0.97</td>\n",
       "      <td>0.400776</td>\n",
       "      <td>0.066404</td>\n",
       "    </tr>\n",
       "    <tr>\n",
       "      <th>98</th>\n",
       "      <td>0.98</td>\n",
       "      <td>0.371687</td>\n",
       "      <td>0.058524</td>\n",
       "    </tr>\n",
       "    <tr>\n",
       "      <th>99</th>\n",
       "      <td>0.99</td>\n",
       "      <td>0.329670</td>\n",
       "      <td>0.048346</td>\n",
       "    </tr>\n",
       "    <tr>\n",
       "      <th>100</th>\n",
       "      <td>1.00</td>\n",
       "      <td>0.000000</td>\n",
       "      <td>0.000000</td>\n",
       "    </tr>\n",
       "  </tbody>\n",
       "</table>\n",
       "<p>101 rows × 3 columns</p>\n",
       "</div>"
      ],
      "text/plain": [
       "     threshold       tpr       fpr\n",
       "0         0.00  1.000000  1.000000\n",
       "1         0.01  0.954751  0.547074\n",
       "2         0.02  0.925663  0.480916\n",
       "3         0.03  0.908856  0.443076\n",
       "4         0.04  0.894635  0.417549\n",
       "..         ...       ...       ...\n",
       "96        0.96  0.424047  0.074120\n",
       "97        0.97  0.400776  0.066404\n",
       "98        0.98  0.371687  0.058524\n",
       "99        0.99  0.329670  0.048346\n",
       "100       1.00  0.000000  0.000000\n",
       "\n",
       "[101 rows x 3 columns]"
      ]
     },
     "execution_count": 201,
     "metadata": {},
     "output_type": "execute_result"
    }
   ],
   "source": [
    "df_roc_val = make_roc_df(y_val_prob_pred, validation_target)\n",
    "df_roc_val"
   ]
  },
  {
   "cell_type": "code",
   "execution_count": 202,
   "id": "6bad8984-94d4-446c-8e88-cf75ce2862c7",
   "metadata": {},
   "outputs": [],
   "source": [
    "df_roc_val[\"diff\"] = df_roc_val[\"tpr\"] - df_roc_val[\"fpr\"]"
   ]
  },
  {
   "cell_type": "code",
   "execution_count": 204,
   "id": "14487ed7-125f-45d9-acf5-0f9e00d72381",
   "metadata": {},
   "outputs": [
    {
     "data": {
      "image/png": "[encoded data removed]",
      "text/plain": [
       "<Figure size 576x360 with 1 Axes>"
      ]
     },
     "metadata": {
      "needs_background": "light"
     },
     "output_type": "display_data"
    }
   ],
   "source": [
    "model_name = \"Naive Bayes\"\n",
    "colors = {\"Random Forest\": \"blue\",\n",
    "          \"Logistic Regression\": \"green\",\n",
    "          \"Naive Bayes\": \"magenta\",\n",
    "         }\n",
    "\n",
    "# Make plot of ROC\n",
    "import matplotlib.pyplot as plt\n",
    "fig, ax = plt.subplots(figsize=(8, 5))\n",
    "\n",
    "ax.plot(df_roc_val[\"fpr\"], df_roc_val[\"tpr\"], \n",
    "        color=colors[model_name], \n",
    "        linestyle=\"solid\",\n",
    "        label=model_name\n",
    "       );\n",
    "\n",
    "# Find optimal threshold based on largest difference between TPR and FPR\n",
    "df_roc_val_sorted = df_roc_val.sort_values([\"diff\"], ascending=False).reset_index()\n",
    "\n",
    "# Get threshold, round to 2 decimal places\n",
    "optimal_threshold = np.around(df_roc_val_sorted.loc[0, [\"threshold\"]][\"threshold\"], 2)\n",
    "\n",
    "# Get fpr and tpr for optimal threshold\n",
    "optimal_threshold_fpr = df_roc_val_sorted.loc[0, [\"fpr\"]][\"fpr\"]\n",
    "optimal_threshold_tpr = df_roc_val_sorted.loc[0, [\"tpr\"]][\"tpr\"]\n",
    "\n",
    "# Plot point for optimal threshold\n",
    "ax.plot(optimal_threshold_fpr, \n",
    "        optimal_threshold_tpr, \n",
    "        color=colors[model_name],\n",
    "        marker=\"o\")\n",
    "\n",
    "# Calculate AUC\n",
    "def calc_AUC(df_roc_inp):\n",
    "    \n",
    "    df_roc_inp_sorted = df_roc_inp.sort_values([\"fpr\"])\n",
    "    \n",
    "    auc = np.trapz(y=df_roc_inp_sorted[\"tpr\"], \n",
    "                   x=df_roc_inp_sorted[\"fpr\"],\n",
    "                  )\n",
    "    \n",
    "    return auc\n",
    "\n",
    "auc_plot = np.around(calc_AUC(df_roc_val), decimals=2)\n",
    "\n",
    "# Label graph\n",
    "ax.set_xlabel(\"FPR\", fontsize=16)\n",
    "ax.set_ylabel(\"TPR\", fontsize=16)\n",
    "ax.set_title(f\"ROC for Optimized {model_name} (AUC = {auc_plot: .2f})\", \n",
    "             fontsize=18)\n",
    "\n",
    "ax.tick_params(axis=\"x\", labelsize=14)\n",
    "ax.tick_params(axis=\"y\", labelsize=14)\n",
    "\n",
    "ax.legend(fontsize=14)\n",
    "font = {\n",
    "        # \"family\": \"Arial\",\n",
    "        # \"weight\": \"bold\",\n",
    "        \"size\": 14}\n",
    "\n",
    "# Mess with text placement depending on the optimal threshold point\n",
    "plt.text(0.25, 0.7, \n",
    "         f\"Optimal Threshold = {optimal_threshold}\", font)\n",
    "plt.show()"
   ]
  }
 ],
 "metadata": {
  "kernelspec": {
   "display_name": "Python 3",
   "language": "python",
   "name": "python3"
  },
  "language_info": {
   "codemirror_mode": {
    "name": "ipython",
    "version": 3
   },
   "file_extension": ".py",
   "mimetype": "text/x-python",
   "name": "python",
   "nbconvert_exporter": "python",
   "pygments_lexer": "ipython3",
   "version": "3.9.13"
  }
 },
 "nbformat": 4,
 "nbformat_minor": 5
}
